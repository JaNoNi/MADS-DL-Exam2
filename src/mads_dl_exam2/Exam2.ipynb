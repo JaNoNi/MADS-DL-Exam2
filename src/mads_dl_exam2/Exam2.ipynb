{
 "cells": [
  {
   "cell_type": "markdown",
   "id": "fe12c956-bdc7-405f-89bb-73656f14b7bb",
   "metadata": {},
   "source": [
    "# Can the codon frequency be used to predict the DNAtype and Kingdom? This time using Deep Learning.\n",
    "---\n",
    "<b>MADS-DL Portfolio-Exam Part 2<br>\n",
    "Janosch Höfer, 938969</b>"
   ]
  },
  {
   "cell_type": "markdown",
   "id": "a1c21e64-cf43-466b-87d1-0d211e1b06c3",
   "metadata": {},
   "source": [
    "## Table of contents\n",
    "\n",
    "- [Introduction](#intro) <br>\n",
    "- [1. Data preparation](#data-prep) <br>\n",
    "- [2. Parameters](#parameters) <br>\n",
    "- [3. Split Data](#split) <br>\n",
    "- [4. Model setup and Hyperparameter Optimization](#model-setup) <br>\n",
    "   - [4.1. Neural Network](#NN) <br>\n",
    "   - [4.2. Cross-validation](#CV) <br>\n",
    "- [5. Model Evaluation](#eval) <br>\n",
    "   - [5.1. Codon-Kingdom](#eval-king) <br>\n",
    "   - [5.2. Codon-DNAtype](#eval-dna) <br>\n",
    "- [6. Result](#result)<br>\n",
    "    - [6.1 Results-Kingdom](#res-king)<br>\n",
    "    - [6.2 Results-DNAtype](#res-dna)<br>\n",
    "    - [6.3 Discussion](#dis)<br>\n",
    "- [References](#ref)<br>"
   ]
  },
  {
   "cell_type": "markdown",
   "id": "45565406-0b20-4068-9147-9ad734714b8b",
   "metadata": {},
   "source": [
    "## Introduction\n",
    "\n",
    "In the last semester we have investigated the application of different Machine Learning algorithms to predict the DNAtype and Kingdom given the Codon frequencies. We did show that although some algorithms were not applicable, k-Nearest neighbor and Random Forest were able to make accurate predictions. The dataset we used then was the <b>Codon usage</b> dataset that had been downloaded from the UCI Machine Learning Repository <a href='https://archive.ics.uci.edu/ml/datasets/Codon+usage'>[1]</a>. We validated Khomtchouk BB. approach <a href='https://www.biorxiv.org/content/10.1101/2020.10.26.356295v1.full.pdf'>[2]</a> and confirmed his results. Now we want to solve the same problem using sophisticated Deep Learning Neural Networks and explore where these outperform the classical Machine Learning models and where they might have some shortcomings.<br>\n",
    "<br>\n",
    "<b>DISCLAIMER: This notebook trains the final two models live. In total they required 70-90 minutes of training time.</b>"
   ]
  },
  {
   "cell_type": "code",
   "execution_count": 1,
   "id": "837f2b17-b3b1-4f94-8a56-2bd201616743",
   "metadata": {},
   "outputs": [],
   "source": [
    "# Standard libraries\n",
    "import copy\n",
    "import logging\n",
    "import os\n",
    "import pickle\n",
    "import random\n",
    "from datetime import timedelta\n",
    "from timeit import default_timer as timer\n",
    "\n",
    "import matplotlib.pyplot as plt\n",
    "import numpy as np\n",
    "import pandas as pd\n",
    "import psutil\n",
    "import pytorch_lightning as pl\n",
    "import seaborn as sns\n",
    "import torch\n",
    "import torch.nn.functional as F\n",
    "from IPython.display import Image\n",
    "from pytorch_lightning.callbacks import ModelCheckpoint\n",
    "from pytorch_lightning.callbacks.early_stopping import EarlyStopping\n",
    "from pytorch_lightning.loggers import TensorBoardLogger\n",
    "from sklearn.model_selection import StratifiedKFold, train_test_split\n",
    "from sklearn.preprocessing import MinMaxScaler\n",
    "from sklearn.utils.class_weight import compute_class_weight\n",
    "\n",
    "# Own classes and functions\n",
    "from neuralnet import NeuralNet, load_best_model\n",
    "from utils import DataModule, compute_metrics, plot_multi_conf"
   ]
  },
  {
   "cell_type": "markdown",
   "id": "b042cfde-a070-4d63-9fd5-f210280cbeeb",
   "metadata": {},
   "source": [
    "For our networks we will be using Pytorch Lightning. Pytorch Lightning is a high-level interface for PyTorch, which goal is to make Deep Learning (DL) faster to develop and more scalable [[3]](https://www.pytorchlightning.ai/). Once we start with the Hyperparameter optimization, we will take a look at how it differs from the typical PyTorch workflow. Before we start we set all seeds and define on which devices our computations are run. "
   ]
  },
  {
   "cell_type": "code",
   "execution_count": 2,
   "id": "6ae4e9c8-eff3-431a-9d8c-3f3919f94e78",
   "metadata": {},
   "outputs": [
    {
     "data": {
      "text/plain": [
       "device(type='cpu')"
      ]
     },
     "execution_count": 2,
     "metadata": {},
     "output_type": "execute_result"
    }
   ],
   "source": [
    "logging.getLogger(\"pytorch_lightning\").setLevel(logging.WARNING)\n",
    "RANDOM_SEED = 42\n",
    "pl.seed_everything(RANDOM_SEED, workers=True)\n",
    "# device = torch.device(\"cuda\" if torch.cuda.is_available() else \"cpu\")\n",
    "device = torch.device(\"cpu\")\n",
    "device"
   ]
  },
  {
   "cell_type": "markdown",
   "id": "1dd367da-546e-4fbd-bb13-c1cea73c65fc",
   "metadata": {},
   "source": [
    "Before we continue with our experiments we first use the Machine Learning results from last time as our baseline. For the kingdoms k-Nearest Neighbor (KNN) and Random Forest (RF) achieved very good results. The Balanced Accuracy for KNN was at an impressive 1.0 and for Random Forest at 0.74. The Confusion Matrices below show that KNN was even able to predict underrepresented classes. Because the baseline for the kingdoms is unbeatable, we will just try to achieve the same results. "
   ]
  },
  {
   "cell_type": "code",
   "execution_count": 3,
   "id": "d45a4fcd-2522-4b34-a311-b7358d0452d5",
   "metadata": {
    "tags": []
   },
   "outputs": [
    {
     "data": {
      "text/html": [
       "<div>\n",
       "<style scoped>\n",
       "    .dataframe tbody tr th:only-of-type {\n",
       "        vertical-align: middle;\n",
       "    }\n",
       "\n",
       "    .dataframe tbody tr th {\n",
       "        vertical-align: top;\n",
       "    }\n",
       "\n",
       "    .dataframe thead th {\n",
       "        text-align: right;\n",
       "    }\n",
       "</style>\n",
       "<table border=\"1\" class=\"dataframe\">\n",
       "  <thead>\n",
       "    <tr style=\"text-align: right;\">\n",
       "      <th></th>\n",
       "      <th>Accuracy</th>\n",
       "      <th>Balanced Accuracy</th>\n",
       "      <th>Recall</th>\n",
       "      <th>ROC AUC</th>\n",
       "      <th>Time Training</th>\n",
       "      <th>Time Predicting</th>\n",
       "    </tr>\n",
       "    <tr>\n",
       "      <th>Model</th>\n",
       "      <th></th>\n",
       "      <th></th>\n",
       "      <th></th>\n",
       "      <th></th>\n",
       "      <th></th>\n",
       "      <th></th>\n",
       "    </tr>\n",
       "  </thead>\n",
       "  <tbody>\n",
       "    <tr>\n",
       "      <th>k-Nearest Neighbor</th>\n",
       "      <td>1.0000</td>\n",
       "      <td>1.0000</td>\n",
       "      <td>1.0000</td>\n",
       "      <td>1.0000</td>\n",
       "      <td>0.002773</td>\n",
       "      <td>0.286271</td>\n",
       "    </tr>\n",
       "    <tr>\n",
       "      <th>Random Forest</th>\n",
       "      <td>0.9660</td>\n",
       "      <td>0.7418</td>\n",
       "      <td>0.9660</td>\n",
       "      <td>0.9979</td>\n",
       "      <td>4.113501</td>\n",
       "      <td>0.060584</td>\n",
       "    </tr>\n",
       "    <tr>\n",
       "      <th>Naive Bayes</th>\n",
       "      <td>0.5072</td>\n",
       "      <td>0.2369</td>\n",
       "      <td>0.5072</td>\n",
       "      <td>0.8371</td>\n",
       "      <td>0.005549</td>\n",
       "      <td>0.001122</td>\n",
       "    </tr>\n",
       "  </tbody>\n",
       "</table>\n",
       "</div>"
      ],
      "text/plain": [
       "                    Accuracy  Balanced Accuracy  Recall  ROC AUC  \\\n",
       "Model                                                              \n",
       "k-Nearest Neighbor    1.0000             1.0000  1.0000   1.0000   \n",
       "Random Forest         0.9660             0.7418  0.9660   0.9979   \n",
       "Naive Bayes           0.5072             0.2369  0.5072   0.8371   \n",
       "\n",
       "                    Time Training  Time Predicting  \n",
       "Model                                               \n",
       "k-Nearest Neighbor       0.002773         0.286271  \n",
       "Random Forest            4.113501         0.060584  \n",
       "Naive Bayes              0.005549         0.001122  "
      ]
     },
     "execution_count": 3,
     "metadata": {},
     "output_type": "execute_result"
    }
   ],
   "source": [
    "ml_king = pd.read_parquet(\"data/ml_king\", engine=\"pyarrow\")\n",
    "ml_king"
   ]
  },
  {
   "cell_type": "code",
   "execution_count": 4,
   "id": "b567b82d-2d36-408e-86ee-89449cf8cf5d",
   "metadata": {
    "tags": []
   },
   "outputs": [
    {
     "data": {
      "image/png": "[encoded data removed]",
      "text/plain": [
       "<IPython.core.display.Image object>"
      ]
     },
     "execution_count": 4,
     "metadata": {},
     "output_type": "execute_result"
    }
   ],
   "source": [
    "Image(filename=\"data/king_plot.png\")"
   ]
  },
  {
   "cell_type": "markdown",
   "id": "fe4c47d6-c694-4d97-ab3e-58f3af3a023b",
   "metadata": {},
   "source": [
    "Although the results for the DNA types were not as good, they were still very impressive. The Balanced Accuracy for KNN was 0.85 and for RF 0.77. All models struggled with the underrepresented classes. Because these metrics are not as perfect as those for the kingdoms we will try to beat them with our DL models."
   ]
  },
  {
   "cell_type": "code",
   "execution_count": 5,
   "id": "6a9546a8-f9d9-45fd-8f18-767e2e7f3084",
   "metadata": {
    "tags": []
   },
   "outputs": [
    {
     "data": {
      "text/html": [
       "<div>\n",
       "<style scoped>\n",
       "    .dataframe tbody tr th:only-of-type {\n",
       "        vertical-align: middle;\n",
       "    }\n",
       "\n",
       "    .dataframe tbody tr th {\n",
       "        vertical-align: top;\n",
       "    }\n",
       "\n",
       "    .dataframe thead th {\n",
       "        text-align: right;\n",
       "    }\n",
       "</style>\n",
       "<table border=\"1\" class=\"dataframe\">\n",
       "  <thead>\n",
       "    <tr style=\"text-align: right;\">\n",
       "      <th></th>\n",
       "      <th>Accuracy</th>\n",
       "      <th>Balanced Accuracy</th>\n",
       "      <th>Recall</th>\n",
       "      <th>ROC AUC</th>\n",
       "      <th>Time Training</th>\n",
       "      <th>Time Predicting</th>\n",
       "    </tr>\n",
       "    <tr>\n",
       "      <th>Model</th>\n",
       "      <th></th>\n",
       "      <th></th>\n",
       "      <th></th>\n",
       "      <th></th>\n",
       "      <th></th>\n",
       "      <th></th>\n",
       "    </tr>\n",
       "  </thead>\n",
       "  <tbody>\n",
       "    <tr>\n",
       "      <th>k-Nearest Neighbor</th>\n",
       "      <td>0.9926</td>\n",
       "      <td>0.8505</td>\n",
       "      <td>0.9926</td>\n",
       "      <td>0.9402</td>\n",
       "      <td>0.001921</td>\n",
       "      <td>0.299211</td>\n",
       "    </tr>\n",
       "    <tr>\n",
       "      <th>Random Forest</th>\n",
       "      <td>0.9867</td>\n",
       "      <td>0.7732</td>\n",
       "      <td>0.9867</td>\n",
       "      <td>0.9679</td>\n",
       "      <td>3.817273</td>\n",
       "      <td>0.041311</td>\n",
       "    </tr>\n",
       "    <tr>\n",
       "      <th>Naive Bayes</th>\n",
       "      <td>0.9324</td>\n",
       "      <td>0.5895</td>\n",
       "      <td>0.9324</td>\n",
       "      <td>0.9071</td>\n",
       "      <td>0.005380</td>\n",
       "      <td>0.001296</td>\n",
       "    </tr>\n",
       "  </tbody>\n",
       "</table>\n",
       "</div>"
      ],
      "text/plain": [
       "                    Accuracy  Balanced Accuracy  Recall  ROC AUC  \\\n",
       "Model                                                              \n",
       "k-Nearest Neighbor    0.9926             0.8505  0.9926   0.9402   \n",
       "Random Forest         0.9867             0.7732  0.9867   0.9679   \n",
       "Naive Bayes           0.9324             0.5895  0.9324   0.9071   \n",
       "\n",
       "                    Time Training  Time Predicting  \n",
       "Model                                               \n",
       "k-Nearest Neighbor       0.001921         0.299211  \n",
       "Random Forest            3.817273         0.041311  \n",
       "Naive Bayes              0.005380         0.001296  "
      ]
     },
     "execution_count": 5,
     "metadata": {},
     "output_type": "execute_result"
    }
   ],
   "source": [
    "ml_dna = pd.read_parquet(\"data/ml_dna\", engine=\"pyarrow\")\n",
    "ml_dna"
   ]
  },
  {
   "cell_type": "code",
   "execution_count": 6,
   "id": "358a98a9-6489-432e-9654-a723d4f1ee2b",
   "metadata": {
    "tags": []
   },
   "outputs": [
    {
     "data": {
      "image/png": "[encoded data removed]",
      "text/plain": [
       "<IPython.core.display.Image object>"
      ]
     },
     "execution_count": 6,
     "metadata": {},
     "output_type": "execute_result"
    }
   ],
   "source": [
    "Image(filename=\"data/dna_plot.png\")"
   ]
  },
  {
   "cell_type": "markdown",
   "id": "efb875a5-27c3-44cd-972b-239a85a220d1",
   "metadata": {},
   "source": [
    "---\n",
    "<a id='data-prep'></a>"
   ]
  },
  {
   "cell_type": "markdown",
   "id": "219a6311-f408-4997-bcd4-e84bd851164b",
   "metadata": {},
   "source": [
    "## 1. Data preparation\n",
    "\n",
    "Similar to last time we must remove two invalid rows: 487 (SpeciesID: 12440) and 5064 (SpeciesID: 353569). Both have invalid data in the UUU and UUC column (column 5 and 6). There probably is a misplaced semicolon in the preceding SpeciesName column. Just to be safe both rows are dropped from the dataset and will not be included in any further analysis"
   ]
  },
  {
   "cell_type": "code",
   "execution_count": 7,
   "id": "b343883b-b500-4e8d-ac98-d806b9966bdc",
   "metadata": {
    "tags": []
   },
   "outputs": [
    {
     "name": "stderr",
     "output_type": "stream",
     "text": [
      "C:\\Users\\hjano\\AppData\\Local\\Temp\\ipykernel_1728\\3303151036.py:1: DtypeWarning: Columns (5,6) have mixed types. Specify dtype option on import or set low_memory=False.\n",
      "  data_raw = pd.read_csv(\"data/codon_usage.csv\", sep=\",\")\n"
     ]
    }
   ],
   "source": [
    "data_raw = pd.read_csv(\"data/codon_usage.csv\", sep=\",\")"
   ]
  },
  {
   "cell_type": "code",
   "execution_count": 8,
   "id": "cb775ba8-8906-4bea-8c1b-06b891a72fc2",
   "metadata": {},
   "outputs": [],
   "source": [
    "# I removed the steps to identify the invalid rows to make the code more concise\n",
    "# The CSV indices start at 1, while pandas start 0\n",
    "bad_rows = [\n",
    "    data_raw[data_raw[\"UUU\"] == \"non-B hepatitis virus\"].index[0] + 1,\n",
    "    data_raw[data_raw[\"UUU\"] == \"12;I\"].index[0] + 1,\n",
    "]\n",
    "data_raw = pd.read_csv(\"data/codon_usage.csv\", sep=\",\", skiprows=bad_rows)"
   ]
  },
  {
   "cell_type": "markdown",
   "id": "a822cae8-796a-4ee8-95ef-114cc62eb6dd",
   "metadata": {},
   "source": [
    "After dropping the two rows, the dataset contains 13.026 organisms with 69 attributes. The first two attributes are our labels: <b>Kingdom</b> and <b>DNAtype</b>. Next are the SpeciesID, Ncodons and SpeciesName, that provide additional information for the various organisms, but will not be used in our experiments. The last 64 attributes are the Codon frequencies."
   ]
  },
  {
   "cell_type": "code",
   "execution_count": 9,
   "id": "31308625-6c54-4313-b888-350fed7ecc3f",
   "metadata": {},
   "outputs": [
    {
     "data": {
      "text/html": [
       "<div>\n",
       "<style scoped>\n",
       "    .dataframe tbody tr th:only-of-type {\n",
       "        vertical-align: middle;\n",
       "    }\n",
       "\n",
       "    .dataframe tbody tr th {\n",
       "        vertical-align: top;\n",
       "    }\n",
       "\n",
       "    .dataframe thead th {\n",
       "        text-align: right;\n",
       "    }\n",
       "</style>\n",
       "<table border=\"1\" class=\"dataframe\">\n",
       "  <thead>\n",
       "    <tr style=\"text-align: right;\">\n",
       "      <th></th>\n",
       "      <th>Kingdom</th>\n",
       "      <th>DNAtype</th>\n",
       "      <th>SpeciesID</th>\n",
       "      <th>Ncodons</th>\n",
       "      <th>SpeciesName</th>\n",
       "      <th>UUU</th>\n",
       "      <th>UUC</th>\n",
       "      <th>UUA</th>\n",
       "      <th>UUG</th>\n",
       "      <th>CUU</th>\n",
       "      <th>...</th>\n",
       "      <th>CGG</th>\n",
       "      <th>AGA</th>\n",
       "      <th>AGG</th>\n",
       "      <th>GAU</th>\n",
       "      <th>GAC</th>\n",
       "      <th>GAA</th>\n",
       "      <th>GAG</th>\n",
       "      <th>UAA</th>\n",
       "      <th>UAG</th>\n",
       "      <th>UGA</th>\n",
       "    </tr>\n",
       "  </thead>\n",
       "  <tbody>\n",
       "    <tr>\n",
       "      <th>0</th>\n",
       "      <td>vrl</td>\n",
       "      <td>0</td>\n",
       "      <td>100217</td>\n",
       "      <td>1995</td>\n",
       "      <td>Epizootic haematopoietic necrosis virus</td>\n",
       "      <td>0.01654</td>\n",
       "      <td>0.01203</td>\n",
       "      <td>0.00050</td>\n",
       "      <td>0.00351</td>\n",
       "      <td>0.01203</td>\n",
       "      <td>...</td>\n",
       "      <td>0.00451</td>\n",
       "      <td>0.01303</td>\n",
       "      <td>0.03559</td>\n",
       "      <td>0.01003</td>\n",
       "      <td>0.04612</td>\n",
       "      <td>0.01203</td>\n",
       "      <td>0.04361</td>\n",
       "      <td>0.00251</td>\n",
       "      <td>0.00050</td>\n",
       "      <td>0.00000</td>\n",
       "    </tr>\n",
       "    <tr>\n",
       "      <th>1</th>\n",
       "      <td>vrl</td>\n",
       "      <td>0</td>\n",
       "      <td>100220</td>\n",
       "      <td>1474</td>\n",
       "      <td>Bohle iridovirus</td>\n",
       "      <td>0.02714</td>\n",
       "      <td>0.01357</td>\n",
       "      <td>0.00068</td>\n",
       "      <td>0.00678</td>\n",
       "      <td>0.00407</td>\n",
       "      <td>...</td>\n",
       "      <td>0.00136</td>\n",
       "      <td>0.01696</td>\n",
       "      <td>0.03596</td>\n",
       "      <td>0.01221</td>\n",
       "      <td>0.04545</td>\n",
       "      <td>0.01560</td>\n",
       "      <td>0.04410</td>\n",
       "      <td>0.00271</td>\n",
       "      <td>0.00068</td>\n",
       "      <td>0.00000</td>\n",
       "    </tr>\n",
       "    <tr>\n",
       "      <th>2</th>\n",
       "      <td>vrl</td>\n",
       "      <td>0</td>\n",
       "      <td>100755</td>\n",
       "      <td>4862</td>\n",
       "      <td>Sweet potato leaf curl virus</td>\n",
       "      <td>0.01974</td>\n",
       "      <td>0.02180</td>\n",
       "      <td>0.01357</td>\n",
       "      <td>0.01543</td>\n",
       "      <td>0.00782</td>\n",
       "      <td>...</td>\n",
       "      <td>0.00596</td>\n",
       "      <td>0.01974</td>\n",
       "      <td>0.02489</td>\n",
       "      <td>0.03126</td>\n",
       "      <td>0.02036</td>\n",
       "      <td>0.02242</td>\n",
       "      <td>0.02468</td>\n",
       "      <td>0.00391</td>\n",
       "      <td>0.00000</td>\n",
       "      <td>0.00144</td>\n",
       "    </tr>\n",
       "    <tr>\n",
       "      <th>3</th>\n",
       "      <td>vrl</td>\n",
       "      <td>0</td>\n",
       "      <td>100880</td>\n",
       "      <td>1915</td>\n",
       "      <td>Northern cereal mosaic virus</td>\n",
       "      <td>0.01775</td>\n",
       "      <td>0.02245</td>\n",
       "      <td>0.01619</td>\n",
       "      <td>0.00992</td>\n",
       "      <td>0.01567</td>\n",
       "      <td>...</td>\n",
       "      <td>0.00366</td>\n",
       "      <td>0.01410</td>\n",
       "      <td>0.01671</td>\n",
       "      <td>0.03760</td>\n",
       "      <td>0.01932</td>\n",
       "      <td>0.03029</td>\n",
       "      <td>0.03446</td>\n",
       "      <td>0.00261</td>\n",
       "      <td>0.00157</td>\n",
       "      <td>0.00000</td>\n",
       "    </tr>\n",
       "    <tr>\n",
       "      <th>4</th>\n",
       "      <td>vrl</td>\n",
       "      <td>0</td>\n",
       "      <td>100887</td>\n",
       "      <td>22831</td>\n",
       "      <td>Soil-borne cereal mosaic virus</td>\n",
       "      <td>0.02816</td>\n",
       "      <td>0.01371</td>\n",
       "      <td>0.00767</td>\n",
       "      <td>0.03679</td>\n",
       "      <td>0.01380</td>\n",
       "      <td>...</td>\n",
       "      <td>0.00604</td>\n",
       "      <td>0.01494</td>\n",
       "      <td>0.01734</td>\n",
       "      <td>0.04148</td>\n",
       "      <td>0.02483</td>\n",
       "      <td>0.03359</td>\n",
       "      <td>0.03679</td>\n",
       "      <td>0.00000</td>\n",
       "      <td>0.00044</td>\n",
       "      <td>0.00131</td>\n",
       "    </tr>\n",
       "  </tbody>\n",
       "</table>\n",
       "<p>5 rows × 69 columns</p>\n",
       "</div>"
      ],
      "text/plain": [
       "  Kingdom  DNAtype  SpeciesID  Ncodons  \\\n",
       "0     vrl        0     100217     1995   \n",
       "1     vrl        0     100220     1474   \n",
       "2     vrl        0     100755     4862   \n",
       "3     vrl        0     100880     1915   \n",
       "4     vrl        0     100887    22831   \n",
       "\n",
       "                               SpeciesName      UUU      UUC      UUA  \\\n",
       "0  Epizootic haematopoietic necrosis virus  0.01654  0.01203  0.00050   \n",
       "1                         Bohle iridovirus  0.02714  0.01357  0.00068   \n",
       "2             Sweet potato leaf curl virus  0.01974  0.02180  0.01357   \n",
       "3             Northern cereal mosaic virus  0.01775  0.02245  0.01619   \n",
       "4           Soil-borne cereal mosaic virus  0.02816  0.01371  0.00767   \n",
       "\n",
       "       UUG      CUU  ...      CGG      AGA      AGG      GAU      GAC  \\\n",
       "0  0.00351  0.01203  ...  0.00451  0.01303  0.03559  0.01003  0.04612   \n",
       "1  0.00678  0.00407  ...  0.00136  0.01696  0.03596  0.01221  0.04545   \n",
       "2  0.01543  0.00782  ...  0.00596  0.01974  0.02489  0.03126  0.02036   \n",
       "3  0.00992  0.01567  ...  0.00366  0.01410  0.01671  0.03760  0.01932   \n",
       "4  0.03679  0.01380  ...  0.00604  0.01494  0.01734  0.04148  0.02483   \n",
       "\n",
       "       GAA      GAG      UAA      UAG      UGA  \n",
       "0  0.01203  0.04361  0.00251  0.00050  0.00000  \n",
       "1  0.01560  0.04410  0.00271  0.00068  0.00000  \n",
       "2  0.02242  0.02468  0.00391  0.00000  0.00144  \n",
       "3  0.03029  0.03446  0.00261  0.00157  0.00000  \n",
       "4  0.03359  0.03679  0.00000  0.00044  0.00131  \n",
       "\n",
       "[5 rows x 69 columns]"
      ]
     },
     "execution_count": 9,
     "metadata": {},
     "output_type": "execute_result"
    }
   ],
   "source": [
    "data_raw.head()"
   ]
  },
  {
   "cell_type": "markdown",
   "id": "f94ab83a-3d00-49e7-be72-0bd0bf6aeae7",
   "metadata": {},
   "source": [
    "We have 11 different kingdoms."
   ]
  },
  {
   "cell_type": "code",
   "execution_count": 10,
   "id": "9c262eae-9654-47ad-bcb6-9f670816c9a7",
   "metadata": {},
   "outputs": [
    {
     "data": {
      "text/plain": [
       "(array(['arc', 'bct', 'inv', 'mam', 'phg', 'plm', 'pln', 'pri', 'rod',\n",
       "        'vrl', 'vrt'], dtype=object),\n",
       " 11)"
      ]
     },
     "execution_count": 10,
     "metadata": {},
     "output_type": "execute_result"
    }
   ],
   "source": [
    "kingdom = data_raw[\"Kingdom\"]\n",
    "np.sort(kingdom.unique()), kingdom.unique().size"
   ]
  },
  {
   "cell_type": "markdown",
   "id": "f9af8f37-9946-45f9-8a43-d113678a34c9",
   "metadata": {},
   "source": [
    "And 11 different DNAtypes."
   ]
  },
  {
   "cell_type": "code",
   "execution_count": 11,
   "id": "3686da95-d61e-4c04-9004-e011687b0964",
   "metadata": {},
   "outputs": [
    {
     "data": {
      "text/plain": [
       "(array([ 0,  1,  2,  3,  4,  5,  6,  7,  9, 11, 12], dtype=int64), 11)"
      ]
     },
     "execution_count": 11,
     "metadata": {},
     "output_type": "execute_result"
    }
   ],
   "source": [
    "dnatype = data_raw[\"DNAtype\"]\n",
    "np.sort(dnatype.unique()), dnatype.unique().size"
   ]
  },
  {
   "cell_type": "markdown",
   "id": "aef2d95d-106e-4021-991a-a70e90493973",
   "metadata": {},
   "source": [
    "We will start with the <b>Kingdom</b> labels, because those had the best results with the ML models. Again we must transform them into a numerical representation."
   ]
  },
  {
   "cell_type": "code",
   "execution_count": 12,
   "id": "307bf4ec-a770-440b-9146-b7929c670bf0",
   "metadata": {},
   "outputs": [],
   "source": [
    "data_king = data_raw.copy(deep=True)\n",
    "condition = []\n",
    "choices = []\n",
    "# Setup conditions and choices\n",
    "for count, key in enumerate(kingdom.unique()):\n",
    "    condition.append(data_raw[\"Kingdom\"] == key)  # unique kingdom 3-letter codes\n",
    "    choices.append(count)  # integer now assigned to kingdom\n",
    "\n",
    "data_king[\"Kingdom_num\"] = np.select(condition, choices)"
   ]
  },
  {
   "cell_type": "markdown",
   "id": "b800f12d-ced2-4eb5-bbfb-74b0d0baa017",
   "metadata": {},
   "source": [
    "We define which label we will use and drop everything but the Codon frequencies and the numerical labels."
   ]
  },
  {
   "cell_type": "code",
   "execution_count": 13,
   "id": "8f471fc4-26f8-4530-98ee-89f6e1b491e6",
   "metadata": {},
   "outputs": [],
   "source": [
    "labels = [\"Kingdom_num\"]\n",
    "complete_data = data_king.iloc[:, 5:]\n",
    "targets = data_king.loc[:, labels]"
   ]
  },
  {
   "cell_type": "markdown",
   "id": "87d98730-fa67-4cf2-a136-0455839786d2",
   "metadata": {},
   "source": [
    "---\n",
    "<a id='parameters'></a>"
   ]
  },
  {
   "cell_type": "markdown",
   "id": "88f4244e-27b7-4193-bfbd-b2126c9d0085",
   "metadata": {},
   "source": [
    "## 2. Parameters\n",
    "\n",
    "We define some global parameters. The number of features (n=64) defines the input size of our first layer and the number of classes (n=11) the output size of our output layer. The number of cores is used for the the data loaders."
   ]
  },
  {
   "cell_type": "code",
   "execution_count": 14,
   "id": "991fa5be-8104-456e-a10d-6547cd71b929",
   "metadata": {},
   "outputs": [],
   "source": [
    "# Parameters\n",
    "feature_n = complete_data.drop(labels, axis=1).shape[1]  # Input_size\n",
    "classes_n = len(targets.drop_duplicates(subset=labels))  # Output_size\n",
    "num_epochs = 75\n",
    "test_size = 0.3\n",
    "val_size = 0.2\n",
    "core_n = psutil.cpu_count(logical=False)\n",
    "if core_n > 1:\n",
    "    core_n = core_n - 1"
   ]
  },
  {
   "cell_type": "markdown",
   "id": "1ce3eafc-7803-40b0-bc30-45d3f3a6836a",
   "metadata": {},
   "source": [
    "---\n",
    "<a id='split'></a>"
   ]
  },
  {
   "cell_type": "markdown",
   "id": "e52933ec-e3bb-47f4-be2e-216e90d59c81",
   "metadata": {},
   "source": [
    "## 3. Split Data\n",
    "\n",
    "Other than last time the splitting strategy is different. Additionally to the train/test split, the train data is further split into train and validation data. The validation data is used during the training to find the best model."
   ]
  },
  {
   "cell_type": "code",
   "execution_count": 15,
   "id": "e15ca746-0446-49b8-9b5c-8467bcc11c95",
   "metadata": {},
   "outputs": [],
   "source": [
    "DF_train_full, DF_test = train_test_split(\n",
    "    complete_data,\n",
    "    test_size=test_size,\n",
    "    shuffle=True,\n",
    "    random_state=RANDOM_SEED,\n",
    "    stratify=targets,\n",
    ")"
   ]
  },
  {
   "cell_type": "code",
   "execution_count": 16,
   "id": "10a2d724-1b0a-4a39-8802-a1b790952ebd",
   "metadata": {},
   "outputs": [],
   "source": [
    "DF_train, DF_val, = train_test_split(\n",
    "    DF_train_full,\n",
    "    test_size=val_size,\n",
    "    shuffle=True,\n",
    "    random_state=RANDOM_SEED,\n",
    "    stratify=DF_train_full[labels],\n",
    ")"
   ]
  },
  {
   "cell_type": "markdown",
   "id": "c1ca1c70-0731-4ae8-a925-cde46e30bc18",
   "metadata": {},
   "source": [
    "After splitting the amount of samples in each set appears to have a reasonable size."
   ]
  },
  {
   "cell_type": "code",
   "execution_count": 17,
   "id": "a5d0514e-e6a8-466b-8a86-8abc8418bda3",
   "metadata": {
    "tags": []
   },
   "outputs": [
    {
     "name": "stdout",
     "output_type": "stream",
     "text": [
      "train_data:\t size 7294\n",
      "val_data:\t size 1824\n",
      "test_data:\t size 3908\n"
     ]
    }
   ],
   "source": [
    "df_dict = {\"train\": DF_train, \"val\": DF_val, \"test\": DF_test}\n",
    "for key, df_ in df_dict.items():\n",
    "    print(f\"{key}_data:\\t size {df_.shape[0]:>3}\")"
   ]
  },
  {
   "cell_type": "markdown",
   "id": "12173238-4318-4357-a62c-8bb7b0832880",
   "metadata": {},
   "source": [
    "Looking at the class distribution we see the same problem as when doing the Machine Learning experiments. The dataset is highly imbalanced. Not only is the imbalance a problem, many classes also have very few samples. This could become a problem for Neural Network. Especially the classes 1, 3, 4, 9 and 10 have very few samples. But since our ML models were able to handle these highly underrepresented classes we will keep them in our dataset. "
   ]
  },
  {
   "cell_type": "code",
   "execution_count": 18,
   "id": "3f881d11-59b6-4384-911e-3cc94b7382c6",
   "metadata": {
    "tags": []
   },
   "outputs": [
    {
     "data": {
      "image/png": "[encoded data removed]",
      "text/plain": [
       "<Figure size 1440x480 with 3 Axes>"
      ]
     },
     "metadata": {
      "needs_background": "light"
     },
     "output_type": "display_data"
    }
   ],
   "source": [
    "fig, axes = plt.subplots(1, 3, figsize=(18, 6), dpi=80)\n",
    "for ax, (key, df_) in enumerate(df_dict.items()):\n",
    "    sns.countplot(data=df_, x=labels[0], ax=axes[ax])\n",
    "    axes[ax].set(title=f\"{key}_data class distribution\")\n",
    "    axes[ax].set_ylabel(\"Count\")\n",
    "    plt.plot()"
   ]
  },
  {
   "cell_type": "markdown",
   "id": "e908d668-416b-4979-9675-6bb3a0e09a0e",
   "metadata": {},
   "source": [
    "---\n",
    "<a id='model-setup'></a>"
   ]
  },
  {
   "cell_type": "markdown",
   "id": "96d331f6-088f-4ef5-b3e9-d219c8efac0f",
   "metadata": {},
   "source": [
    "## 4. Model setup and Hyperparameter Optimization\n",
    "<a id='NN'></a>\n",
    "### 4.1 Neural Network\n",
    "\n",
    "As mentioned earlier we will use Pytorch Lightning for our Neural Network design. It divides our experiment into 3 distinct modules: the model, the datamodule and the trainer. The first module, the model, is very similar to the PyTorch approach. We start with a model that initializes the layers and has a forward method. Here we have designed the layer architecture in a way that it can be dynamically changed. The model always has one input- and output-layer, but the number of hidden layers can be changed. When adding a new hidden layer it is added behind the first layer and its input- and output-size changes by powers of two. An example is shown below.<br>\n",
    "<img src='img/layer_architecture.svg' /><br>\n",
    "If we would add another layer, it would appear in front of the other hidden layers with and inputsize of 256 and outputsize of 128. This model is then loaded into a Pytorch Lightning module. Inside this module we define our training, validation and test steps. Again the logic is similar to PyTorch, but instead of a for-loop we define specific methods (e.g. <code>training_step()</code>) that handle the calculation of the loss and logging of the various metrics. <br>\n",
    "The second module is our data loader. This Pytorch Lightning Class combines the 3 different dataloaders into one class which is then given to our third and last module: the trainer. The trainer handles all the details of the training loop. It automatically enables/disables grads, runs the training, validation and test dataloaders, calls the callbacks at appropriate times and handles the computation on different devices.<br>\n",
    "Everything is put together in the <code>train_codons()</code>-function below. Additionally a Tensorboard Logger and two callbacks are used. The first callback, ModelCheckpoint, observes the validation loss and saves the model with the lowest. The second, EarlyStopping, also observes the validation loss and stops the training loop should it no longer improve after x epochs. "
   ]
  },
  {
   "cell_type": "code",
   "execution_count": 19,
   "id": "8bef609c-64d2-4321-b800-2d37b1b5e50d",
   "metadata": {},
   "outputs": [],
   "source": [
    "def train_codons(\n",
    "    df_train,\n",
    "    df_val,\n",
    "    df_test,\n",
    "    layer_count,\n",
    "    lr,\n",
    "    batch_size,\n",
    "    num_epochs=10,\n",
    "    core_n=1,\n",
    "    weights=None,\n",
    "    dev=False,\n",
    "    cv=None,\n",
    "    stop=15,\n",
    "):\n",
    "    pl.seed_everything(RANDOM_SEED, workers=True)\n",
    "    if weights is not None:\n",
    "        w_ind = True\n",
    "    else:\n",
    "        w_ind = False\n",
    "    # DataModule\n",
    "    data_module = DataModule(\n",
    "        train_df=df_train,\n",
    "        test_df=df_test,\n",
    "        val_df=df_val,\n",
    "        classes=labels,\n",
    "        num_workers=core_n,\n",
    "        batch_size=batch_size,\n",
    "        device=device,\n",
    "    )\n",
    "    # Model\n",
    "    model = NeuralNet(\n",
    "        feature_n, classes_n, lr, layer_count=layer_count, weights=weights, device=device\n",
    "    )\n",
    "    # Callbacks\n",
    "    logger = TensorBoardLogger(\n",
    "        save_dir=\"logs\",\n",
    "        name=\"DL-Exam2\",\n",
    "        version=f\"layer={layer_count}-lr={lr}-batchsize={batch_size}-cv={cv}-weights={w_ind}\",\n",
    "    )\n",
    "    checkpoint_callback = ModelCheckpoint(\n",
    "        filename=\"best-checkpoint\",\n",
    "        save_top_k=1,\n",
    "        monitor=\"val_loss\",\n",
    "        mode=\"min\",\n",
    "    )\n",
    "    stop_callback = EarlyStopping(monitor=\"val_loss\", mode=\"min\", verbose=False, patience=stop)\n",
    "    callbacks = [checkpoint_callback, stop_callback]\n",
    "    if device.type == \"cuda\":\n",
    "        cuda_kwargs = {\"accelerator\": \"gpu\", \"devices\": 1}\n",
    "    else:\n",
    "        cuda_kwargs = dict()\n",
    "    # Trainer\n",
    "    trainer = pl.Trainer(\n",
    "        max_epochs=num_epochs,\n",
    "        logger=logger,\n",
    "        log_every_n_steps=20,\n",
    "        callbacks=callbacks,\n",
    "        fast_dev_run=dev,  # If true, runs only 1 epoch/batch for testing\n",
    "        enable_progress_bar=False,\n",
    "        enable_model_summary=False,\n",
    "        **cuda_kwargs,\n",
    "    )\n",
    "    trainer.fit(model, data_module)\n",
    "    # End of Training loop\n",
    "\n",
    "    params = {\n",
    "        \"hidden_layer\": layer_count,\n",
    "        \"learning_rate\": lr,\n",
    "        \"batch_size\": batch_size,\n",
    "        \"fold\": cv,\n",
    "        \"weights\": w_ind,\n",
    "    }\n",
    "    if dev:\n",
    "        return {**params}\n",
    "    else:\n",
    "        version = (\n",
    "            f\"layer={layer_count}-\"\n",
    "            f\"lr={lr}-\"\n",
    "            f\"batchsize={batch_size}-\"\n",
    "            f\"cv={cv}-\"\n",
    "            f\"weights={w_ind}\"\n",
    "        )\n",
    "        ckpt_path = f\"logs/DL-Exam2/{version}/checkpoints/best-checkpoint.ckpt\"\n",
    "        val_res = trainer.validate(datamodule=data_module, verbose=False, ckpt_path=ckpt_path)\n",
    "        test_res = trainer.test(datamodule=data_module, verbose=False, ckpt_path=ckpt_path)\n",
    "\n",
    "        return {**params, **val_res[0], **test_res[0]}"
   ]
  },
  {
   "cell_type": "markdown",
   "id": "37947671-a053-4dfd-a646-f5fc0c4e4a29",
   "metadata": {},
   "source": [
    "For the Hyperparameter (HP) optimization different approaches have been tested, but to ease the reproducibility on other devices a custom solution was chosen. But Pytorch Lightning is compatible with [Ray Tune](https://docs.ray.io/en/latest/tune/index.html) and Hyperparameter optimization was possible with Ray Tune.<br>\n",
    "In our method four different HPs were optimized, the <b>number of hidden layers</b>, the <b>learning rate</b>, the <b>batch size</b> of the dataloaders, and whether <b>weights</b> were applied to the loss function. For each combination of HPs a model was trained the best combination chosen for the final models."
   ]
  },
  {
   "cell_type": "code",
   "execution_count": 20,
   "id": "907ac6d6-65c7-4ae7-b8ed-786ce5023866",
   "metadata": {},
   "outputs": [],
   "source": [
    "def hp_optimization(config, df_train, df_val, df_test, num_epochs, dev=False, cv=None, stop=15):\n",
    "    runs = list()\n",
    "    param_count = 0\n",
    "    for zdx in range(len(config[\"hidden_layer\"])):\n",
    "        for xdx in range(len(config[\"learning_rate\"])):\n",
    "            for ydx in range(len(config[\"batch_size\"])):\n",
    "                for wdx in range(len(config[\"weights\"])):\n",
    "                    layer_count = config[\"hidden_layer\"][zdx]\n",
    "                    lr = config[\"learning_rate\"][xdx]\n",
    "                    batch_size = config[\"batch_size\"][ydx]\n",
    "                    weights = config[\"weights\"][wdx]\n",
    "                    start = timer()\n",
    "                    runs.append(\n",
    "                        train_codons(\n",
    "                            df_train=df_train,\n",
    "                            df_val=df_val,\n",
    "                            df_test=df_test,\n",
    "                            layer_count=layer_count,\n",
    "                            lr=lr,\n",
    "                            batch_size=batch_size,\n",
    "                            num_epochs=num_epochs,\n",
    "                            core_n=core_n,\n",
    "                            weights=weights,\n",
    "                            dev=dev,\n",
    "                            cv=cv,\n",
    "                            stop=stop,\n",
    "                        )\n",
    "                    )\n",
    "                    param_count += 1\n",
    "                    model_train_time = timer() - start\n",
    "                    if weights is not None:\n",
    "                        w_ind = True\n",
    "                    else:\n",
    "                        w_ind = False\n",
    "                    print(\n",
    "                        f\"Finished training of the HP-combination: {param_count:02d} - fold: {cv}\\n\"\n",
    "                        f\"Trained on hidden layers: {layer_count:>2} learning-rate: {lr:.4f} batch-size: {batch_size:>3} weights:{w_ind}\\n\"\n",
    "                        f\"Training time: {str(timedelta(seconds=model_train_time))}\"\n",
    "                    )\n",
    "    return runs"
   ]
  },
  {
   "cell_type": "code",
   "execution_count": 21,
   "id": "ee351189-d9c9-4bb7-af05-f9e00f94246e",
   "metadata": {},
   "outputs": [],
   "source": [
    "def combine_to_df(left_array, right_array, labels):\n",
    "    df = pd.merge(\n",
    "        pd.DataFrame(left_array).iloc[:, :-1],\n",
    "        right_array.reset_index().drop(columns=\"index\")[labels],\n",
    "        left_index=True,\n",
    "        right_index=True,\n",
    "    )\n",
    "    return df"
   ]
  },
  {
   "cell_type": "markdown",
   "id": "7cebb3ab-3bed-4d33-a962-a722bae1bcbd",
   "metadata": {},
   "source": [
    "<a id='CV'></a>\n",
    "### 4.2 Cross-Validation"
   ]
  },
  {
   "cell_type": "markdown",
   "id": "8c1a5c82-da15-497b-be9d-2e77c8d593d3",
   "metadata": {},
   "source": [
    "Before the final Hyperparameter optimization configuration used in this notebook, many more combinations were tested. All tested HP are listed below in the <code>pre_config</code> dictionary."
   ]
  },
  {
   "cell_type": "code",
   "execution_count": 22,
   "id": "452641bd-6f83-4c33-8cc5-f97e5092d748",
   "metadata": {},
   "outputs": [],
   "source": [
    "pre_config = {\n",
    "    \"hidden_layer\": [2, 3, 4],\n",
    "    \"learning_rate\": [1e-1, 1e-2, 1e-3, 1e-4],\n",
    "    \"batch_size\": [32, 64, 128],\n",
    "    \"weights\": [None, \"king_weights_t\"],\n",
    "}"
   ]
  },
  {
   "cell_type": "markdown",
   "id": "70cf5c1e-290e-4214-8c04-0e36927965e3",
   "metadata": {},
   "source": [
    "During those pre Hyperparameter optimizations some interesting insights could be gained. <br>\n",
    "The first was that in the first runs the model did not learn. Changing the learning rate or letting it learn for more epochs did not affect the models ability to learn anything from the data. The problem here was that the data was not scaled. Although the Codon frequencies were in the preferable range of 0-1, most of them were close to zero. Also most of the highest values are around 0.1-0.2. And this is very plausible, with 64 possible Codons the average frequency is ~0.016. Scaling the data did increase the models ability to learn drastically."
   ]
  },
  {
   "cell_type": "code",
   "execution_count": 23,
   "id": "e608b312-4ad1-49b2-9c9e-1ccbabff5aa8",
   "metadata": {},
   "outputs": [
    {
     "data": {
      "text/html": [
       "<div>\n",
       "<style scoped>\n",
       "    .dataframe tbody tr th:only-of-type {\n",
       "        vertical-align: middle;\n",
       "    }\n",
       "\n",
       "    .dataframe tbody tr th {\n",
       "        vertical-align: top;\n",
       "    }\n",
       "\n",
       "    .dataframe thead th {\n",
       "        text-align: right;\n",
       "    }\n",
       "</style>\n",
       "<table border=\"1\" class=\"dataframe\">\n",
       "  <thead>\n",
       "    <tr style=\"text-align: right;\">\n",
       "      <th></th>\n",
       "      <th>UUU</th>\n",
       "      <th>UUC</th>\n",
       "      <th>UUA</th>\n",
       "      <th>UUG</th>\n",
       "      <th>CUU</th>\n",
       "      <th>CUC</th>\n",
       "      <th>CUA</th>\n",
       "      <th>CUG</th>\n",
       "      <th>AUU</th>\n",
       "      <th>AUC</th>\n",
       "      <th>...</th>\n",
       "      <th>AGA</th>\n",
       "      <th>AGG</th>\n",
       "      <th>GAU</th>\n",
       "      <th>GAC</th>\n",
       "      <th>GAA</th>\n",
       "      <th>GAG</th>\n",
       "      <th>UAA</th>\n",
       "      <th>UAG</th>\n",
       "      <th>UGA</th>\n",
       "      <th>Kingdom_num</th>\n",
       "    </tr>\n",
       "  </thead>\n",
       "  <tbody>\n",
       "    <tr>\n",
       "      <th>count</th>\n",
       "      <td>13026.000000</td>\n",
       "      <td>13026.000000</td>\n",
       "      <td>13026.000000</td>\n",
       "      <td>13026.000000</td>\n",
       "      <td>13026.000000</td>\n",
       "      <td>13026.000000</td>\n",
       "      <td>13026.000000</td>\n",
       "      <td>13026.000000</td>\n",
       "      <td>13026.000000</td>\n",
       "      <td>13026.000000</td>\n",
       "      <td>...</td>\n",
       "      <td>13026.000000</td>\n",
       "      <td>13026.000000</td>\n",
       "      <td>13026.000000</td>\n",
       "      <td>13026.000000</td>\n",
       "      <td>13026.000000</td>\n",
       "      <td>13026.000000</td>\n",
       "      <td>13026.000000</td>\n",
       "      <td>13026.000000</td>\n",
       "      <td>13026.000000</td>\n",
       "      <td>13026.000000</td>\n",
       "    </tr>\n",
       "    <tr>\n",
       "      <th>mean</th>\n",
       "      <td>0.024818</td>\n",
       "      <td>0.023440</td>\n",
       "      <td>0.020637</td>\n",
       "      <td>0.014104</td>\n",
       "      <td>0.017821</td>\n",
       "      <td>0.018287</td>\n",
       "      <td>0.019045</td>\n",
       "      <td>0.018452</td>\n",
       "      <td>0.028355</td>\n",
       "      <td>0.025038</td>\n",
       "      <td>...</td>\n",
       "      <td>0.009930</td>\n",
       "      <td>0.006423</td>\n",
       "      <td>0.024181</td>\n",
       "      <td>0.021164</td>\n",
       "      <td>0.028291</td>\n",
       "      <td>0.021683</td>\n",
       "      <td>0.001640</td>\n",
       "      <td>0.000590</td>\n",
       "      <td>0.006179</td>\n",
       "      <td>3.856211</td>\n",
       "    </tr>\n",
       "    <tr>\n",
       "      <th>std</th>\n",
       "      <td>0.017628</td>\n",
       "      <td>0.011598</td>\n",
       "      <td>0.020710</td>\n",
       "      <td>0.009280</td>\n",
       "      <td>0.010587</td>\n",
       "      <td>0.014573</td>\n",
       "      <td>0.024252</td>\n",
       "      <td>0.016578</td>\n",
       "      <td>0.017507</td>\n",
       "      <td>0.014596</td>\n",
       "      <td>...</td>\n",
       "      <td>0.008574</td>\n",
       "      <td>0.006388</td>\n",
       "      <td>0.013826</td>\n",
       "      <td>0.013039</td>\n",
       "      <td>0.014343</td>\n",
       "      <td>0.015019</td>\n",
       "      <td>0.001785</td>\n",
       "      <td>0.000882</td>\n",
       "      <td>0.010345</td>\n",
       "      <td>2.848169</td>\n",
       "    </tr>\n",
       "    <tr>\n",
       "      <th>min</th>\n",
       "      <td>0.000000</td>\n",
       "      <td>0.000000</td>\n",
       "      <td>0.000000</td>\n",
       "      <td>0.000000</td>\n",
       "      <td>0.000000</td>\n",
       "      <td>0.000000</td>\n",
       "      <td>0.000000</td>\n",
       "      <td>0.000000</td>\n",
       "      <td>0.000000</td>\n",
       "      <td>0.000000</td>\n",
       "      <td>...</td>\n",
       "      <td>0.000000</td>\n",
       "      <td>0.000000</td>\n",
       "      <td>0.000000</td>\n",
       "      <td>0.000000</td>\n",
       "      <td>0.000000</td>\n",
       "      <td>0.000000</td>\n",
       "      <td>0.000000</td>\n",
       "      <td>0.000000</td>\n",
       "      <td>0.000000</td>\n",
       "      <td>0.000000</td>\n",
       "    </tr>\n",
       "    <tr>\n",
       "      <th>25%</th>\n",
       "      <td>0.013910</td>\n",
       "      <td>0.015380</td>\n",
       "      <td>0.005610</td>\n",
       "      <td>0.007103</td>\n",
       "      <td>0.010890</td>\n",
       "      <td>0.007830</td>\n",
       "      <td>0.005302</td>\n",
       "      <td>0.007180</td>\n",
       "      <td>0.016370</td>\n",
       "      <td>0.015130</td>\n",
       "      <td>...</td>\n",
       "      <td>0.001690</td>\n",
       "      <td>0.001170</td>\n",
       "      <td>0.012390</td>\n",
       "      <td>0.011860</td>\n",
       "      <td>0.017360</td>\n",
       "      <td>0.009710</td>\n",
       "      <td>0.000560</td>\n",
       "      <td>0.000000</td>\n",
       "      <td>0.000410</td>\n",
       "      <td>2.000000</td>\n",
       "    </tr>\n",
       "    <tr>\n",
       "      <th>50%</th>\n",
       "      <td>0.021750</td>\n",
       "      <td>0.021905</td>\n",
       "      <td>0.015260</td>\n",
       "      <td>0.013360</td>\n",
       "      <td>0.016130</td>\n",
       "      <td>0.014560</td>\n",
       "      <td>0.009680</td>\n",
       "      <td>0.012800</td>\n",
       "      <td>0.025480</td>\n",
       "      <td>0.021540</td>\n",
       "      <td>...</td>\n",
       "      <td>0.009270</td>\n",
       "      <td>0.004545</td>\n",
       "      <td>0.025425</td>\n",
       "      <td>0.019070</td>\n",
       "      <td>0.026085</td>\n",
       "      <td>0.020540</td>\n",
       "      <td>0.001380</td>\n",
       "      <td>0.000420</td>\n",
       "      <td>0.001130</td>\n",
       "      <td>5.000000</td>\n",
       "    </tr>\n",
       "    <tr>\n",
       "      <th>75%</th>\n",
       "      <td>0.031308</td>\n",
       "      <td>0.029210</td>\n",
       "      <td>0.029495</td>\n",
       "      <td>0.019808</td>\n",
       "      <td>0.022730</td>\n",
       "      <td>0.025110</td>\n",
       "      <td>0.017255</td>\n",
       "      <td>0.024325</td>\n",
       "      <td>0.038117</td>\n",
       "      <td>0.031860</td>\n",
       "      <td>...</td>\n",
       "      <td>0.015928</td>\n",
       "      <td>0.010250</td>\n",
       "      <td>0.034190</td>\n",
       "      <td>0.027690</td>\n",
       "      <td>0.036800</td>\n",
       "      <td>0.031128</td>\n",
       "      <td>0.002370</td>\n",
       "      <td>0.000830</td>\n",
       "      <td>0.002890</td>\n",
       "      <td>6.000000</td>\n",
       "    </tr>\n",
       "    <tr>\n",
       "      <th>max</th>\n",
       "      <td>0.217300</td>\n",
       "      <td>0.091690</td>\n",
       "      <td>0.151330</td>\n",
       "      <td>0.101190</td>\n",
       "      <td>0.089780</td>\n",
       "      <td>0.100350</td>\n",
       "      <td>0.163920</td>\n",
       "      <td>0.107370</td>\n",
       "      <td>0.154060</td>\n",
       "      <td>0.088600</td>\n",
       "      <td>...</td>\n",
       "      <td>0.098830</td>\n",
       "      <td>0.058430</td>\n",
       "      <td>0.185660</td>\n",
       "      <td>0.113840</td>\n",
       "      <td>0.144890</td>\n",
       "      <td>0.158550</td>\n",
       "      <td>0.045200</td>\n",
       "      <td>0.025610</td>\n",
       "      <td>0.106700</td>\n",
       "      <td>10.000000</td>\n",
       "    </tr>\n",
       "  </tbody>\n",
       "</table>\n",
       "<p>8 rows × 65 columns</p>\n",
       "</div>"
      ],
      "text/plain": [
       "                UUU           UUC           UUA           UUG           CUU  \\\n",
       "count  13026.000000  13026.000000  13026.000000  13026.000000  13026.000000   \n",
       "mean       0.024818      0.023440      0.020637      0.014104      0.017821   \n",
       "std        0.017628      0.011598      0.020710      0.009280      0.010587   \n",
       "min        0.000000      0.000000      0.000000      0.000000      0.000000   \n",
       "25%        0.013910      0.015380      0.005610      0.007103      0.010890   \n",
       "50%        0.021750      0.021905      0.015260      0.013360      0.016130   \n",
       "75%        0.031308      0.029210      0.029495      0.019808      0.022730   \n",
       "max        0.217300      0.091690      0.151330      0.101190      0.089780   \n",
       "\n",
       "                CUC           CUA           CUG           AUU           AUC  \\\n",
       "count  13026.000000  13026.000000  13026.000000  13026.000000  13026.000000   \n",
       "mean       0.018287      0.019045      0.018452      0.028355      0.025038   \n",
       "std        0.014573      0.024252      0.016578      0.017507      0.014596   \n",
       "min        0.000000      0.000000      0.000000      0.000000      0.000000   \n",
       "25%        0.007830      0.005302      0.007180      0.016370      0.015130   \n",
       "50%        0.014560      0.009680      0.012800      0.025480      0.021540   \n",
       "75%        0.025110      0.017255      0.024325      0.038117      0.031860   \n",
       "max        0.100350      0.163920      0.107370      0.154060      0.088600   \n",
       "\n",
       "       ...           AGA           AGG           GAU           GAC  \\\n",
       "count  ...  13026.000000  13026.000000  13026.000000  13026.000000   \n",
       "mean   ...      0.009930      0.006423      0.024181      0.021164   \n",
       "std    ...      0.008574      0.006388      0.013826      0.013039   \n",
       "min    ...      0.000000      0.000000      0.000000      0.000000   \n",
       "25%    ...      0.001690      0.001170      0.012390      0.011860   \n",
       "50%    ...      0.009270      0.004545      0.025425      0.019070   \n",
       "75%    ...      0.015928      0.010250      0.034190      0.027690   \n",
       "max    ...      0.098830      0.058430      0.185660      0.113840   \n",
       "\n",
       "                GAA           GAG           UAA           UAG           UGA  \\\n",
       "count  13026.000000  13026.000000  13026.000000  13026.000000  13026.000000   \n",
       "mean       0.028291      0.021683      0.001640      0.000590      0.006179   \n",
       "std        0.014343      0.015019      0.001785      0.000882      0.010345   \n",
       "min        0.000000      0.000000      0.000000      0.000000      0.000000   \n",
       "25%        0.017360      0.009710      0.000560      0.000000      0.000410   \n",
       "50%        0.026085      0.020540      0.001380      0.000420      0.001130   \n",
       "75%        0.036800      0.031128      0.002370      0.000830      0.002890   \n",
       "max        0.144890      0.158550      0.045200      0.025610      0.106700   \n",
       "\n",
       "        Kingdom_num  \n",
       "count  13026.000000  \n",
       "mean       3.856211  \n",
       "std        2.848169  \n",
       "min        0.000000  \n",
       "25%        2.000000  \n",
       "50%        5.000000  \n",
       "75%        6.000000  \n",
       "max       10.000000  \n",
       "\n",
       "[8 rows x 65 columns]"
      ]
     },
     "execution_count": 23,
     "metadata": {},
     "output_type": "execute_result"
    }
   ],
   "source": [
    "complete_data.describe()"
   ]
  },
  {
   "cell_type": "markdown",
   "id": "dc2eb118-8c0d-4535-8445-8ea73cc55cfe",
   "metadata": {},
   "source": [
    "The next insight was that the number of <b>hidden layers</b> did not change the models performance noticeably. Although the number of learnable parameters increased from 7.000 to 90.000 the model performed very similar. Therefore the number of hidden layers was fixed to <b>3</b>. Maybe even more layers could have improved the models performance, but this was not further investigated.<br>\n",
    "The third HP had a small influence on the model. Smaller batch sizes increased the rate with which the model learned. Also, because the smaller batch size resulted in more \"erratic\" learning steps, it had the possibility to move the model out of a local minimum. This was possible because, although in total the model was moving into the right direction, the small batches could force it to learn into the \"wrong\" direction and \"escape\" a local minimum. Therefore the <b>batch size</b> was fixed to <b>32</b>.<br>\n",
    "The learning rate had the biggest influence on the models performance. Choosing a learning rate that was too high or too low prevented the model from successfully learning. The two <b>learning rates 0.01</b> and <b>0.001</b> showed the best results.<br>\n",
    "Additionally to the learning rate, the weights also had a bigger influence on the model. Therefore both were kept for the final Hyperparameter optimization."
   ]
  },
  {
   "cell_type": "markdown",
   "id": "8af42d16-616e-49e0-983f-812ad367918f",
   "metadata": {},
   "source": [
    "All those combinations can be observed in the Tensorboard below while the final models are training. Additionally, because all models with <i>weights</i> in their name use the EarlyStop callback, we can see in Tensorboard which Epoch was used as the best model. For that we must look at the last value in the epoch-metric."
   ]
  },
  {
   "cell_type": "markdown",
   "id": "eca037a7-8204-477c-a7fb-d68dd2ebed7e",
   "metadata": {},
   "source": [
    "## Tensorboard"
   ]
  },
  {
   "cell_type": "code",
   "execution_count": 24,
   "id": "01ada563-47ec-40d9-ab9b-06660c96d401",
   "metadata": {},
   "outputs": [
    {
     "data": {
      "text/html": [
       "\n",
       "      <iframe id=\"tensorboard-frame-1c80317fa3b1799d\" width=\"100%\" height=\"800\" frameborder=\"0\">\n",
       "      </iframe>\n",
       "      <script>\n",
       "        (function() {\n",
       "          const frame = document.getElementById(\"tensorboard-frame-1c80317fa3b1799d\");\n",
       "          const url = new URL(\"/\", window.location);\n",
       "          const port = 6006;\n",
       "          if (port) {\n",
       "            url.port = port;\n",
       "          }\n",
       "          frame.src = url;\n",
       "        })();\n",
       "      </script>\n",
       "    "
      ],
      "text/plain": [
       "<IPython.core.display.HTML object>"
      ]
     },
     "metadata": {},
     "output_type": "display_data"
    }
   ],
   "source": [
    "%load_ext tensorboard\n",
    "%tensorboard --logdir ./logs/ --host localhost"
   ]
  },
  {
   "cell_type": "code",
   "execution_count": 25,
   "id": "94c256bb-ab78-4447-848e-af5bf944ae8d",
   "metadata": {
    "tags": []
   },
   "outputs": [],
   "source": [
    "skf = StratifiedKFold(n_splits=5, shuffle=True, random_state=RANDOM_SEED)"
   ]
  },
  {
   "cell_type": "code",
   "execution_count": 26,
   "id": "0f88940e-be15-4a82-ab09-8266b4824d65",
   "metadata": {},
   "outputs": [],
   "source": [
    "king_weights = compute_class_weight(\n",
    "    class_weight=\"balanced\",\n",
    "    classes=targets.drop_duplicates(subset=labels).iloc[:, 0],\n",
    "    y=targets.iloc[:, 0].ravel(),\n",
    ")\n",
    "king_weights_t = torch.Tensor(king_weights)"
   ]
  },
  {
   "cell_type": "markdown",
   "id": "1de987e5-066d-4176-9bca-68f3dabf54c8",
   "metadata": {},
   "source": [
    "In the first Hyperparameter optimization runs the HPs have been optimized on the same train/validation/test split. This was a deliberate choice to reduce the required computational resources/time and to get a feeling for which HPs work and which do not work at all. But with our prefiltered set of HPs we will now use stratified k-Folds to combine the Hyperparameter optimization with a Cross-Validation setup. Again, to reduce the required computational resources/time, the Cross-Validation uses the same train/test split, but changes the train/validation splits.<br>"
   ]
  },
  {
   "cell_type": "code",
   "execution_count": 27,
   "id": "5c1cd700-557b-4e33-a0a3-003f195c50ee",
   "metadata": {},
   "outputs": [
    {
     "name": "stderr",
     "output_type": "stream",
     "text": [
      "C:\\Users\\hjano\\OneDrive\\Uni\\Master\\Vorlesungen\\07_Deep_Learning\\practical_exercises\\.venv\\lib\\site-packages\\pytorch_lightning\\trainer\\trainer.py:1933: PossibleUserWarning: The number of training batches (1) is smaller than the logging interval Trainer(log_every_n_steps=20). Set a lower value for log_every_n_steps if you want to see logs for the training epoch.\n",
      "  rank_zero_warn(\n"
     ]
    },
    {
     "name": "stdout",
     "output_type": "stream",
     "text": [
      "Finished training of the HP-combination: 01 - fold: 0\n",
      "Trained on hidden layers:  3 learning-rate: 0.0100 batch-size:  32 weights:False\n",
      "Training time: 0:00:24.882226\n",
      "Finished training of the HP-combination: 02 - fold: 0\n",
      "Trained on hidden layers:  3 learning-rate: 0.0100 batch-size:  32 weights:True\n",
      "Training time: 0:00:24.211019\n",
      "Finished training of the HP-combination: 03 - fold: 0\n",
      "Trained on hidden layers:  3 learning-rate: 0.0010 batch-size:  32 weights:False\n",
      "Training time: 0:00:24.420953\n",
      "Finished training of the HP-combination: 04 - fold: 0\n",
      "Trained on hidden layers:  3 learning-rate: 0.0010 batch-size:  32 weights:True\n",
      "Training time: 0:00:23.124188\n"
     ]
    },
    {
     "name": "stderr",
     "output_type": "stream",
     "text": [
      "C:\\Users\\hjano\\OneDrive\\Uni\\Master\\Vorlesungen\\07_Deep_Learning\\practical_exercises\\.venv\\lib\\site-packages\\pytorch_lightning\\trainer\\trainer.py:1933: PossibleUserWarning: The number of training batches (1) is smaller than the logging interval Trainer(log_every_n_steps=20). Set a lower value for log_every_n_steps if you want to see logs for the training epoch.\n",
      "  rank_zero_warn(\n"
     ]
    },
    {
     "name": "stdout",
     "output_type": "stream",
     "text": [
      "Finished training of the HP-combination: 01 - fold: 1\n",
      "Trained on hidden layers:  3 learning-rate: 0.0100 batch-size:  32 weights:False\n",
      "Training time: 0:00:23.131429\n",
      "Finished training of the HP-combination: 02 - fold: 1\n",
      "Trained on hidden layers:  3 learning-rate: 0.0100 batch-size:  32 weights:True\n",
      "Training time: 0:00:22.418100\n",
      "Finished training of the HP-combination: 03 - fold: 1\n",
      "Trained on hidden layers:  3 learning-rate: 0.0010 batch-size:  32 weights:False\n",
      "Training time: 0:00:22.679764\n",
      "Finished training of the HP-combination: 04 - fold: 1\n",
      "Trained on hidden layers:  3 learning-rate: 0.0010 batch-size:  32 weights:True\n",
      "Training time: 0:00:22.180447\n"
     ]
    },
    {
     "name": "stderr",
     "output_type": "stream",
     "text": [
      "C:\\Users\\hjano\\OneDrive\\Uni\\Master\\Vorlesungen\\07_Deep_Learning\\practical_exercises\\.venv\\lib\\site-packages\\pytorch_lightning\\trainer\\trainer.py:1933: PossibleUserWarning: The number of training batches (1) is smaller than the logging interval Trainer(log_every_n_steps=20). Set a lower value for log_every_n_steps if you want to see logs for the training epoch.\n",
      "  rank_zero_warn(\n"
     ]
    },
    {
     "name": "stdout",
     "output_type": "stream",
     "text": [
      "Finished training of the HP-combination: 01 - fold: 2\n",
      "Trained on hidden layers:  3 learning-rate: 0.0100 batch-size:  32 weights:False\n",
      "Training time: 0:00:22.725990\n",
      "Finished training of the HP-combination: 02 - fold: 2\n",
      "Trained on hidden layers:  3 learning-rate: 0.0100 batch-size:  32 weights:True\n",
      "Training time: 0:00:22.132286\n",
      "Finished training of the HP-combination: 03 - fold: 2\n",
      "Trained on hidden layers:  3 learning-rate: 0.0010 batch-size:  32 weights:False\n",
      "Training time: 0:00:24.782582\n",
      "Finished training of the HP-combination: 04 - fold: 2\n",
      "Trained on hidden layers:  3 learning-rate: 0.0010 batch-size:  32 weights:True\n",
      "Training time: 0:00:23.564425\n"
     ]
    },
    {
     "name": "stderr",
     "output_type": "stream",
     "text": [
      "C:\\Users\\hjano\\OneDrive\\Uni\\Master\\Vorlesungen\\07_Deep_Learning\\practical_exercises\\.venv\\lib\\site-packages\\pytorch_lightning\\trainer\\trainer.py:1933: PossibleUserWarning: The number of training batches (1) is smaller than the logging interval Trainer(log_every_n_steps=20). Set a lower value for log_every_n_steps if you want to see logs for the training epoch.\n",
      "  rank_zero_warn(\n"
     ]
    },
    {
     "name": "stdout",
     "output_type": "stream",
     "text": [
      "Finished training of the HP-combination: 01 - fold: 3\n",
      "Trained on hidden layers:  3 learning-rate: 0.0100 batch-size:  32 weights:False\n",
      "Training time: 0:00:22.686362\n",
      "Finished training of the HP-combination: 02 - fold: 3\n",
      "Trained on hidden layers:  3 learning-rate: 0.0100 batch-size:  32 weights:True\n",
      "Training time: 0:00:23.241368\n",
      "Finished training of the HP-combination: 03 - fold: 3\n",
      "Trained on hidden layers:  3 learning-rate: 0.0010 batch-size:  32 weights:False\n",
      "Training time: 0:00:22.963106\n",
      "Finished training of the HP-combination: 04 - fold: 3\n",
      "Trained on hidden layers:  3 learning-rate: 0.0010 batch-size:  32 weights:True\n",
      "Training time: 0:00:27.386884\n"
     ]
    },
    {
     "name": "stderr",
     "output_type": "stream",
     "text": [
      "C:\\Users\\hjano\\OneDrive\\Uni\\Master\\Vorlesungen\\07_Deep_Learning\\practical_exercises\\.venv\\lib\\site-packages\\pytorch_lightning\\trainer\\trainer.py:1933: PossibleUserWarning: The number of training batches (1) is smaller than the logging interval Trainer(log_every_n_steps=20). Set a lower value for log_every_n_steps if you want to see logs for the training epoch.\n",
      "  rank_zero_warn(\n"
     ]
    },
    {
     "name": "stdout",
     "output_type": "stream",
     "text": [
      "Finished training of the HP-combination: 01 - fold: 4\n",
      "Trained on hidden layers:  3 learning-rate: 0.0100 batch-size:  32 weights:False\n",
      "Training time: 0:00:25.050037\n",
      "Finished training of the HP-combination: 02 - fold: 4\n",
      "Trained on hidden layers:  3 learning-rate: 0.0100 batch-size:  32 weights:True\n",
      "Training time: 0:00:22.760476\n",
      "Finished training of the HP-combination: 03 - fold: 4\n",
      "Trained on hidden layers:  3 learning-rate: 0.0010 batch-size:  32 weights:False\n",
      "Training time: 0:00:26.078863\n",
      "Finished training of the HP-combination: 04 - fold: 4\n",
      "Trained on hidden layers:  3 learning-rate: 0.0010 batch-size:  32 weights:True\n",
      "Training time: 0:00:23.009398\n"
     ]
    }
   ],
   "source": [
    "config = {\n",
    "    \"hidden_layer\": [3],\n",
    "    \"learning_rate\": [1e-2, 1e-3],\n",
    "    \"batch_size\": [32],\n",
    "    \"weights\": [None, king_weights_t],\n",
    "}\n",
    "runs_cv = list()\n",
    "for idx, (train_index, val_index) in enumerate(\n",
    "    skf.split(DF_train_full.drop(columns=labels), DF_train_full[labels])\n",
    "):\n",
    "    X_train, X_val = DF_train_full.iloc[train_index], DF_train_full.iloc[val_index]\n",
    "    scaler = MinMaxScaler()\n",
    "    X_train_sc = scaler.fit_transform(X_train)\n",
    "    X_val_sc = scaler.transform(X_val)\n",
    "    X_test_sc = scaler.transform(DF_test)  # Using initial DF_test because it stays the same\n",
    "\n",
    "    DF_train_sc = combine_to_df(X_train_sc, X_train, labels)\n",
    "    DF_val_sc = combine_to_df(X_val_sc, X_val, labels)\n",
    "    DF_test_sc = combine_to_df(X_test_sc, DF_test, labels)\n",
    "    runs_cv += hp_optimization(\n",
    "        config,\n",
    "        df_train=DF_train_sc,\n",
    "        df_val=DF_val_sc,\n",
    "        df_test=DF_test_sc,\n",
    "        num_epochs=num_epochs,\n",
    "        dev=True,  # Using Dev mode to show that the setup works\n",
    "        cv=idx,\n",
    "    )"
   ]
  },
  {
   "cell_type": "code",
   "execution_count": 28,
   "id": "2b512b32-22f8-43cb-9d87-104a7541b2ae",
   "metadata": {},
   "outputs": [
    {
     "data": {
      "text/html": [
       "<div>\n",
       "<style scoped>\n",
       "    .dataframe tbody tr th:only-of-type {\n",
       "        vertical-align: middle;\n",
       "    }\n",
       "\n",
       "    .dataframe tbody tr th {\n",
       "        vertical-align: top;\n",
       "    }\n",
       "\n",
       "    .dataframe thead th {\n",
       "        text-align: right;\n",
       "    }\n",
       "</style>\n",
       "<table border=\"1\" class=\"dataframe\">\n",
       "  <thead>\n",
       "    <tr style=\"text-align: right;\">\n",
       "      <th></th>\n",
       "      <th>hidden_layer</th>\n",
       "      <th>learning_rate</th>\n",
       "      <th>batch_size</th>\n",
       "      <th>fold</th>\n",
       "      <th>weights</th>\n",
       "    </tr>\n",
       "  </thead>\n",
       "  <tbody>\n",
       "    <tr>\n",
       "      <th>0</th>\n",
       "      <td>3</td>\n",
       "      <td>0.010</td>\n",
       "      <td>32</td>\n",
       "      <td>0</td>\n",
       "      <td>False</td>\n",
       "    </tr>\n",
       "    <tr>\n",
       "      <th>1</th>\n",
       "      <td>3</td>\n",
       "      <td>0.010</td>\n",
       "      <td>32</td>\n",
       "      <td>0</td>\n",
       "      <td>True</td>\n",
       "    </tr>\n",
       "    <tr>\n",
       "      <th>2</th>\n",
       "      <td>3</td>\n",
       "      <td>0.001</td>\n",
       "      <td>32</td>\n",
       "      <td>0</td>\n",
       "      <td>False</td>\n",
       "    </tr>\n",
       "    <tr>\n",
       "      <th>3</th>\n",
       "      <td>3</td>\n",
       "      <td>0.001</td>\n",
       "      <td>32</td>\n",
       "      <td>0</td>\n",
       "      <td>True</td>\n",
       "    </tr>\n",
       "    <tr>\n",
       "      <th>4</th>\n",
       "      <td>3</td>\n",
       "      <td>0.010</td>\n",
       "      <td>32</td>\n",
       "      <td>1</td>\n",
       "      <td>False</td>\n",
       "    </tr>\n",
       "  </tbody>\n",
       "</table>\n",
       "</div>"
      ],
      "text/plain": [
       "   hidden_layer  learning_rate  batch_size  fold  weights\n",
       "0             3          0.010          32     0    False\n",
       "1             3          0.010          32     0     True\n",
       "2             3          0.001          32     0    False\n",
       "3             3          0.001          32     0     True\n",
       "4             3          0.010          32     1    False"
      ]
     },
     "execution_count": 28,
     "metadata": {},
     "output_type": "execute_result"
    }
   ],
   "source": [
    "pd.DataFrame(runs_cv).head()"
   ]
  },
  {
   "cell_type": "markdown",
   "id": "151215f3-6f81-4023-9c4d-c2e2355050a3",
   "metadata": {},
   "source": [
    "The results of the Cross-Validation (CV) are 4 different combinations of HPs across 5 folds. Because each run takes ~30 minutes, the CV-Loop uses the dev mode. This is a Pytorch Lightning setting, which limits the training-loop to only 1 epoch to allow a quick debugging of model. The results of the full CV will be loaded from a previous run."
   ]
  },
  {
   "cell_type": "code",
   "execution_count": 29,
   "id": "0d92a772-c5b8-4795-a1e7-c26552723385",
   "metadata": {},
   "outputs": [
    {
     "data": {
      "text/html": [
       "<div>\n",
       "<style scoped>\n",
       "    .dataframe tbody tr th:only-of-type {\n",
       "        vertical-align: middle;\n",
       "    }\n",
       "\n",
       "    .dataframe tbody tr th {\n",
       "        vertical-align: top;\n",
       "    }\n",
       "\n",
       "    .dataframe thead tr th {\n",
       "        text-align: left;\n",
       "    }\n",
       "</style>\n",
       "<table border=\"1\" class=\"dataframe\">\n",
       "  <thead>\n",
       "    <tr>\n",
       "      <th></th>\n",
       "      <th>hidden_layer</th>\n",
       "      <th>learning_rate</th>\n",
       "      <th>batch_size</th>\n",
       "      <th>weights</th>\n",
       "      <th colspan=\"2\" halign=\"left\">fold</th>\n",
       "      <th colspan=\"2\" halign=\"left\">val_loss</th>\n",
       "      <th colspan=\"2\" halign=\"left\">val_accuracy</th>\n",
       "      <th colspan=\"2\" halign=\"left\">val_balanced_accuracy</th>\n",
       "      <th colspan=\"2\" halign=\"left\">val_f1</th>\n",
       "      <th colspan=\"2\" halign=\"left\">val_precision</th>\n",
       "    </tr>\n",
       "    <tr>\n",
       "      <th></th>\n",
       "      <th></th>\n",
       "      <th></th>\n",
       "      <th></th>\n",
       "      <th></th>\n",
       "      <th>mean</th>\n",
       "      <th>std</th>\n",
       "      <th>mean</th>\n",
       "      <th>std</th>\n",
       "      <th>mean</th>\n",
       "      <th>std</th>\n",
       "      <th>mean</th>\n",
       "      <th>std</th>\n",
       "      <th>mean</th>\n",
       "      <th>std</th>\n",
       "      <th>mean</th>\n",
       "      <th>std</th>\n",
       "    </tr>\n",
       "  </thead>\n",
       "  <tbody>\n",
       "    <tr>\n",
       "      <th>0</th>\n",
       "      <td>3</td>\n",
       "      <td>0.001</td>\n",
       "      <td>32</td>\n",
       "      <td>False</td>\n",
       "      <td>2.0</td>\n",
       "      <td>1.581139</td>\n",
       "      <td>0.304006</td>\n",
       "      <td>0.036682</td>\n",
       "      <td>0.909411</td>\n",
       "      <td>0.011134</td>\n",
       "      <td>0.815393</td>\n",
       "      <td>0.027893</td>\n",
       "      <td>0.802284</td>\n",
       "      <td>0.028575</td>\n",
       "      <td>0.809738</td>\n",
       "      <td>0.027174</td>\n",
       "    </tr>\n",
       "    <tr>\n",
       "      <th>1</th>\n",
       "      <td>3</td>\n",
       "      <td>0.001</td>\n",
       "      <td>32</td>\n",
       "      <td>True</td>\n",
       "      <td>2.0</td>\n",
       "      <td>1.581139</td>\n",
       "      <td>0.501618</td>\n",
       "      <td>0.056539</td>\n",
       "      <td>0.861813</td>\n",
       "      <td>0.014299</td>\n",
       "      <td>0.759732</td>\n",
       "      <td>0.025621</td>\n",
       "      <td>0.744256</td>\n",
       "      <td>0.026383</td>\n",
       "      <td>0.758825</td>\n",
       "      <td>0.024218</td>\n",
       "    </tr>\n",
       "    <tr>\n",
       "      <th>2</th>\n",
       "      <td>3</td>\n",
       "      <td>0.010</td>\n",
       "      <td>32</td>\n",
       "      <td>False</td>\n",
       "      <td>2.0</td>\n",
       "      <td>1.581139</td>\n",
       "      <td>0.323522</td>\n",
       "      <td>0.029136</td>\n",
       "      <td>0.902610</td>\n",
       "      <td>0.014038</td>\n",
       "      <td>0.802563</td>\n",
       "      <td>0.020342</td>\n",
       "      <td>0.785433</td>\n",
       "      <td>0.024720</td>\n",
       "      <td>0.791734</td>\n",
       "      <td>0.024969</td>\n",
       "    </tr>\n",
       "    <tr>\n",
       "      <th>3</th>\n",
       "      <td>3</td>\n",
       "      <td>0.010</td>\n",
       "      <td>32</td>\n",
       "      <td>True</td>\n",
       "      <td>2.0</td>\n",
       "      <td>1.581139</td>\n",
       "      <td>0.614015</td>\n",
       "      <td>0.072168</td>\n",
       "      <td>0.845579</td>\n",
       "      <td>0.017720</td>\n",
       "      <td>0.728503</td>\n",
       "      <td>0.030432</td>\n",
       "      <td>0.713392</td>\n",
       "      <td>0.031517</td>\n",
       "      <td>0.733938</td>\n",
       "      <td>0.028813</td>\n",
       "    </tr>\n",
       "  </tbody>\n",
       "</table>\n",
       "</div>"
      ],
      "text/plain": [
       "  hidden_layer learning_rate batch_size weights fold            val_loss  \\\n",
       "                                                mean       std      mean   \n",
       "0            3         0.001         32   False  2.0  1.581139  0.304006   \n",
       "1            3         0.001         32    True  2.0  1.581139  0.501618   \n",
       "2            3         0.010         32   False  2.0  1.581139  0.323522   \n",
       "3            3         0.010         32    True  2.0  1.581139  0.614015   \n",
       "\n",
       "            val_accuracy           val_balanced_accuracy              val_f1  \\\n",
       "        std         mean       std                  mean       std      mean   \n",
       "0  0.036682     0.909411  0.011134              0.815393  0.027893  0.802284   \n",
       "1  0.056539     0.861813  0.014299              0.759732  0.025621  0.744256   \n",
       "2  0.029136     0.902610  0.014038              0.802563  0.020342  0.785433   \n",
       "3  0.072168     0.845579  0.017720              0.728503  0.030432  0.713392   \n",
       "\n",
       "            val_precision            \n",
       "        std          mean       std  \n",
       "0  0.028575      0.809738  0.027174  \n",
       "1  0.026383      0.758825  0.024218  \n",
       "2  0.024720      0.791734  0.024969  \n",
       "3  0.031517      0.733938  0.028813  "
      ]
     },
     "execution_count": 29,
     "metadata": {},
     "output_type": "execute_result"
    }
   ],
   "source": [
    "cv_hp_result_df = pd.read_parquet(path=\"data/cv_hp_optimization\", engine=\"pyarrow\")\n",
    "cv_hp_results_mean = (\n",
    "    cv_hp_result_df.groupby([\"hidden_layer\", \"learning_rate\", \"batch_size\", \"weights\"])\n",
    "    .agg([\"mean\", \"std\"])\n",
    "    .reset_index()\n",
    ")\n",
    "cv_hp_results_mean.iloc[:, :16]"
   ]
  },
  {
   "cell_type": "markdown",
   "id": "6f7899d1-941e-47dd-9f0c-2071fde6e7b3",
   "metadata": {},
   "source": [
    "After averaging over the 5 folds, we can see that the best Hyperparameter combination is:\n",
    "- hidden_layer:  3\n",
    "- learning rate: 0.001\n",
    "- batch_size: 32\n",
    "- weights: none\n",
    "\n",
    "Interestingly using weights for the loss function decreased the models performance."
   ]
  },
  {
   "cell_type": "code",
   "execution_count": 36,
   "id": "f68fc021-9f5d-4277-a499-211f37aba266",
   "metadata": {},
   "outputs": [
    {
     "data": {
      "text/html": [
       "<div>\n",
       "<style scoped>\n",
       "    .dataframe tbody tr th:only-of-type {\n",
       "        vertical-align: middle;\n",
       "    }\n",
       "\n",
       "    .dataframe tbody tr th {\n",
       "        vertical-align: top;\n",
       "    }\n",
       "\n",
       "    .dataframe thead th {\n",
       "        text-align: right;\n",
       "    }\n",
       "</style>\n",
       "<table border=\"1\" class=\"dataframe\">\n",
       "  <thead>\n",
       "    <tr style=\"text-align: right;\">\n",
       "      <th></th>\n",
       "      <th>hidden_layer</th>\n",
       "      <th>learning_rate</th>\n",
       "      <th>batch_size</th>\n",
       "      <th>weights</th>\n",
       "      <th>fold</th>\n",
       "      <th>val_loss</th>\n",
       "      <th>val_accuracy</th>\n",
       "      <th>val_balanced_accuracy</th>\n",
       "      <th>val_f1</th>\n",
       "    </tr>\n",
       "  </thead>\n",
       "  <tbody>\n",
       "    <tr>\n",
       "      <th>0</th>\n",
       "      <td>3</td>\n",
       "      <td>0.001</td>\n",
       "      <td>32</td>\n",
       "      <td>False</td>\n",
       "      <td>2.0</td>\n",
       "      <td>0.304006</td>\n",
       "      <td>0.909411</td>\n",
       "      <td>0.815393</td>\n",
       "      <td>0.802284</td>\n",
       "    </tr>\n",
       "  </tbody>\n",
       "</table>\n",
       "</div>"
      ],
      "text/plain": [
       "   hidden_layer  learning_rate  batch_size  weights  fold  val_loss  \\\n",
       "0             3          0.001          32    False   2.0  0.304006   \n",
       "\n",
       "   val_accuracy  val_balanced_accuracy    val_f1  \n",
       "0      0.909411               0.815393  0.802284  "
      ]
     },
     "execution_count": 36,
     "metadata": {},
     "output_type": "execute_result"
    }
   ],
   "source": [
    "cv_hp_results_mean = (\n",
    "    cv_hp_result_df.groupby([\"hidden_layer\", \"learning_rate\", \"batch_size\", \"weights\"])\n",
    "    .mean()\n",
    "    .reset_index()\n",
    ")\n",
    "best_params = cv_hp_results_mean[\n",
    "    cv_hp_results_mean[\"val_balanced_accuracy\"] == cv_hp_results_mean[\"val_balanced_accuracy\"].max()\n",
    "]\n",
    "best_params.iloc[:, :9]"
   ]
  },
  {
   "cell_type": "markdown",
   "id": "f99ee455-bd2a-4387-b7ea-cf720b0f7123",
   "metadata": {},
   "source": [
    "---\n",
    "<a id='eval'></a>"
   ]
  },
  {
   "cell_type": "markdown",
   "id": "0ebc48f3-afc8-41f8-b7cc-2b201bb40bd1",
   "metadata": {},
   "source": [
    "## 5. Model Evaluation\n",
    "<a id='eval-king'></a>\n",
    "### 5.1 Kingdom prediction\n",
    "\n",
    "After the final Hyperparameter optimization we will use the same Cross-validation setup as before but this time change the train/test split to evaluate the performance of the model across different splits. We also increase the number of epochs to check if our model starts improving again after some time."
   ]
  },
  {
   "cell_type": "code",
   "execution_count": 37,
   "id": "36f29ecb-8f9e-483f-b7c5-4bc4af34447f",
   "metadata": {},
   "outputs": [],
   "source": [
    "best_config = best_params.iloc[:1, :].to_dict(\"list\")  # Load best HP from CV"
   ]
  },
  {
   "cell_type": "code",
   "execution_count": 38,
   "id": "4354a35d-87b5-4024-9161-e258a9124299",
   "metadata": {},
   "outputs": [],
   "source": [
    "# Parameters\n",
    "feature_n = complete_data.drop(labels, axis=1).shape[1]\n",
    "classes_n = len(targets.drop_duplicates(subset=labels))\n",
    "num_epochs = 100  # Now using more epochs\n",
    "test_size = 0.3\n",
    "val_size = 0.2\n",
    "core_n = psutil.cpu_count(logical=False)\n",
    "if core_n > 1:\n",
    "    core_n = core_n - 1"
   ]
  },
  {
   "cell_type": "markdown",
   "id": "f67e2489-9bd6-4880-991c-71bb90872ac1",
   "metadata": {},
   "source": [
    "Because the result of our CV returns a boolean value for the weights, we must first change this value to None or the appropriate weights."
   ]
  },
  {
   "cell_type": "code",
   "execution_count": 39,
   "id": "e0606ed4-df25-4afc-8fa2-446eeb878347",
   "metadata": {},
   "outputs": [],
   "source": [
    "if best_params[\"weights\"].iloc[0]:\n",
    "    king_weights = compute_class_weight(\n",
    "        class_weight=\"balanced\",\n",
    "        classes=targets.drop_duplicates(subset=labels).iloc[:, 0],\n",
    "        y=targets.iloc[:, 0].ravel(),\n",
    "    )\n",
    "    best_config[\"weights\"] = [torch.Tensor(king_weights)]\n",
    "else:\n",
    "    best_config[\"weights\"] = [None]"
   ]
  },
  {
   "cell_type": "code",
   "execution_count": 40,
   "id": "dcde03cc-8345-4b57-81d2-c0192d54af73",
   "metadata": {},
   "outputs": [],
   "source": [
    "skf_eval = StratifiedKFold(n_splits=3, shuffle=True, random_state=RANDOM_SEED)"
   ]
  },
  {
   "cell_type": "markdown",
   "id": "f41c74fb-9bec-4c1f-988f-df8b32a54b22",
   "metadata": {},
   "source": [
    "Now we perform the Cross-Validation over three different train/test splits."
   ]
  },
  {
   "cell_type": "code",
   "execution_count": 41,
   "id": "e8cf1e44-ec17-4d1a-bd55-61fb6d851458",
   "metadata": {},
   "outputs": [
    {
     "name": "stderr",
     "output_type": "stream",
     "text": [
      "C:\\Users\\hjano\\OneDrive\\Uni\\Master\\Vorlesungen\\07_Deep_Learning\\practical_exercises\\.venv\\lib\\site-packages\\pytorch_lightning\\trainer\\trainer.py:1933: PossibleUserWarning: The number of training batches (1) is smaller than the logging interval Trainer(log_every_n_steps=20). Set a lower value for log_every_n_steps if you want to see logs for the training epoch.\n",
      "  rank_zero_warn(\n"
     ]
    },
    {
     "name": "stdout",
     "output_type": "stream",
     "text": [
      "Finished training of the HP-combination: 01 - fold: final_king_0\n",
      "Trained on hidden layers:  3 learning-rate: 0.0010 batch-size:  32 weights:False\n",
      "Training time: 0:00:27.180632\n"
     ]
    },
    {
     "name": "stderr",
     "output_type": "stream",
     "text": [
      "C:\\Users\\hjano\\OneDrive\\Uni\\Master\\Vorlesungen\\07_Deep_Learning\\practical_exercises\\.venv\\lib\\site-packages\\pytorch_lightning\\trainer\\trainer.py:1933: PossibleUserWarning: The number of training batches (1) is smaller than the logging interval Trainer(log_every_n_steps=20). Set a lower value for log_every_n_steps if you want to see logs for the training epoch.\n",
      "  rank_zero_warn(\n"
     ]
    },
    {
     "name": "stdout",
     "output_type": "stream",
     "text": [
      "Finished training of the HP-combination: 01 - fold: final_king_1\n",
      "Trained on hidden layers:  3 learning-rate: 0.0010 batch-size:  32 weights:False\n",
      "Training time: 0:00:26.281828\n"
     ]
    },
    {
     "name": "stderr",
     "output_type": "stream",
     "text": [
      "C:\\Users\\hjano\\OneDrive\\Uni\\Master\\Vorlesungen\\07_Deep_Learning\\practical_exercises\\.venv\\lib\\site-packages\\pytorch_lightning\\trainer\\trainer.py:1933: PossibleUserWarning: The number of training batches (1) is smaller than the logging interval Trainer(log_every_n_steps=20). Set a lower value for log_every_n_steps if you want to see logs for the training epoch.\n",
      "  rank_zero_warn(\n"
     ]
    },
    {
     "name": "stdout",
     "output_type": "stream",
     "text": [
      "Finished training of the HP-combination: 01 - fold: final_king_2\n",
      "Trained on hidden layers:  3 learning-rate: 0.0010 batch-size:  32 weights:False\n",
      "Training time: 0:00:22.513092\n"
     ]
    }
   ],
   "source": [
    "runs_eval = list()\n",
    "king_data = dict()\n",
    "for idx, (train_index, test_index) in enumerate(\n",
    "    skf_eval.split(complete_data.drop(columns=labels), complete_data[labels])\n",
    "):\n",
    "    X_train_full, X_test = complete_data.iloc[train_index], complete_data.iloc[test_index]\n",
    "    X_train, X_val, = train_test_split(\n",
    "        X_train_full,\n",
    "        test_size=val_size,\n",
    "        shuffle=True,\n",
    "        random_state=RANDOM_SEED,\n",
    "        stratify=X_train_full[labels],\n",
    "    )\n",
    "    scaler = MinMaxScaler()\n",
    "    X_train_sc = scaler.fit_transform(X_train)\n",
    "    X_val_sc = scaler.fit_transform(X_val)\n",
    "    X_test_sc = scaler.transform(X_test)\n",
    "\n",
    "    DF_train_sc = combine_to_df(X_train_sc, X_train, labels)\n",
    "    DF_val_sc = combine_to_df(X_val_sc, X_val, labels)\n",
    "    DF_test_sc = combine_to_df(X_test_sc, X_test, labels)\n",
    "    runs_eval += hp_optimization(\n",
    "        best_config,\n",
    "        df_train=DF_train_sc,\n",
    "        df_val=DF_val_sc,\n",
    "        df_test=DF_test_sc,\n",
    "        num_epochs=num_epochs,\n",
    "        dev=True,  # Again for shorter evaluation\n",
    "        cv=f\"final_king_{idx}\",\n",
    "    )\n",
    "    king_data[f\"final_king_{idx}\"] = [DF_train_sc, DF_val_sc, DF_test_sc]"
   ]
  },
  {
   "cell_type": "code",
   "execution_count": 42,
   "id": "569a5579-2f12-4337-b77f-f6c26f9e00b5",
   "metadata": {},
   "outputs": [
    {
     "data": {
      "text/html": [
       "<div>\n",
       "<style scoped>\n",
       "    .dataframe tbody tr th:only-of-type {\n",
       "        vertical-align: middle;\n",
       "    }\n",
       "\n",
       "    .dataframe tbody tr th {\n",
       "        vertical-align: top;\n",
       "    }\n",
       "\n",
       "    .dataframe thead th {\n",
       "        text-align: right;\n",
       "    }\n",
       "</style>\n",
       "<table border=\"1\" class=\"dataframe\">\n",
       "  <thead>\n",
       "    <tr style=\"text-align: right;\">\n",
       "      <th></th>\n",
       "      <th>hidden_layer</th>\n",
       "      <th>learning_rate</th>\n",
       "      <th>batch_size</th>\n",
       "      <th>fold</th>\n",
       "      <th>weights</th>\n",
       "    </tr>\n",
       "  </thead>\n",
       "  <tbody>\n",
       "    <tr>\n",
       "      <th>0</th>\n",
       "      <td>3</td>\n",
       "      <td>0.001</td>\n",
       "      <td>32</td>\n",
       "      <td>final_king_0</td>\n",
       "      <td>False</td>\n",
       "    </tr>\n",
       "    <tr>\n",
       "      <th>1</th>\n",
       "      <td>3</td>\n",
       "      <td>0.001</td>\n",
       "      <td>32</td>\n",
       "      <td>final_king_1</td>\n",
       "      <td>False</td>\n",
       "    </tr>\n",
       "    <tr>\n",
       "      <th>2</th>\n",
       "      <td>3</td>\n",
       "      <td>0.001</td>\n",
       "      <td>32</td>\n",
       "      <td>final_king_2</td>\n",
       "      <td>False</td>\n",
       "    </tr>\n",
       "  </tbody>\n",
       "</table>\n",
       "</div>"
      ],
      "text/plain": [
       "   hidden_layer  learning_rate  batch_size          fold  weights\n",
       "0             3          0.001          32  final_king_0    False\n",
       "1             3          0.001          32  final_king_1    False\n",
       "2             3          0.001          32  final_king_2    False"
      ]
     },
     "execution_count": 42,
     "metadata": {},
     "output_type": "execute_result"
    }
   ],
   "source": [
    "pd.DataFrame(runs_eval).head()"
   ]
  },
  {
   "cell_type": "code",
   "execution_count": 43,
   "id": "da45d8e2-d50f-4ca8-9187-e742e6189500",
   "metadata": {},
   "outputs": [],
   "source": [
    "best_config = best_params.iloc[:1, :].to_dict(\"list\")\n",
    "eval_king_result = list()\n",
    "for _model, _res in king_data.items():\n",
    "    _best_model = load_best_model(\n",
    "        best_config,\n",
    "        NeuralNet,\n",
    "        feature_n=feature_n,\n",
    "        classes_n=classes_n,\n",
    "        device=device,\n",
    "        cv=_model,\n",
    "    )\n",
    "    eval_king_result.append(\n",
    "        compute_metrics(\n",
    "            _best_model,\n",
    "            torch.tensor(_res[-1].drop(columns=labels).values, dtype=torch.float),\n",
    "            _res[-1][labels],\n",
    "        )\n",
    "    )"
   ]
  },
  {
   "cell_type": "code",
   "execution_count": 44,
   "id": "bab0a4ec-8137-4fea-a328-02e6496ba5f4",
   "metadata": {},
   "outputs": [
    {
     "data": {
      "text/html": [
       "<div>\n",
       "<style scoped>\n",
       "    .dataframe tbody tr th:only-of-type {\n",
       "        vertical-align: middle;\n",
       "    }\n",
       "\n",
       "    .dataframe tbody tr th {\n",
       "        vertical-align: top;\n",
       "    }\n",
       "\n",
       "    .dataframe thead th {\n",
       "        text-align: right;\n",
       "    }\n",
       "</style>\n",
       "<table border=\"1\" class=\"dataframe\">\n",
       "  <thead>\n",
       "    <tr style=\"text-align: right;\">\n",
       "      <th></th>\n",
       "      <th>Accuracy</th>\n",
       "      <th>Balanced Accuracy</th>\n",
       "      <th>ROC AUC</th>\n",
       "      <th>F1</th>\n",
       "      <th>Precision</th>\n",
       "      <th>confusion_matrix</th>\n",
       "    </tr>\n",
       "  </thead>\n",
       "  <tbody>\n",
       "    <tr>\n",
       "      <th>0</th>\n",
       "      <td>0.8153</td>\n",
       "      <td>0.5562</td>\n",
       "      <td>0.9673</td>\n",
       "      <td>0.5547</td>\n",
       "      <td>0.6376</td>\n",
       "      <td>[[773, 1, 48, 10, 0, 76, 34, 2, 0, 0, 0], [3, ...</td>\n",
       "    </tr>\n",
       "    <tr>\n",
       "      <th>1</th>\n",
       "      <td>0.8356</td>\n",
       "      <td>0.5887</td>\n",
       "      <td>0.9682</td>\n",
       "      <td>0.5983</td>\n",
       "      <td>0.7324</td>\n",
       "      <td>[[840, 0, 1, 0, 0, 20, 58, 22, 0, 0, 3], [13, ...</td>\n",
       "    </tr>\n",
       "    <tr>\n",
       "      <th>2</th>\n",
       "      <td>0.6840</td>\n",
       "      <td>0.4010</td>\n",
       "      <td>0.9262</td>\n",
       "      <td>0.3704</td>\n",
       "      <td>0.5756</td>\n",
       "      <td>[[659, 0, 3, 0, 0, 12, 90, 177, 2, 0, 0], [11,...</td>\n",
       "    </tr>\n",
       "  </tbody>\n",
       "</table>\n",
       "</div>"
      ],
      "text/plain": [
       "   Accuracy  Balanced Accuracy  ROC AUC      F1  Precision  \\\n",
       "0    0.8153             0.5562   0.9673  0.5547     0.6376   \n",
       "1    0.8356             0.5887   0.9682  0.5983     0.7324   \n",
       "2    0.6840             0.4010   0.9262  0.3704     0.5756   \n",
       "\n",
       "                                    confusion_matrix  \n",
       "0  [[773, 1, 48, 10, 0, 76, 34, 2, 0, 0, 0], [3, ...  \n",
       "1  [[840, 0, 1, 0, 0, 20, 58, 22, 0, 0, 3], [13, ...  \n",
       "2  [[659, 0, 3, 0, 0, 12, 90, 177, 2, 0, 0], [11,...  "
      ]
     },
     "execution_count": 44,
     "metadata": {},
     "output_type": "execute_result"
    }
   ],
   "source": [
    "eval_king_result_df = pd.DataFrame(eval_king_result)\n",
    "eval_king_result_df"
   ]
  },
  {
   "cell_type": "markdown",
   "id": "90879a71-c246-4aaa-bd91-8f5ab48259ae",
   "metadata": {},
   "source": [
    "The results of CV do not reflect "
   ]
  },
  {
   "cell_type": "code",
   "execution_count": 45,
   "id": "861def04-e536-4354-a6e0-db28abe1f0b9",
   "metadata": {},
   "outputs": [
    {
     "data": {
      "text/html": [
       "<div>\n",
       "<style scoped>\n",
       "    .dataframe tbody tr th:only-of-type {\n",
       "        vertical-align: middle;\n",
       "    }\n",
       "\n",
       "    .dataframe tbody tr th {\n",
       "        vertical-align: top;\n",
       "    }\n",
       "\n",
       "    .dataframe thead th {\n",
       "        text-align: right;\n",
       "    }\n",
       "</style>\n",
       "<table border=\"1\" class=\"dataframe\">\n",
       "  <thead>\n",
       "    <tr style=\"text-align: right;\">\n",
       "      <th></th>\n",
       "      <th>mean</th>\n",
       "      <th>std</th>\n",
       "    </tr>\n",
       "  </thead>\n",
       "  <tbody>\n",
       "    <tr>\n",
       "      <th>Accuracy</th>\n",
       "      <td>0.778300</td>\n",
       "      <td>0.082295</td>\n",
       "    </tr>\n",
       "    <tr>\n",
       "      <th>Balanced Accuracy</th>\n",
       "      <td>0.515300</td>\n",
       "      <td>0.100312</td>\n",
       "    </tr>\n",
       "    <tr>\n",
       "      <th>ROC AUC</th>\n",
       "      <td>0.953900</td>\n",
       "      <td>0.023993</td>\n",
       "    </tr>\n",
       "    <tr>\n",
       "      <th>F1</th>\n",
       "      <td>0.507800</td>\n",
       "      <td>0.120972</td>\n",
       "    </tr>\n",
       "    <tr>\n",
       "      <th>Precision</th>\n",
       "      <td>0.648533</td>\n",
       "      <td>0.078970</td>\n",
       "    </tr>\n",
       "  </tbody>\n",
       "</table>\n",
       "</div>"
      ],
      "text/plain": [
       "                       mean       std\n",
       "Accuracy           0.778300  0.082295\n",
       "Balanced Accuracy  0.515300  0.100312\n",
       "ROC AUC            0.953900  0.023993\n",
       "F1                 0.507800  0.120972\n",
       "Precision          0.648533  0.078970"
      ]
     },
     "execution_count": 45,
     "metadata": {},
     "output_type": "execute_result"
    }
   ],
   "source": [
    "eval_king_result_df.iloc[:, :-1].agg([\"mean\", \"std\"]).transpose()"
   ]
  },
  {
   "cell_type": "markdown",
   "id": "0b49a175-23bd-4bcd-87aa-5a9b48a027d0",
   "metadata": {},
   "source": [
    "Tensorboard also shows us, that increasing the number of epochs was not necessary, because the best epochs are 8, 21, and 27. After those epochs we can see how the training loss is still decreasing, but the validation loss starts to rise again. This is a clear indicator of overfitting. "
   ]
  },
  {
   "cell_type": "markdown",
   "id": "68614284-4671-4e92-acb0-3b54ecfb6a9f",
   "metadata": {},
   "source": [
    "<a id='eval-dna'></a>\n",
    "### 5.2 DNAtype prediction\n",
    "\n",
    "After the evaluation of our Hyperparameter choice did not produce very satisfying results for the prediction of the Kingdom labels, we will use the same Hyperparameters and try to predict the DNA types instead. The reasoning behind this approach is, that although the evaluation on different train/test splits was not good, the previous Cross-Validation showed no big disturbances across the different folds. And since both targets use the same data, the Hyperparameters might still have good results with the DNAtype labels and spare as a second CV."
   ]
  },
  {
   "cell_type": "code",
   "execution_count": 52,
   "id": "50a80b81-73d1-46c9-9448-d586bbbd290d",
   "metadata": {},
   "outputs": [],
   "source": [
    "data_dna = data_raw.copy(deep=True)"
   ]
  },
  {
   "cell_type": "markdown",
   "id": "ca27f2a9-6ae5-4e05-8daf-b62da21ade50",
   "metadata": {},
   "source": [
    "Similar as the Kingdom labels the data is again highly imbalanced. But this time we have the additional problem of not enough samples. Not only is the data not enough for a neural network, we also do not have enough samples to perform all required splits. Therefore we will drop all but the classes 0, 1, 2 and 4."
   ]
  },
  {
   "cell_type": "code",
   "execution_count": 53,
   "id": "997250f7-e47b-4d78-a1a9-f19fb84ded63",
   "metadata": {},
   "outputs": [
    {
     "data": {
      "text/html": [
       "<div>\n",
       "<style scoped>\n",
       "    .dataframe tbody tr th:only-of-type {\n",
       "        vertical-align: middle;\n",
       "    }\n",
       "\n",
       "    .dataframe tbody tr th {\n",
       "        vertical-align: top;\n",
       "    }\n",
       "\n",
       "    .dataframe thead th {\n",
       "        text-align: right;\n",
       "    }\n",
       "</style>\n",
       "<table border=\"1\" class=\"dataframe\">\n",
       "  <thead>\n",
       "    <tr style=\"text-align: right;\">\n",
       "      <th></th>\n",
       "      <th>Kingdom</th>\n",
       "      <th>DNAtype</th>\n",
       "      <th>SpeciesID</th>\n",
       "      <th>Ncodons</th>\n",
       "      <th>SpeciesName</th>\n",
       "      <th>UUU</th>\n",
       "      <th>UUC</th>\n",
       "      <th>UUA</th>\n",
       "      <th>UUG</th>\n",
       "      <th>CUU</th>\n",
       "      <th>...</th>\n",
       "      <th>CGG</th>\n",
       "      <th>AGA</th>\n",
       "      <th>AGG</th>\n",
       "      <th>GAU</th>\n",
       "      <th>GAC</th>\n",
       "      <th>GAA</th>\n",
       "      <th>GAG</th>\n",
       "      <th>UAA</th>\n",
       "      <th>UAG</th>\n",
       "      <th>UGA</th>\n",
       "    </tr>\n",
       "    <tr>\n",
       "      <th>DNAtype_num</th>\n",
       "      <th></th>\n",
       "      <th></th>\n",
       "      <th></th>\n",
       "      <th></th>\n",
       "      <th></th>\n",
       "      <th></th>\n",
       "      <th></th>\n",
       "      <th></th>\n",
       "      <th></th>\n",
       "      <th></th>\n",
       "      <th></th>\n",
       "      <th></th>\n",
       "      <th></th>\n",
       "      <th></th>\n",
       "      <th></th>\n",
       "      <th></th>\n",
       "      <th></th>\n",
       "      <th></th>\n",
       "      <th></th>\n",
       "      <th></th>\n",
       "      <th></th>\n",
       "    </tr>\n",
       "  </thead>\n",
       "  <tbody>\n",
       "    <tr>\n",
       "      <th>0</th>\n",
       "      <td>9265</td>\n",
       "      <td>9265</td>\n",
       "      <td>9265</td>\n",
       "      <td>9265</td>\n",
       "      <td>9265</td>\n",
       "      <td>9265</td>\n",
       "      <td>9265</td>\n",
       "      <td>9265</td>\n",
       "      <td>9265</td>\n",
       "      <td>9265</td>\n",
       "      <td>...</td>\n",
       "      <td>9265</td>\n",
       "      <td>9265</td>\n",
       "      <td>9265</td>\n",
       "      <td>9265</td>\n",
       "      <td>9265</td>\n",
       "      <td>9265</td>\n",
       "      <td>9265</td>\n",
       "      <td>9265</td>\n",
       "      <td>9265</td>\n",
       "      <td>9265</td>\n",
       "    </tr>\n",
       "    <tr>\n",
       "      <th>1</th>\n",
       "      <td>2899</td>\n",
       "      <td>2899</td>\n",
       "      <td>2899</td>\n",
       "      <td>2899</td>\n",
       "      <td>2899</td>\n",
       "      <td>2899</td>\n",
       "      <td>2899</td>\n",
       "      <td>2899</td>\n",
       "      <td>2899</td>\n",
       "      <td>2899</td>\n",
       "      <td>...</td>\n",
       "      <td>2899</td>\n",
       "      <td>2899</td>\n",
       "      <td>2899</td>\n",
       "      <td>2899</td>\n",
       "      <td>2899</td>\n",
       "      <td>2899</td>\n",
       "      <td>2899</td>\n",
       "      <td>2899</td>\n",
       "      <td>2899</td>\n",
       "      <td>2899</td>\n",
       "    </tr>\n",
       "    <tr>\n",
       "      <th>2</th>\n",
       "      <td>816</td>\n",
       "      <td>816</td>\n",
       "      <td>816</td>\n",
       "      <td>816</td>\n",
       "      <td>816</td>\n",
       "      <td>816</td>\n",
       "      <td>816</td>\n",
       "      <td>816</td>\n",
       "      <td>816</td>\n",
       "      <td>816</td>\n",
       "      <td>...</td>\n",
       "      <td>816</td>\n",
       "      <td>816</td>\n",
       "      <td>816</td>\n",
       "      <td>816</td>\n",
       "      <td>816</td>\n",
       "      <td>816</td>\n",
       "      <td>816</td>\n",
       "      <td>816</td>\n",
       "      <td>816</td>\n",
       "      <td>816</td>\n",
       "    </tr>\n",
       "    <tr>\n",
       "      <th>3</th>\n",
       "      <td>2</td>\n",
       "      <td>2</td>\n",
       "      <td>2</td>\n",
       "      <td>2</td>\n",
       "      <td>2</td>\n",
       "      <td>2</td>\n",
       "      <td>2</td>\n",
       "      <td>2</td>\n",
       "      <td>2</td>\n",
       "      <td>2</td>\n",
       "      <td>...</td>\n",
       "      <td>2</td>\n",
       "      <td>2</td>\n",
       "      <td>2</td>\n",
       "      <td>2</td>\n",
       "      <td>2</td>\n",
       "      <td>2</td>\n",
       "      <td>2</td>\n",
       "      <td>2</td>\n",
       "      <td>2</td>\n",
       "      <td>2</td>\n",
       "    </tr>\n",
       "    <tr>\n",
       "      <th>4</th>\n",
       "      <td>31</td>\n",
       "      <td>31</td>\n",
       "      <td>31</td>\n",
       "      <td>31</td>\n",
       "      <td>31</td>\n",
       "      <td>31</td>\n",
       "      <td>31</td>\n",
       "      <td>31</td>\n",
       "      <td>31</td>\n",
       "      <td>31</td>\n",
       "      <td>...</td>\n",
       "      <td>31</td>\n",
       "      <td>31</td>\n",
       "      <td>31</td>\n",
       "      <td>31</td>\n",
       "      <td>31</td>\n",
       "      <td>31</td>\n",
       "      <td>31</td>\n",
       "      <td>31</td>\n",
       "      <td>31</td>\n",
       "      <td>31</td>\n",
       "    </tr>\n",
       "    <tr>\n",
       "      <th>5</th>\n",
       "      <td>2</td>\n",
       "      <td>2</td>\n",
       "      <td>2</td>\n",
       "      <td>2</td>\n",
       "      <td>2</td>\n",
       "      <td>2</td>\n",
       "      <td>2</td>\n",
       "      <td>2</td>\n",
       "      <td>2</td>\n",
       "      <td>2</td>\n",
       "      <td>...</td>\n",
       "      <td>2</td>\n",
       "      <td>2</td>\n",
       "      <td>2</td>\n",
       "      <td>2</td>\n",
       "      <td>2</td>\n",
       "      <td>2</td>\n",
       "      <td>2</td>\n",
       "      <td>2</td>\n",
       "      <td>2</td>\n",
       "      <td>2</td>\n",
       "    </tr>\n",
       "    <tr>\n",
       "      <th>6</th>\n",
       "      <td>1</td>\n",
       "      <td>1</td>\n",
       "      <td>1</td>\n",
       "      <td>1</td>\n",
       "      <td>1</td>\n",
       "      <td>1</td>\n",
       "      <td>1</td>\n",
       "      <td>1</td>\n",
       "      <td>1</td>\n",
       "      <td>1</td>\n",
       "      <td>...</td>\n",
       "      <td>1</td>\n",
       "      <td>1</td>\n",
       "      <td>1</td>\n",
       "      <td>1</td>\n",
       "      <td>1</td>\n",
       "      <td>1</td>\n",
       "      <td>1</td>\n",
       "      <td>1</td>\n",
       "      <td>1</td>\n",
       "      <td>1</td>\n",
       "    </tr>\n",
       "    <tr>\n",
       "      <th>7</th>\n",
       "      <td>1</td>\n",
       "      <td>1</td>\n",
       "      <td>1</td>\n",
       "      <td>1</td>\n",
       "      <td>1</td>\n",
       "      <td>1</td>\n",
       "      <td>1</td>\n",
       "      <td>1</td>\n",
       "      <td>1</td>\n",
       "      <td>1</td>\n",
       "      <td>...</td>\n",
       "      <td>1</td>\n",
       "      <td>1</td>\n",
       "      <td>1</td>\n",
       "      <td>1</td>\n",
       "      <td>1</td>\n",
       "      <td>1</td>\n",
       "      <td>1</td>\n",
       "      <td>1</td>\n",
       "      <td>1</td>\n",
       "      <td>1</td>\n",
       "    </tr>\n",
       "    <tr>\n",
       "      <th>9</th>\n",
       "      <td>2</td>\n",
       "      <td>2</td>\n",
       "      <td>2</td>\n",
       "      <td>2</td>\n",
       "      <td>2</td>\n",
       "      <td>2</td>\n",
       "      <td>2</td>\n",
       "      <td>2</td>\n",
       "      <td>2</td>\n",
       "      <td>2</td>\n",
       "      <td>...</td>\n",
       "      <td>2</td>\n",
       "      <td>2</td>\n",
       "      <td>2</td>\n",
       "      <td>2</td>\n",
       "      <td>2</td>\n",
       "      <td>2</td>\n",
       "      <td>2</td>\n",
       "      <td>2</td>\n",
       "      <td>2</td>\n",
       "      <td>2</td>\n",
       "    </tr>\n",
       "    <tr>\n",
       "      <th>11</th>\n",
       "      <td>2</td>\n",
       "      <td>2</td>\n",
       "      <td>2</td>\n",
       "      <td>2</td>\n",
       "      <td>2</td>\n",
       "      <td>2</td>\n",
       "      <td>2</td>\n",
       "      <td>2</td>\n",
       "      <td>2</td>\n",
       "      <td>2</td>\n",
       "      <td>...</td>\n",
       "      <td>2</td>\n",
       "      <td>2</td>\n",
       "      <td>2</td>\n",
       "      <td>2</td>\n",
       "      <td>2</td>\n",
       "      <td>2</td>\n",
       "      <td>2</td>\n",
       "      <td>2</td>\n",
       "      <td>2</td>\n",
       "      <td>2</td>\n",
       "    </tr>\n",
       "    <tr>\n",
       "      <th>12</th>\n",
       "      <td>5</td>\n",
       "      <td>5</td>\n",
       "      <td>5</td>\n",
       "      <td>5</td>\n",
       "      <td>5</td>\n",
       "      <td>5</td>\n",
       "      <td>5</td>\n",
       "      <td>5</td>\n",
       "      <td>5</td>\n",
       "      <td>5</td>\n",
       "      <td>...</td>\n",
       "      <td>5</td>\n",
       "      <td>5</td>\n",
       "      <td>5</td>\n",
       "      <td>5</td>\n",
       "      <td>5</td>\n",
       "      <td>5</td>\n",
       "      <td>5</td>\n",
       "      <td>5</td>\n",
       "      <td>5</td>\n",
       "      <td>5</td>\n",
       "    </tr>\n",
       "  </tbody>\n",
       "</table>\n",
       "<p>11 rows × 69 columns</p>\n",
       "</div>"
      ],
      "text/plain": [
       "             Kingdom  DNAtype  SpeciesID  Ncodons  SpeciesName   UUU   UUC  \\\n",
       "DNAtype_num                                                                  \n",
       "0               9265     9265       9265     9265         9265  9265  9265   \n",
       "1               2899     2899       2899     2899         2899  2899  2899   \n",
       "2                816      816        816      816          816   816   816   \n",
       "3                  2        2          2        2            2     2     2   \n",
       "4                 31       31         31       31           31    31    31   \n",
       "5                  2        2          2        2            2     2     2   \n",
       "6                  1        1          1        1            1     1     1   \n",
       "7                  1        1          1        1            1     1     1   \n",
       "9                  2        2          2        2            2     2     2   \n",
       "11                 2        2          2        2            2     2     2   \n",
       "12                 5        5          5        5            5     5     5   \n",
       "\n",
       "              UUA   UUG   CUU  ...   CGG   AGA   AGG   GAU   GAC   GAA   GAG  \\\n",
       "DNAtype_num                    ...                                             \n",
       "0            9265  9265  9265  ...  9265  9265  9265  9265  9265  9265  9265   \n",
       "1            2899  2899  2899  ...  2899  2899  2899  2899  2899  2899  2899   \n",
       "2             816   816   816  ...   816   816   816   816   816   816   816   \n",
       "3               2     2     2  ...     2     2     2     2     2     2     2   \n",
       "4              31    31    31  ...    31    31    31    31    31    31    31   \n",
       "5               2     2     2  ...     2     2     2     2     2     2     2   \n",
       "6               1     1     1  ...     1     1     1     1     1     1     1   \n",
       "7               1     1     1  ...     1     1     1     1     1     1     1   \n",
       "9               2     2     2  ...     2     2     2     2     2     2     2   \n",
       "11              2     2     2  ...     2     2     2     2     2     2     2   \n",
       "12              5     5     5  ...     5     5     5     5     5     5     5   \n",
       "\n",
       "              UAA   UAG   UGA  \n",
       "DNAtype_num                    \n",
       "0            9265  9265  9265  \n",
       "1            2899  2899  2899  \n",
       "2             816   816   816  \n",
       "3               2     2     2  \n",
       "4              31    31    31  \n",
       "5               2     2     2  \n",
       "6               1     1     1  \n",
       "7               1     1     1  \n",
       "9               2     2     2  \n",
       "11              2     2     2  \n",
       "12              5     5     5  \n",
       "\n",
       "[11 rows x 69 columns]"
      ]
     },
     "execution_count": 53,
     "metadata": {},
     "output_type": "execute_result"
    }
   ],
   "source": [
    "data_dna[\"DNAtype_num\"] = data_dna[\"DNAtype\"]\n",
    "data_dna.groupby(\"DNAtype_num\").count()"
   ]
  },
  {
   "cell_type": "markdown",
   "id": "d1349583-9bd4-49d9-af62-d92de4391c24",
   "metadata": {},
   "source": [
    "Like before with the data for the Kingdom labels, we drop all not required features and define the number of classes."
   ]
  },
  {
   "cell_type": "code",
   "execution_count": 54,
   "id": "949c38e3-8453-419f-9b52-d0df150a68f9",
   "metadata": {},
   "outputs": [],
   "source": [
    "data_drop_dna = data_dna[data_dna[\"DNAtype\"].isin([0, 1, 2, 4])]\n",
    "labels = [\"DNAtype_num\"]\n",
    "complete_data = data_drop_dna.iloc[:, 5:]\n",
    "targets = data_drop_dna.loc[:, labels]\n",
    "classes_n = len(targets.drop_duplicates(subset=labels))"
   ]
  },
  {
   "cell_type": "code",
   "execution_count": 55,
   "id": "5d28f97e-dd4c-4458-ac83-674f919877ee",
   "metadata": {},
   "outputs": [],
   "source": [
    "DF_train_full, DF_test = train_test_split(\n",
    "    complete_data,\n",
    "    test_size=test_size,\n",
    "    shuffle=True,\n",
    "    random_state=RANDOM_SEED,\n",
    "    stratify=targets,\n",
    ")\n",
    "DF_train, DF_val, = train_test_split(\n",
    "    DF_train_full,\n",
    "    test_size=val_size,\n",
    "    shuffle=True,\n",
    "    random_state=RANDOM_SEED,\n",
    "    stratify=DF_train_full[labels],\n",
    ")"
   ]
  },
  {
   "cell_type": "markdown",
   "id": "f748f6b0-9b87-451e-a0d6-ef3c8c23d8c9",
   "metadata": {},
   "source": [
    "Because we are using the same data, but now with different labels, the distribution in the train/validation/test splits is the same."
   ]
  },
  {
   "cell_type": "code",
   "execution_count": 56,
   "id": "c9bf0215-1f0e-4aa1-8a85-77cef79842ab",
   "metadata": {},
   "outputs": [
    {
     "name": "stdout",
     "output_type": "stream",
     "text": [
      "train_data:\t size 7285\n",
      "val_data:\t size 1822\n",
      "test_data:\t size 3904\n"
     ]
    }
   ],
   "source": [
    "df_dict = {\"train\": DF_train, \"val\": DF_val, \"test\": DF_test}\n",
    "for key, df_ in df_dict.items():\n",
    "    print(f\"{key}_data:\\t size {df_.shape[0]:>3}\")"
   ]
  },
  {
   "cell_type": "markdown",
   "id": "4f6b7b1f-4c45-4a63-8f58-f22dedf57c31",
   "metadata": {},
   "source": [
    "Again, the data is highly imbalanced. Especially class 4 is almost nonexistent. It also has the \"wrong\" label. Because our model uses the indices to predict the class, we must change the label to 3 and remove the gap. This change makes no difference for our analysis, but must be remembered when using this model in production."
   ]
  },
  {
   "cell_type": "code",
   "execution_count": 57,
   "id": "eba618d8-7158-4bd1-96fc-9946cbfcd94f",
   "metadata": {},
   "outputs": [
    {
     "data": {
      "image/png": "[encoded data removed]",
      "text/plain": [
       "<Figure size 1440x480 with 3 Axes>"
      ]
     },
     "metadata": {
      "needs_background": "light"
     },
     "output_type": "display_data"
    }
   ],
   "source": [
    "fig, axes = plt.subplots(1, 3, figsize=(18, 6), dpi=80)\n",
    "for ax, (key, df_) in enumerate(df_dict.items()):\n",
    "    sns.countplot(data=df_, x=labels[0], ax=axes[ax])\n",
    "    axes[ax].set(title=f\"{key}_data class distribution\")\n",
    "    axes[ax].set_ylabel(\"Count\")\n",
    "    plt.plot()"
   ]
  },
  {
   "cell_type": "code",
   "execution_count": 58,
   "id": "cfa53e7a-5b1d-42d4-adac-9a24c578d95f",
   "metadata": {},
   "outputs": [],
   "source": [
    "# Adjust labels\n",
    "complete_data[labels] = np.where(complete_data[labels] == 4, 3, complete_data[labels])\n",
    "targets = complete_data.loc[:, labels]"
   ]
  },
  {
   "cell_type": "markdown",
   "id": "c9b4821f-46d0-4482-8264-9ce06101b528",
   "metadata": {},
   "source": [
    "We use the same parameters as previously. We also use a higher number of epochs."
   ]
  },
  {
   "cell_type": "code",
   "execution_count": 59,
   "id": "006a39df-281f-4a17-8f37-b0d835b698a1",
   "metadata": {},
   "outputs": [],
   "source": [
    "# Parameters\n",
    "feature_n = complete_data.drop(labels, axis=1).shape[1]\n",
    "classes_n = len(targets.drop_duplicates(subset=labels))  # Now 4 classes\n",
    "num_epochs = 100  # Now using more epochs\n",
    "test_size = 0.3\n",
    "val_size = 0.2\n",
    "core_n = psutil.cpu_count(logical=False)\n",
    "if core_n > 1:\n",
    "    core_n = core_n - 1"
   ]
  },
  {
   "cell_type": "code",
   "execution_count": 60,
   "id": "f3d5e510-2fa6-4d27-b2de-79eafd32a285",
   "metadata": {},
   "outputs": [
    {
     "data": {
      "text/html": [
       "<div>\n",
       "<style scoped>\n",
       "    .dataframe tbody tr th:only-of-type {\n",
       "        vertical-align: middle;\n",
       "    }\n",
       "\n",
       "    .dataframe tbody tr th {\n",
       "        vertical-align: top;\n",
       "    }\n",
       "\n",
       "    .dataframe thead th {\n",
       "        text-align: right;\n",
       "    }\n",
       "</style>\n",
       "<table border=\"1\" class=\"dataframe\">\n",
       "  <thead>\n",
       "    <tr style=\"text-align: right;\">\n",
       "      <th></th>\n",
       "      <th>hidden_layer</th>\n",
       "      <th>learning_rate</th>\n",
       "      <th>batch_size</th>\n",
       "      <th>weights</th>\n",
       "      <th>fold</th>\n",
       "      <th>val_loss</th>\n",
       "      <th>val_accuracy</th>\n",
       "      <th>val_balanced_accuracy</th>\n",
       "      <th>val_f1</th>\n",
       "      <th>val_precision</th>\n",
       "      <th>test_loss</th>\n",
       "      <th>test_accuracy</th>\n",
       "      <th>test_balanced_accuracy</th>\n",
       "      <th>test_f1</th>\n",
       "      <th>test_precision</th>\n",
       "    </tr>\n",
       "  </thead>\n",
       "  <tbody>\n",
       "    <tr>\n",
       "      <th>0</th>\n",
       "      <td>3</td>\n",
       "      <td>0.001</td>\n",
       "      <td>32</td>\n",
       "      <td>False</td>\n",
       "      <td>2.0</td>\n",
       "      <td>0.304006</td>\n",
       "      <td>0.909411</td>\n",
       "      <td>0.815393</td>\n",
       "      <td>0.802284</td>\n",
       "      <td>0.809738</td>\n",
       "      <td>0.329518</td>\n",
       "      <td>0.90783</td>\n",
       "      <td>0.812485</td>\n",
       "      <td>0.801086</td>\n",
       "      <td>0.811714</td>\n",
       "    </tr>\n",
       "  </tbody>\n",
       "</table>\n",
       "</div>"
      ],
      "text/plain": [
       "   hidden_layer  learning_rate  batch_size  weights  fold  val_loss  \\\n",
       "0             3          0.001          32    False   2.0  0.304006   \n",
       "\n",
       "   val_accuracy  val_balanced_accuracy    val_f1  val_precision  test_loss  \\\n",
       "0      0.909411               0.815393  0.802284       0.809738   0.329518   \n",
       "\n",
       "   test_accuracy  test_balanced_accuracy   test_f1  test_precision  \n",
       "0        0.90783                0.812485  0.801086        0.811714  "
      ]
     },
     "execution_count": 60,
     "metadata": {},
     "output_type": "execute_result"
    }
   ],
   "source": [
    "best_params"
   ]
  },
  {
   "cell_type": "code",
   "execution_count": 61,
   "id": "3b06ca22-2213-42a2-a051-5215b13011ff",
   "metadata": {},
   "outputs": [],
   "source": [
    "if best_params[\"weights\"].iloc[0]:\n",
    "    dna_weights = compute_class_weight(\n",
    "        class_weight=\"balanced\",\n",
    "        classes=targets.drop_duplicates(subset=labels).iloc[:, 0],\n",
    "        y=targets.iloc[:, 0].ravel(),\n",
    "    )\n",
    "    best_config[\"weights\"] = [torch.Tensor(dna_weights)]\n",
    "else:\n",
    "    best_config[\"weights\"] = [None]"
   ]
  },
  {
   "cell_type": "markdown",
   "id": "3a18f1ca-5c08-4bd4-be9f-1c51898690a5",
   "metadata": {},
   "source": [
    "Here we also use the same setup as with the Kingdom labels. The only difference is the threshold for the EarlyStop callback. For this run we have increased it to 50, because in some previous runs the validation loss did decrease after our default value of 15 epochs."
   ]
  },
  {
   "cell_type": "code",
   "execution_count": 62,
   "id": "bdcbb76e-d22c-413b-90a5-84f1e2f461f6",
   "metadata": {},
   "outputs": [
    {
     "name": "stderr",
     "output_type": "stream",
     "text": [
      "C:\\Users\\hjano\\OneDrive\\Uni\\Master\\Vorlesungen\\07_Deep_Learning\\practical_exercises\\.venv\\lib\\site-packages\\pytorch_lightning\\trainer\\trainer.py:1933: PossibleUserWarning: The number of training batches (1) is smaller than the logging interval Trainer(log_every_n_steps=20). Set a lower value for log_every_n_steps if you want to see logs for the training epoch.\n",
      "  rank_zero_warn(\n"
     ]
    },
    {
     "name": "stdout",
     "output_type": "stream",
     "text": [
      "Finished training of the HP-combination: 01 - fold: final_dna_0\n",
      "Trained on hidden layers:  3 learning-rate: 0.0010 batch-size:  32 weights:False\n",
      "Training time: 0:00:24.783728\n"
     ]
    },
    {
     "name": "stderr",
     "output_type": "stream",
     "text": [
      "C:\\Users\\hjano\\OneDrive\\Uni\\Master\\Vorlesungen\\07_Deep_Learning\\practical_exercises\\.venv\\lib\\site-packages\\pytorch_lightning\\trainer\\trainer.py:1933: PossibleUserWarning: The number of training batches (1) is smaller than the logging interval Trainer(log_every_n_steps=20). Set a lower value for log_every_n_steps if you want to see logs for the training epoch.\n",
      "  rank_zero_warn(\n"
     ]
    },
    {
     "name": "stdout",
     "output_type": "stream",
     "text": [
      "Finished training of the HP-combination: 01 - fold: final_dna_1\n",
      "Trained on hidden layers:  3 learning-rate: 0.0010 batch-size:  32 weights:False\n",
      "Training time: 0:00:22.609377\n"
     ]
    },
    {
     "name": "stderr",
     "output_type": "stream",
     "text": [
      "C:\\Users\\hjano\\OneDrive\\Uni\\Master\\Vorlesungen\\07_Deep_Learning\\practical_exercises\\.venv\\lib\\site-packages\\pytorch_lightning\\trainer\\trainer.py:1933: PossibleUserWarning: The number of training batches (1) is smaller than the logging interval Trainer(log_every_n_steps=20). Set a lower value for log_every_n_steps if you want to see logs for the training epoch.\n",
      "  rank_zero_warn(\n"
     ]
    },
    {
     "name": "stdout",
     "output_type": "stream",
     "text": [
      "Finished training of the HP-combination: 01 - fold: final_dna_2\n",
      "Trained on hidden layers:  3 learning-rate: 0.0010 batch-size:  32 weights:False\n",
      "Training time: 0:00:22.527210\n"
     ]
    }
   ],
   "source": [
    "runs_eval = list()\n",
    "dna_data = dict()\n",
    "for idx, (train_index, test_index) in enumerate(\n",
    "    skf_eval.split(complete_data.drop(columns=labels), complete_data[labels])\n",
    "):\n",
    "    X_train_full, X_test = complete_data.iloc[train_index], complete_data.iloc[test_index]\n",
    "    X_train, X_val, = train_test_split(\n",
    "        X_train_full,\n",
    "        test_size=val_size,\n",
    "        shuffle=True,\n",
    "        random_state=RANDOM_SEED,\n",
    "        stratify=X_train_full[labels],\n",
    "    )\n",
    "    scaler = MinMaxScaler()\n",
    "    X_train_sc = scaler.fit_transform(X_train)\n",
    "    X_val_sc = scaler.fit_transform(X_val)\n",
    "    X_test_sc = scaler.transform(X_test)\n",
    "\n",
    "    DF_train_sc = combine_to_df(X_train_sc, X_train, labels)\n",
    "    DF_val_sc = combine_to_df(X_val_sc, X_val, labels)\n",
    "    DF_test_sc = combine_to_df(X_test_sc, X_test, labels)\n",
    "    runs_eval += hp_optimization(\n",
    "        best_config,\n",
    "        df_train=DF_train_sc,\n",
    "        df_val=DF_val_sc,\n",
    "        df_test=DF_test_sc,\n",
    "        num_epochs=num_epochs,\n",
    "        dev=True,  # Again for shorter evaluation\n",
    "        cv=f\"final_dna_{idx}\",\n",
    "        stop=50,\n",
    "    )\n",
    "    dna_data[f\"final_dna_{idx}\"] = [DF_train_sc, DF_val_sc, DF_test_sc]"
   ]
  },
  {
   "cell_type": "code",
   "execution_count": 63,
   "id": "b6b543ac-2f5e-463a-b158-c0d52468806b",
   "metadata": {},
   "outputs": [
    {
     "data": {
      "text/html": [
       "<div>\n",
       "<style scoped>\n",
       "    .dataframe tbody tr th:only-of-type {\n",
       "        vertical-align: middle;\n",
       "    }\n",
       "\n",
       "    .dataframe tbody tr th {\n",
       "        vertical-align: top;\n",
       "    }\n",
       "\n",
       "    .dataframe thead th {\n",
       "        text-align: right;\n",
       "    }\n",
       "</style>\n",
       "<table border=\"1\" class=\"dataframe\">\n",
       "  <thead>\n",
       "    <tr style=\"text-align: right;\">\n",
       "      <th></th>\n",
       "      <th>hidden_layer</th>\n",
       "      <th>learning_rate</th>\n",
       "      <th>batch_size</th>\n",
       "      <th>fold</th>\n",
       "      <th>weights</th>\n",
       "    </tr>\n",
       "  </thead>\n",
       "  <tbody>\n",
       "    <tr>\n",
       "      <th>0</th>\n",
       "      <td>3</td>\n",
       "      <td>0.001</td>\n",
       "      <td>32</td>\n",
       "      <td>final_dna_0</td>\n",
       "      <td>False</td>\n",
       "    </tr>\n",
       "    <tr>\n",
       "      <th>1</th>\n",
       "      <td>3</td>\n",
       "      <td>0.001</td>\n",
       "      <td>32</td>\n",
       "      <td>final_dna_1</td>\n",
       "      <td>False</td>\n",
       "    </tr>\n",
       "    <tr>\n",
       "      <th>2</th>\n",
       "      <td>3</td>\n",
       "      <td>0.001</td>\n",
       "      <td>32</td>\n",
       "      <td>final_dna_2</td>\n",
       "      <td>False</td>\n",
       "    </tr>\n",
       "  </tbody>\n",
       "</table>\n",
       "</div>"
      ],
      "text/plain": [
       "   hidden_layer  learning_rate  batch_size         fold  weights\n",
       "0             3          0.001          32  final_dna_0    False\n",
       "1             3          0.001          32  final_dna_1    False\n",
       "2             3          0.001          32  final_dna_2    False"
      ]
     },
     "execution_count": 63,
     "metadata": {},
     "output_type": "execute_result"
    }
   ],
   "source": [
    "pd.DataFrame(runs_eval).head()"
   ]
  },
  {
   "cell_type": "code",
   "execution_count": 64,
   "id": "9d76e121-0686-4045-9fad-ef33695d2368",
   "metadata": {},
   "outputs": [],
   "source": [
    "best_config = best_params.iloc[:1, :].to_dict(\"list\")\n",
    "eval_dna_result = list()\n",
    "for _model, _res in dna_data.items():\n",
    "    _best_model = load_best_model(\n",
    "        best_config,\n",
    "        NeuralNet,\n",
    "        feature_n=feature_n,\n",
    "        classes_n=classes_n,\n",
    "        device=device,\n",
    "        cv=_model,\n",
    "    )\n",
    "    eval_dna_result.append(\n",
    "        compute_metrics(\n",
    "            _best_model,\n",
    "            torch.tensor(_res[-1].drop(columns=labels).values, dtype=torch.float),\n",
    "            _res[-1][labels],\n",
    "        )\n",
    "    )"
   ]
  },
  {
   "cell_type": "code",
   "execution_count": 65,
   "id": "deb8cb77-87c2-4906-9e9b-be78bee11aea",
   "metadata": {},
   "outputs": [
    {
     "data": {
      "text/html": [
       "<div>\n",
       "<style scoped>\n",
       "    .dataframe tbody tr th:only-of-type {\n",
       "        vertical-align: middle;\n",
       "    }\n",
       "\n",
       "    .dataframe tbody tr th {\n",
       "        vertical-align: top;\n",
       "    }\n",
       "\n",
       "    .dataframe thead th {\n",
       "        text-align: right;\n",
       "    }\n",
       "</style>\n",
       "<table border=\"1\" class=\"dataframe\">\n",
       "  <thead>\n",
       "    <tr style=\"text-align: right;\">\n",
       "      <th></th>\n",
       "      <th>Accuracy</th>\n",
       "      <th>Balanced Accuracy</th>\n",
       "      <th>ROC AUC</th>\n",
       "      <th>F1</th>\n",
       "      <th>Precision</th>\n",
       "      <th>confusion_matrix</th>\n",
       "    </tr>\n",
       "  </thead>\n",
       "  <tbody>\n",
       "    <tr>\n",
       "      <th>0</th>\n",
       "      <td>0.9308</td>\n",
       "      <td>0.6698</td>\n",
       "      <td>0.9711</td>\n",
       "      <td>0.5078</td>\n",
       "      <td>0.6712</td>\n",
       "      <td>[[3082, 4, 0, 3], [6, 948, 0, 12], [6, 1, 0, 2...</td>\n",
       "    </tr>\n",
       "    <tr>\n",
       "      <th>1</th>\n",
       "      <td>0.9343</td>\n",
       "      <td>0.7029</td>\n",
       "      <td>0.9757</td>\n",
       "      <td>0.5136</td>\n",
       "      <td>0.6748</td>\n",
       "      <td>[[3081, 4, 0, 3], [3, 962, 0, 1], [3, 0, 0, 26...</td>\n",
       "    </tr>\n",
       "    <tr>\n",
       "      <th>2</th>\n",
       "      <td>0.9320</td>\n",
       "      <td>0.6454</td>\n",
       "      <td>0.9523</td>\n",
       "      <td>0.5068</td>\n",
       "      <td>0.6682</td>\n",
       "      <td>[[3086, 1, 0, 1], [16, 950, 0, 1], [28, 3, 0, ...</td>\n",
       "    </tr>\n",
       "  </tbody>\n",
       "</table>\n",
       "</div>"
      ],
      "text/plain": [
       "   Accuracy  Balanced Accuracy  ROC AUC      F1  Precision  \\\n",
       "0    0.9308             0.6698   0.9711  0.5078     0.6712   \n",
       "1    0.9343             0.7029   0.9757  0.5136     0.6748   \n",
       "2    0.9320             0.6454   0.9523  0.5068     0.6682   \n",
       "\n",
       "                                    confusion_matrix  \n",
       "0  [[3082, 4, 0, 3], [6, 948, 0, 12], [6, 1, 0, 2...  \n",
       "1  [[3081, 4, 0, 3], [3, 962, 0, 1], [3, 0, 0, 26...  \n",
       "2  [[3086, 1, 0, 1], [16, 950, 0, 1], [28, 3, 0, ...  "
      ]
     },
     "execution_count": 65,
     "metadata": {},
     "output_type": "execute_result"
    }
   ],
   "source": [
    "eval_dna_result_df = pd.DataFrame(eval_dna_result)\n",
    "eval_dna_result_df"
   ]
  },
  {
   "cell_type": "markdown",
   "id": "014f4f1c-0bef-400c-8846-d781f1fd8083",
   "metadata": {},
   "source": [
    "The results of DNA type evaluation are much more promising. Not only is the Balanced Accuracy better than for the Kingdom labels, all three folds are very similar. This suggest that our trained model is very stable."
   ]
  },
  {
   "cell_type": "code",
   "execution_count": 66,
   "id": "2c737253-a070-4a94-ad2a-66f5f320b854",
   "metadata": {},
   "outputs": [
    {
     "data": {
      "text/html": [
       "<div>\n",
       "<style scoped>\n",
       "    .dataframe tbody tr th:only-of-type {\n",
       "        vertical-align: middle;\n",
       "    }\n",
       "\n",
       "    .dataframe tbody tr th {\n",
       "        vertical-align: top;\n",
       "    }\n",
       "\n",
       "    .dataframe thead th {\n",
       "        text-align: right;\n",
       "    }\n",
       "</style>\n",
       "<table border=\"1\" class=\"dataframe\">\n",
       "  <thead>\n",
       "    <tr style=\"text-align: right;\">\n",
       "      <th></th>\n",
       "      <th>mean</th>\n",
       "      <th>std</th>\n",
       "    </tr>\n",
       "  </thead>\n",
       "  <tbody>\n",
       "    <tr>\n",
       "      <th>Accuracy</th>\n",
       "      <td>0.932367</td>\n",
       "      <td>0.001779</td>\n",
       "    </tr>\n",
       "    <tr>\n",
       "      <th>Balanced Accuracy</th>\n",
       "      <td>0.672700</td>\n",
       "      <td>0.028859</td>\n",
       "    </tr>\n",
       "    <tr>\n",
       "      <th>ROC AUC</th>\n",
       "      <td>0.966367</td>\n",
       "      <td>0.012397</td>\n",
       "    </tr>\n",
       "    <tr>\n",
       "      <th>F1</th>\n",
       "      <td>0.509400</td>\n",
       "      <td>0.003672</td>\n",
       "    </tr>\n",
       "    <tr>\n",
       "      <th>Precision</th>\n",
       "      <td>0.671400</td>\n",
       "      <td>0.003305</td>\n",
       "    </tr>\n",
       "  </tbody>\n",
       "</table>\n",
       "</div>"
      ],
      "text/plain": [
       "                       mean       std\n",
       "Accuracy           0.932367  0.001779\n",
       "Balanced Accuracy  0.672700  0.028859\n",
       "ROC AUC            0.966367  0.012397\n",
       "F1                 0.509400  0.003672\n",
       "Precision          0.671400  0.003305"
      ]
     },
     "execution_count": 66,
     "metadata": {},
     "output_type": "execute_result"
    }
   ],
   "source": [
    "eval_dna_result_df.iloc[:, :-1].agg([\"mean\", \"std\"]).transpose()"
   ]
  },
  {
   "cell_type": "markdown",
   "id": "3921ec02-17c3-49e0-b764-4df9fdbf5ba7",
   "metadata": {},
   "source": [
    "Also, looking at Tensorboard we see that the additional epochs and higher threshold for the EarlyStop callback had no real effect. The best epochs are 11, 14, and 16."
   ]
  },
  {
   "cell_type": "markdown",
   "id": "3dbc978b-f510-4c9b-b11a-075baa281a18",
   "metadata": {},
   "source": [
    "---\n",
    "<a id='result'></a>"
   ]
  },
  {
   "cell_type": "markdown",
   "id": "2739560c-68d9-4117-bfc4-d3bf2d7cd4ca",
   "metadata": {},
   "source": [
    "## 6. Result\n",
    "<a id='res-king'></a>\n",
    "### 6.1 Kingdom\n",
    "\n",
    "After the Hyperparameter optimization, Cross-Validation and model evaluation we will use the initial train/validation/test splits and train a final model and compare it to our baselines. The setup is the same as before."
   ]
  },
  {
   "cell_type": "code",
   "execution_count": 77,
   "id": "00740806-afe5-49b7-a4e8-229900b66401",
   "metadata": {},
   "outputs": [
    {
     "name": "stderr",
     "output_type": "stream",
     "text": [
      "C:\\Users\\hjano\\OneDrive\\Uni\\Master\\Vorlesungen\\07_Deep_Learning\\practical_exercises\\.venv\\lib\\site-packages\\pytorch_lightning\\callbacks\\model_checkpoint.py:611: UserWarning: Checkpoint directory logs\\DL-Exam2\\layer=3-lr=0.001-batchsize=32-cv=final_king-weights=False\\checkpoints exists and is not empty.\n",
      "  rank_zero_warn(f\"Checkpoint directory {dirpath} exists and is not empty.\")\n",
      "C:\\Users\\hjano\\OneDrive\\Uni\\Master\\Vorlesungen\\07_Deep_Learning\\practical_exercises\\.venv\\lib\\site-packages\\pytorch_lightning\\trainer\\trainer.py:726: UserWarning: Detected KeyboardInterrupt, attempting graceful shutdown...\n",
      "  rank_zero_warn(\"Detected KeyboardInterrupt, attempting graceful shutdown...\")\n",
      "Exception ignored in: <function _MultiProcessingDataLoaderIter.__del__ at 0x0000020AD13270D0>\n",
      "Traceback (most recent call last):\n",
      "  File \"C:\\Users\\hjano\\OneDrive\\Uni\\Master\\Vorlesungen\\07_Deep_Learning\\practical_exercises\\.venv\\lib\\site-packages\\torch\\utils\\data\\dataloader.py\", line 1481, in __del__\n",
      "    self._shutdown_workers()\n",
      "  File \"C:\\Users\\hjano\\OneDrive\\Uni\\Master\\Vorlesungen\\07_Deep_Learning\\practical_exercises\\.venv\\lib\\site-packages\\torch\\utils\\data\\dataloader.py\", line 1439, in _shutdown_workers\n",
      "    if self._persistent_workers or self._workers_status[worker_id]:\n",
      "AttributeError: '_MultiProcessingDataLoaderIter' object has no attribute '_workers_status'\n"
     ]
    },
    {
     "name": "stdout",
     "output_type": "stream",
     "text": [
      "Finished training of the HP-combination: 01 - fold: final_king\n",
      "Trained on hidden layers:  3 learning-rate: 0.0010 batch-size:  32 weights:False\n",
      "Training time: 0:00:34.374683\n"
     ]
    }
   ],
   "source": [
    "labels = [\"Kingdom_num\"]\n",
    "complete_data = data_king.iloc[:, 5:]\n",
    "targets = data_king.loc[:, labels]\n",
    "feature_n = complete_data.drop(labels, axis=1).shape[1]\n",
    "classes_n = len(targets.drop_duplicates(subset=labels))\n",
    "best_config[\"weights\"] = [None]  # We know that no weights are better\n",
    "\n",
    "DF_train_full, DF_test = train_test_split(\n",
    "    complete_data,\n",
    "    test_size=test_size,\n",
    "    shuffle=True,\n",
    "    random_state=RANDOM_SEED,\n",
    "    stratify=targets,\n",
    ")\n",
    "DF_train, DF_val, = train_test_split(\n",
    "    DF_train_full,\n",
    "    test_size=val_size,\n",
    "    shuffle=True,\n",
    "    random_state=RANDOM_SEED,\n",
    "    stratify=DF_train_full[labels],\n",
    ")\n",
    "\n",
    "scaler = MinMaxScaler()\n",
    "X_train_sc = scaler.fit_transform(DF_train)\n",
    "X_val_sc = scaler.fit_transform(DF_val)\n",
    "X_test_sc = scaler.transform(DF_test)\n",
    "\n",
    "DF_train_sc = combine_to_df(X_train_sc, DF_train, labels)\n",
    "DF_val_sc = combine_to_df(X_val_sc, DF_val, labels)\n",
    "DF_test_sc = combine_to_df(X_test_sc, DF_test, labels)\n",
    "hp_res_king = hp_optimization(\n",
    "    best_config,\n",
    "    df_train=DF_train_sc,\n",
    "    df_val=DF_val_sc,\n",
    "    df_test=DF_test_sc,\n",
    "    num_epochs=num_epochs,\n",
    "    dev=False,\n",
    "    cv=f\"final_king\",\n",
    "    stop=50,\n",
    ")"
   ]
  },
  {
   "cell_type": "code",
   "execution_count": 68,
   "id": "1dfdaac2-a928-4022-8902-eba3cb7617bc",
   "metadata": {},
   "outputs": [],
   "source": [
    "best_model_key = \"final_king\"\n",
    "best_config = best_params.iloc[:1, :].to_dict(\"list\")\n",
    "best_model = load_best_model(\n",
    "    best_config,\n",
    "    NeuralNet,\n",
    "    feature_n=feature_n,\n",
    "    classes_n=classes_n,\n",
    "    device=device,\n",
    "    cv=best_model_key,\n",
    ")\n",
    "king_res = compute_metrics(\n",
    "    best_model,\n",
    "    torch.tensor(DF_test_sc.drop(columns=labels).values, dtype=torch.float),\n",
    "    DF_test_sc[labels],\n",
    ")"
   ]
  },
  {
   "cell_type": "code",
   "execution_count": 69,
   "id": "a71a437f-54a2-4d95-b18a-b20ba9c53f47",
   "metadata": {},
   "outputs": [
    {
     "data": {
      "text/html": [
       "<div>\n",
       "<style scoped>\n",
       "    .dataframe tbody tr th:only-of-type {\n",
       "        vertical-align: middle;\n",
       "    }\n",
       "\n",
       "    .dataframe tbody tr th {\n",
       "        vertical-align: top;\n",
       "    }\n",
       "\n",
       "    .dataframe thead th {\n",
       "        text-align: right;\n",
       "    }\n",
       "</style>\n",
       "<table border=\"1\" class=\"dataframe\">\n",
       "  <thead>\n",
       "    <tr style=\"text-align: right;\">\n",
       "      <th></th>\n",
       "      <th>Accuracy</th>\n",
       "      <th>Balanced Accuracy</th>\n",
       "      <th>ROC AUC</th>\n",
       "    </tr>\n",
       "    <tr>\n",
       "      <th>Model</th>\n",
       "      <th></th>\n",
       "      <th></th>\n",
       "      <th></th>\n",
       "    </tr>\n",
       "  </thead>\n",
       "  <tbody>\n",
       "    <tr>\n",
       "      <th>k-Nearest Neighbor</th>\n",
       "      <td>1.0000</td>\n",
       "      <td>1.0000</td>\n",
       "      <td>1.0000</td>\n",
       "    </tr>\n",
       "    <tr>\n",
       "      <th>Random Forest</th>\n",
       "      <td>0.9660</td>\n",
       "      <td>0.7418</td>\n",
       "      <td>0.9979</td>\n",
       "    </tr>\n",
       "    <tr>\n",
       "      <th>Naive Bayes</th>\n",
       "      <td>0.5072</td>\n",
       "      <td>0.2369</td>\n",
       "      <td>0.8371</td>\n",
       "    </tr>\n",
       "    <tr>\n",
       "      <th>Deep Learning</th>\n",
       "      <td>0.8022</td>\n",
       "      <td>0.4583</td>\n",
       "      <td>0.9549</td>\n",
       "    </tr>\n",
       "  </tbody>\n",
       "</table>\n",
       "</div>"
      ],
      "text/plain": [
       "                    Accuracy  Balanced Accuracy  ROC AUC\n",
       "Model                                                   \n",
       "k-Nearest Neighbor    1.0000             1.0000   1.0000\n",
       "Random Forest         0.9660             0.7418   0.9979\n",
       "Naive Bayes           0.5072             0.2369   0.8371\n",
       "Deep Learning         0.8022             0.4583   0.9549"
      ]
     },
     "execution_count": 69,
     "metadata": {},
     "output_type": "execute_result"
    }
   ],
   "source": [
    "col_names = [\"Model\", \"Accuracy\", \"Balanced Accuracy\", \"ROC AUC\"]\n",
    "king_combined = [\n",
    "    ml_king.reset_index()[col_names],\n",
    "    pd.DataFrame([{\"Model\": \"Deep Learning\", **king_res}])[col_names],\n",
    "]\n",
    "pd.concat(king_combined).set_index(\"Model\")"
   ]
  },
  {
   "cell_type": "markdown",
   "id": "c9c480bd-c278-45a2-b334-6f2df25fa03c",
   "metadata": {},
   "source": [
    "The Deep Learning model does perform better than Naive Bayes, but is outperformed by the other two ML models. The Balanced Accuracy of 0.4583 is not a good result. "
   ]
  },
  {
   "cell_type": "code",
   "execution_count": 70,
   "id": "dd5dcd72-a390-4def-bf80-c53fb7a922eb",
   "metadata": {},
   "outputs": [],
   "source": [
    "with open(\"data/ml_king_conf.p\", \"rb\") as fp:\n",
    "    ml_king_plot = pickle.load(fp)\n",
    "ml_king_plot[\"Deep Learning\"] = king_res[\"confusion_matrix\"]\n",
    "pop = ml_king_plot.pop(\"Naive Bayes\")"
   ]
  },
  {
   "cell_type": "markdown",
   "id": "f979d7cc-bf95-40b3-816e-2e871875750b",
   "metadata": {},
   "source": [
    "Because the Naives Bayes model had such bad results, we remove it from the final Confusion Matrix. The Confusion Matrix does confirm what the metrics above already have told us. The Deep Learning model has a much harder time at predicting the Kingdom. As we have suspected earlier, the classes 1, 3, 4, 9 and 10 do pose a problem for the model. It almost does not predict any of those underrepresented classes. Additionally it has problems with some of the classes with more samples. Especially classes 0 and 5 have very disappointing results."
   ]
  },
  {
   "cell_type": "code",
   "execution_count": 71,
   "id": "a92b60ab-77b1-4fdc-83a7-fe0b2013721c",
   "metadata": {},
   "outputs": [
    {
     "data": {
      "image/png": "[encoded data removed]",
      "text/plain": [
       "<Figure size 2400x1200 with 3 Axes>"
      ]
     },
     "metadata": {
      "needs_background": "light"
     },
     "output_type": "display_data"
    }
   ],
   "source": [
    "plot_multi_conf(ml_king_plot, targets.iloc[:, 0].unique(), \"Kingdoms\")"
   ]
  },
  {
   "cell_type": "markdown",
   "id": "49b7eee3-179f-44bb-ba92-b6ef88d1c5f2",
   "metadata": {},
   "source": [
    "<a id='res-dna'></a>\n",
    "### 6.2 DNAtype\n",
    "\n",
    "After the Kingdom model has performed very poorly, we will examine the DNA model. Again the setup is the same."
   ]
  },
  {
   "cell_type": "code",
   "execution_count": 81,
   "id": "139edd9e-c301-489c-9643-4226990e2cdf",
   "metadata": {},
   "outputs": [],
   "source": [
    "labels = [\"DNAtype_num\"]\n",
    "complete_data = data_drop_dna.iloc[:, 5:]\n",
    "# Adjust labels\n",
    "complete_data[labels] = np.where(complete_data[labels] == 4, 3, complete_data[labels])\n",
    "\n",
    "targets = complete_data.loc[:, labels]\n",
    "feature_n = complete_data.drop(labels, axis=1).shape[1]\n",
    "classes_n = len(targets.drop_duplicates(subset=labels))  # Now 4 classes\n",
    "best_config[\"weights\"] = [None]\n",
    "\n",
    "DF_train_full, DF_test = train_test_split(\n",
    "    complete_data,\n",
    "    test_size=test_size,\n",
    "    shuffle=True,\n",
    "    random_state=RANDOM_SEED,\n",
    "    stratify=targets,\n",
    ")\n",
    "DF_train, DF_val, = train_test_split(\n",
    "    DF_train_full,\n",
    "    test_size=val_size,\n",
    "    shuffle=True,\n",
    "    random_state=RANDOM_SEED,\n",
    "    stratify=DF_train_full[labels],\n",
    ")\n",
    "\n",
    "scaler = MinMaxScaler()\n",
    "X_train_sc = scaler.fit_transform(DF_train)\n",
    "X_val_sc = scaler.fit_transform(DF_val)\n",
    "X_test_sc = scaler.transform(DF_test)\n",
    "\n",
    "DF_train_sc = combine_to_df(X_train_sc, DF_train, labels)\n",
    "DF_val_sc = combine_to_df(X_val_sc, DF_val, labels)\n",
    "DF_test_sc = combine_to_df(X_test_sc, DF_test, labels)\n",
    "hp_res_dna = hp_optimization(\n",
    "    best_config,\n",
    "    df_train=DF_train_sc,\n",
    "    df_val=DF_val_sc,\n",
    "    df_test=DF_test_sc,\n",
    "    num_epochs=num_epochs,\n",
    "    dev=False,\n",
    "    cv=f\"final_dna\",\n",
    "    stop=50,\n",
    ")"
   ]
  },
  {
   "cell_type": "code",
   "execution_count": 82,
   "id": "934a2b7e-4b23-43bc-b886-413b8b90ec4c",
   "metadata": {},
   "outputs": [],
   "source": [
    "best_model_key = \"final_dna\"\n",
    "best_config = best_params.iloc[:1, :].to_dict(\"list\")\n",
    "best_model = load_best_model(\n",
    "    best_config,\n",
    "    NeuralNet,\n",
    "    feature_n=feature_n,\n",
    "    classes_n=classes_n,\n",
    "    device=device,\n",
    "    cv=best_model_key,\n",
    ")\n",
    "dna_res = compute_metrics(\n",
    "    best_model,\n",
    "    torch.tensor(DF_test_sc.drop(columns=labels).values, dtype=torch.float),\n",
    "    DF_test_sc[labels],\n",
    ")"
   ]
  },
  {
   "cell_type": "code",
   "execution_count": 83,
   "id": "ad550b5f-8edf-4791-863a-6697f69d7ea1",
   "metadata": {},
   "outputs": [
    {
     "data": {
      "text/html": [
       "<div>\n",
       "<style scoped>\n",
       "    .dataframe tbody tr th:only-of-type {\n",
       "        vertical-align: middle;\n",
       "    }\n",
       "\n",
       "    .dataframe tbody tr th {\n",
       "        vertical-align: top;\n",
       "    }\n",
       "\n",
       "    .dataframe thead th {\n",
       "        text-align: right;\n",
       "    }\n",
       "</style>\n",
       "<table border=\"1\" class=\"dataframe\">\n",
       "  <thead>\n",
       "    <tr style=\"text-align: right;\">\n",
       "      <th></th>\n",
       "      <th>Accuracy</th>\n",
       "      <th>Balanced Accuracy</th>\n",
       "      <th>ROC AUC</th>\n",
       "    </tr>\n",
       "    <tr>\n",
       "      <th>Model</th>\n",
       "      <th></th>\n",
       "      <th></th>\n",
       "      <th></th>\n",
       "    </tr>\n",
       "  </thead>\n",
       "  <tbody>\n",
       "    <tr>\n",
       "      <th>k-Nearest Neighbor</th>\n",
       "      <td>0.9926</td>\n",
       "      <td>0.8505</td>\n",
       "      <td>0.9402</td>\n",
       "    </tr>\n",
       "    <tr>\n",
       "      <th>Random Forest</th>\n",
       "      <td>0.9867</td>\n",
       "      <td>0.7732</td>\n",
       "      <td>0.9679</td>\n",
       "    </tr>\n",
       "    <tr>\n",
       "      <th>Naive Bayes</th>\n",
       "      <td>0.9324</td>\n",
       "      <td>0.5895</td>\n",
       "      <td>0.9071</td>\n",
       "    </tr>\n",
       "    <tr>\n",
       "      <th>Deep Learning</th>\n",
       "      <td>0.9910</td>\n",
       "      <td>0.7888</td>\n",
       "      <td>0.9779</td>\n",
       "    </tr>\n",
       "  </tbody>\n",
       "</table>\n",
       "</div>"
      ],
      "text/plain": [
       "                    Accuracy  Balanced Accuracy  ROC AUC\n",
       "Model                                                   \n",
       "k-Nearest Neighbor    0.9926             0.8505   0.9402\n",
       "Random Forest         0.9867             0.7732   0.9679\n",
       "Naive Bayes           0.9324             0.5895   0.9071\n",
       "Deep Learning         0.9910             0.7888   0.9779"
      ]
     },
     "execution_count": 83,
     "metadata": {},
     "output_type": "execute_result"
    }
   ],
   "source": [
    "dna_combined = [\n",
    "    ml_dna.reset_index()[col_names],\n",
    "    pd.DataFrame([{\"Model\": \"Deep Learning\", **dna_res}])[col_names],\n",
    "]\n",
    "pd.concat(dna_combined).set_index(\"Model\")"
   ]
  },
  {
   "cell_type": "markdown",
   "id": "0b362028-8239-415c-87ec-09bf89f736ff",
   "metadata": {},
   "source": [
    "This time the DL model does perform much better. Not only does it beat the already bad Naive Bayes model, it also is an improvement over the Random Forest model. Unfortunately, it is outperformed the k-Nearest Neighbor. The Balanced Accuracy of 0.79 is worse the Balanced Accuracy of KNN with 0.85."
   ]
  },
  {
   "cell_type": "code",
   "execution_count": 75,
   "id": "d10b45a9-1823-4f26-a720-a4e70fe7ae5e",
   "metadata": {},
   "outputs": [],
   "source": [
    "with open(\"data/ml_dna_conf.p\", \"rb\") as fp:\n",
    "    ml_dna_plot = pickle.load(fp)\n",
    "ml_dna_plot[\"Deep Learning\"] = dna_res[\"confusion_matrix\"]\n",
    "pop = ml_dna_plot.pop(\"Naive Bayes\")"
   ]
  },
  {
   "cell_type": "markdown",
   "id": "933b1cd4-1b9f-450e-bb51-38d2353ac8dc",
   "metadata": {},
   "source": [
    "Again we ignore the Naive Bayes model in the Confusion Matrices. Looking at the DNA type predictions the Confusion Matrices are much harder to distinguish. Especially KNN and DL have very similar results with only single digit differences. DL is slightly better predicting Genomic DNA, while KNN is better at predicting the other three classes."
   ]
  },
  {
   "cell_type": "code",
   "execution_count": 76,
   "id": "9f4fb50b-9324-4c0b-ab42-5514368528dd",
   "metadata": {},
   "outputs": [
    {
     "data": {
      "image/png": "[encoded data removed]",
      "text/plain": [
       "<Figure size 2400x1200 with 3 Axes>"
      ]
     },
     "metadata": {
      "needs_background": "light"
     },
     "output_type": "display_data"
    }
   ],
   "source": [
    "plot_multi_conf(ml_dna_plot, [\"Genomic\", \"Mitochondrial\", \"Chloroplast\", \"Plastid\"], \"DNA types\")"
   ]
  },
  {
   "cell_type": "markdown",
   "id": "260f52c6-5175-4c98-a018-a21d5fa7a937",
   "metadata": {},
   "source": [
    "<a id='dis'></a>\n",
    "### 6.3 Discussion\n",
    "\n",
    "In the beginning we have asked the question if DL models can \"outperform the classical Machine Learning models and where they might have some shortcomings\". Especially the last question we have successfully answered. We have seen that performing extensive Hyperparameter optimization, Cross-Validation and using Models with tens of thousand trainable parameters does not guarantee better results than a simple Machine Learning setup using Random Forest or k-Nearest Neighbor. All models combined have taken around 36 hours of training time and still did not manage to beat KNN and RF for the Kingdom labels and KNN for the DNA labels. Not only have the DL models required more time, but they also needed much more code and customization. The classes with very few samples also presented an obstacle for the DL models.<br>\n",
    "And still we were able to show that DL models can produce good results under the right circumstances. The final model for the DNA labels only needed 37 epochs to beat RF and had a very comparable performance to KNN. I am sure that more samples and a more sophisticated layer architecture can further improve the DL model. <br>\n",
    "Finally, we have displayed that choosing the right label plays a very big role. Although the DL model had many problems with the Kingdom labels, it was much easier to predict the DNA type although both used the same underlying data. And though certainly the number of classes did play a role, in the final case the model was able to very accurately predict a class with only ~230 samples, while struggling before with classes with more than ~700 samples."
   ]
  },
  {
   "cell_type": "markdown",
   "id": "ffbadb09-3df0-44c0-8b05-4da97c228cb6",
   "metadata": {},
   "source": [
    "---\n",
    "<a id='ref'></a>"
   ]
  },
  {
   "cell_type": "markdown",
   "id": "63e0230c-c730-459d-8091-df1715975467",
   "metadata": {},
   "source": [
    "## References\n",
    "\n",
    "<p> [1] https://archive.ics.uci.edu/ml/datasets/Codon+usage\n",
    "\n",
    "<p> [2] Khomtchouk BB: 'Codon usage bias levels predict taxonomic identity and genetic composition'. bioRxiv, 2020, doi: 10.1101/2020.10.26.356295.\n",
    "    \n",
    "<p> [3] Pytorch Lightning. https://www.pytorchlightning.ai/"
   ]
  }
 ],
 "metadata": {
  "kernelspec": {
   "display_name": "DL",
   "language": "python",
   "name": "dl"
  },
  "language_info": {
   "codemirror_mode": {
    "name": "ipython",
    "version": 3
   },
   "file_extension": ".py",
   "mimetype": "text/x-python",
   "name": "python",
   "nbconvert_exporter": "python",
   "pygments_lexer": "ipython3",
   "version": "3.9.7"
  }
 },
 "nbformat": 4,
 "nbformat_minor": 5
}
