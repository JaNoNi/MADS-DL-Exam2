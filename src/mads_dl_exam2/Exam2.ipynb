{
 "cells": [
  {
   "cell_type": "markdown",
   "id": "fe12c956-bdc7-405f-89bb-73656f14b7bb",
   "metadata": {},
   "source": [
    "# Can the codon frequency be used to predict the DNAtype and Kingdom? This time using Deep Learning.\n",
    "---\n",
    "<b>MADS-DL Portfolio-Exam Part 2<br>\n",
    "Janosch Höfer, 938969</b>"
   ]
  },
  {
   "cell_type": "markdown",
   "id": "a1c21e64-cf43-466b-87d1-0d211e1b06c3",
   "metadata": {},
   "source": [
    "## Table of contents\n",
    "\n",
    "- [Introduction](#intro) <br>\n",
    "- [1. Data preparation](#data-prep) <br>\n",
    "- [2. Parameters](#parameters) <br>\n",
    "- [3. Split Data](#split) <br>\n",
    "- [4. Model setup and Hyperparameter Optimization](#model-setup) <br>\n",
    "   - [4.1. Neural Network](#NN) <br>\n",
    "   - [4.2. Cross-validation](#CV) <br>\n",
    "- [5. Model Evaluation](#eval) <br>\n",
    "   - [5.1. Codon-Kingdom](#eval-king) <br>\n",
    "   - [5.2. Codon-DNAtype](#eval-dna) <br>\n",
    "- [6. Result](#result)<br>\n",
    "- [References](#ref)<br>"
   ]
  },
  {
   "cell_type": "markdown",
   "id": "45565406-0b20-4068-9147-9ad734714b8b",
   "metadata": {},
   "source": [
    "## Introduction"
   ]
  },
  {
   "cell_type": "code",
   "execution_count": 1,
   "id": "837f2b17-b3b1-4f94-8a56-2bd201616743",
   "metadata": {},
   "outputs": [],
   "source": [
    "# Standard libraries\n",
    "import copy\n",
    "import logging\n",
    "import os\n",
    "import random\n",
    "from datetime import timedelta\n",
    "from timeit import default_timer as timer\n",
    "\n",
    "import matplotlib.pyplot as plt\n",
    "import numpy as np\n",
    "import pandas as pd\n",
    "import psutil\n",
    "import pytorch_lightning as pl\n",
    "import seaborn as sns\n",
    "import torch\n",
    "import torch.nn.functional as F\n",
    "from pytorch_lightning.callbacks import ModelCheckpoint\n",
    "from pytorch_lightning.callbacks.early_stopping import EarlyStopping\n",
    "from pytorch_lightning.loggers import TensorBoardLogger\n",
    "from sklearn.metrics import ConfusionMatrixDisplay\n",
    "from sklearn.model_selection import StratifiedKFold, train_test_split\n",
    "from sklearn.preprocessing import MinMaxScaler\n",
    "from sklearn.utils.class_weight import compute_class_weight\n",
    "\n",
    "# Own classes and functions\n",
    "from neuralnet import NeuralNet, load_best_model\n",
    "from utils import DataModule, compute_metrics"
   ]
  },
  {
   "cell_type": "code",
   "execution_count": 2,
   "id": "6ae4e9c8-eff3-431a-9d8c-3f3919f94e78",
   "metadata": {},
   "outputs": [],
   "source": [
    "logging.getLogger(\"pytorch_lightning\").setLevel(logging.WARNING)"
   ]
  },
  {
   "cell_type": "code",
   "execution_count": 3,
   "id": "6d844282-a292-4564-a91c-52225d404179",
   "metadata": {
    "tags": []
   },
   "outputs": [
    {
     "data": {
      "text/plain": [
       "42"
      ]
     },
     "execution_count": 3,
     "metadata": {},
     "output_type": "execute_result"
    }
   ],
   "source": [
    "RANDOM_SEED = 42\n",
    "pl.seed_everything(RANDOM_SEED, workers=True)"
   ]
  },
  {
   "cell_type": "code",
   "execution_count": 4,
   "id": "c19c2be7-dae0-4cd3-a962-a81bf81a952b",
   "metadata": {},
   "outputs": [
    {
     "data": {
      "text/plain": [
       "device(type='cpu')"
      ]
     },
     "execution_count": 4,
     "metadata": {},
     "output_type": "execute_result"
    }
   ],
   "source": [
    "# device = torch.device(\"cuda\" if torch.cuda.is_available() else \"cpu\")\n",
    "device = torch.device(\"cpu\")\n",
    "device"
   ]
  },
  {
   "cell_type": "markdown",
   "id": "efb875a5-27c3-44cd-972b-239a85a220d1",
   "metadata": {},
   "source": [
    "---\n",
    "<a id='data-prep'></a>"
   ]
  },
  {
   "cell_type": "markdown",
   "id": "219a6311-f408-4997-bcd4-e84bd851164b",
   "metadata": {},
   "source": [
    "## 1. Data preparation"
   ]
  },
  {
   "cell_type": "code",
   "execution_count": 5,
   "id": "b343883b-b500-4e8d-ac98-d806b9966bdc",
   "metadata": {
    "tags": []
   },
   "outputs": [
    {
     "name": "stderr",
     "output_type": "stream",
     "text": [
      "C:\\Users\\j56857\\AppData\\Local\\Temp\\ipykernel_23284\\3303151036.py:1: DtypeWarning: Columns (5,6) have mixed types. Specify dtype option on import or set low_memory=False.\n",
      "  data_raw = pd.read_csv(\"data/codon_usage.csv\", sep=\",\")\n"
     ]
    }
   ],
   "source": [
    "data_raw = pd.read_csv(\"data/codon_usage.csv\", sep=\",\")"
   ]
  },
  {
   "cell_type": "code",
   "execution_count": 6,
   "id": "cb775ba8-8906-4bea-8c1b-06b891a72fc2",
   "metadata": {},
   "outputs": [],
   "source": [
    "# I removed the steps to identify the invalid rows to make the code more concise\n",
    "# The CSV indices start at 1, while pandas start 0\n",
    "bad_rows = [\n",
    "    data_raw[data_raw[\"UUU\"] == \"non-B hepatitis virus\"].index[0] + 1,\n",
    "    data_raw[data_raw[\"UUU\"] == \"12;I\"].index[0] + 1,\n",
    "]\n",
    "data_raw = pd.read_csv(\"data/codon_usage.csv\", sep=\",\", skiprows=bad_rows)"
   ]
  },
  {
   "cell_type": "code",
   "execution_count": 7,
   "id": "9c262eae-9654-47ad-bcb6-9f670816c9a7",
   "metadata": {},
   "outputs": [
    {
     "data": {
      "text/plain": [
       "(array(['arc', 'bct', 'inv', 'mam', 'phg', 'plm', 'pln', 'pri', 'rod',\n",
       "        'vrl', 'vrt'], dtype=object),\n",
       " 11)"
      ]
     },
     "execution_count": 7,
     "metadata": {},
     "output_type": "execute_result"
    }
   ],
   "source": [
    "kingdom = data_raw[\"Kingdom\"]\n",
    "np.sort(kingdom.unique()), kingdom.unique().size"
   ]
  },
  {
   "cell_type": "code",
   "execution_count": 8,
   "id": "04bc50a2-a473-487f-83d8-338bf2d23f45",
   "metadata": {},
   "outputs": [],
   "source": [
    "data_king = data_raw.copy(deep=True)"
   ]
  },
  {
   "cell_type": "code",
   "execution_count": 9,
   "id": "307bf4ec-a770-440b-9146-b7929c670bf0",
   "metadata": {},
   "outputs": [
    {
     "data": {
      "text/html": [
       "<div>\n",
       "<style scoped>\n",
       "    .dataframe tbody tr th:only-of-type {\n",
       "        vertical-align: middle;\n",
       "    }\n",
       "\n",
       "    .dataframe tbody tr th {\n",
       "        vertical-align: top;\n",
       "    }\n",
       "\n",
       "    .dataframe thead th {\n",
       "        text-align: right;\n",
       "    }\n",
       "</style>\n",
       "<table border=\"1\" class=\"dataframe\">\n",
       "  <thead>\n",
       "    <tr style=\"text-align: right;\">\n",
       "      <th></th>\n",
       "      <th>Kingdom</th>\n",
       "      <th>DNAtype</th>\n",
       "      <th>SpeciesID</th>\n",
       "      <th>Ncodons</th>\n",
       "      <th>SpeciesName</th>\n",
       "      <th>UUU</th>\n",
       "      <th>UUC</th>\n",
       "      <th>UUA</th>\n",
       "      <th>UUG</th>\n",
       "      <th>CUU</th>\n",
       "      <th>...</th>\n",
       "      <th>CGG</th>\n",
       "      <th>AGA</th>\n",
       "      <th>AGG</th>\n",
       "      <th>GAU</th>\n",
       "      <th>GAC</th>\n",
       "      <th>GAA</th>\n",
       "      <th>GAG</th>\n",
       "      <th>UAA</th>\n",
       "      <th>UAG</th>\n",
       "      <th>UGA</th>\n",
       "    </tr>\n",
       "    <tr>\n",
       "      <th>Kingdom_num</th>\n",
       "      <th></th>\n",
       "      <th></th>\n",
       "      <th></th>\n",
       "      <th></th>\n",
       "      <th></th>\n",
       "      <th></th>\n",
       "      <th></th>\n",
       "      <th></th>\n",
       "      <th></th>\n",
       "      <th></th>\n",
       "      <th></th>\n",
       "      <th></th>\n",
       "      <th></th>\n",
       "      <th></th>\n",
       "      <th></th>\n",
       "      <th></th>\n",
       "      <th></th>\n",
       "      <th></th>\n",
       "      <th></th>\n",
       "      <th></th>\n",
       "      <th></th>\n",
       "    </tr>\n",
       "  </thead>\n",
       "  <tbody>\n",
       "    <tr>\n",
       "      <th>0</th>\n",
       "      <td>2831</td>\n",
       "      <td>2831</td>\n",
       "      <td>2831</td>\n",
       "      <td>2831</td>\n",
       "      <td>2831</td>\n",
       "      <td>2831</td>\n",
       "      <td>2831</td>\n",
       "      <td>2831</td>\n",
       "      <td>2831</td>\n",
       "      <td>2831</td>\n",
       "      <td>...</td>\n",
       "      <td>2831</td>\n",
       "      <td>2831</td>\n",
       "      <td>2831</td>\n",
       "      <td>2831</td>\n",
       "      <td>2831</td>\n",
       "      <td>2831</td>\n",
       "      <td>2831</td>\n",
       "      <td>2831</td>\n",
       "      <td>2831</td>\n",
       "      <td>2831</td>\n",
       "    </tr>\n",
       "    <tr>\n",
       "      <th>1</th>\n",
       "      <td>126</td>\n",
       "      <td>126</td>\n",
       "      <td>126</td>\n",
       "      <td>126</td>\n",
       "      <td>126</td>\n",
       "      <td>126</td>\n",
       "      <td>126</td>\n",
       "      <td>126</td>\n",
       "      <td>126</td>\n",
       "      <td>126</td>\n",
       "      <td>...</td>\n",
       "      <td>126</td>\n",
       "      <td>126</td>\n",
       "      <td>126</td>\n",
       "      <td>126</td>\n",
       "      <td>126</td>\n",
       "      <td>126</td>\n",
       "      <td>126</td>\n",
       "      <td>126</td>\n",
       "      <td>126</td>\n",
       "      <td>126</td>\n",
       "    </tr>\n",
       "    <tr>\n",
       "      <th>2</th>\n",
       "      <td>2919</td>\n",
       "      <td>2919</td>\n",
       "      <td>2919</td>\n",
       "      <td>2919</td>\n",
       "      <td>2919</td>\n",
       "      <td>2919</td>\n",
       "      <td>2919</td>\n",
       "      <td>2919</td>\n",
       "      <td>2919</td>\n",
       "      <td>2919</td>\n",
       "      <td>...</td>\n",
       "      <td>2919</td>\n",
       "      <td>2919</td>\n",
       "      <td>2919</td>\n",
       "      <td>2919</td>\n",
       "      <td>2919</td>\n",
       "      <td>2919</td>\n",
       "      <td>2919</td>\n",
       "      <td>2919</td>\n",
       "      <td>2919</td>\n",
       "      <td>2919</td>\n",
       "    </tr>\n",
       "    <tr>\n",
       "      <th>3</th>\n",
       "      <td>220</td>\n",
       "      <td>220</td>\n",
       "      <td>220</td>\n",
       "      <td>220</td>\n",
       "      <td>220</td>\n",
       "      <td>220</td>\n",
       "      <td>220</td>\n",
       "      <td>220</td>\n",
       "      <td>220</td>\n",
       "      <td>220</td>\n",
       "      <td>...</td>\n",
       "      <td>220</td>\n",
       "      <td>220</td>\n",
       "      <td>220</td>\n",
       "      <td>220</td>\n",
       "      <td>220</td>\n",
       "      <td>220</td>\n",
       "      <td>220</td>\n",
       "      <td>220</td>\n",
       "      <td>220</td>\n",
       "      <td>220</td>\n",
       "    </tr>\n",
       "    <tr>\n",
       "      <th>4</th>\n",
       "      <td>18</td>\n",
       "      <td>18</td>\n",
       "      <td>18</td>\n",
       "      <td>18</td>\n",
       "      <td>18</td>\n",
       "      <td>18</td>\n",
       "      <td>18</td>\n",
       "      <td>18</td>\n",
       "      <td>18</td>\n",
       "      <td>18</td>\n",
       "      <td>...</td>\n",
       "      <td>18</td>\n",
       "      <td>18</td>\n",
       "      <td>18</td>\n",
       "      <td>18</td>\n",
       "      <td>18</td>\n",
       "      <td>18</td>\n",
       "      <td>18</td>\n",
       "      <td>18</td>\n",
       "      <td>18</td>\n",
       "      <td>18</td>\n",
       "    </tr>\n",
       "    <tr>\n",
       "      <th>5</th>\n",
       "      <td>2523</td>\n",
       "      <td>2523</td>\n",
       "      <td>2523</td>\n",
       "      <td>2523</td>\n",
       "      <td>2523</td>\n",
       "      <td>2523</td>\n",
       "      <td>2523</td>\n",
       "      <td>2523</td>\n",
       "      <td>2523</td>\n",
       "      <td>2523</td>\n",
       "      <td>...</td>\n",
       "      <td>2523</td>\n",
       "      <td>2523</td>\n",
       "      <td>2523</td>\n",
       "      <td>2523</td>\n",
       "      <td>2523</td>\n",
       "      <td>2523</td>\n",
       "      <td>2523</td>\n",
       "      <td>2523</td>\n",
       "      <td>2523</td>\n",
       "      <td>2523</td>\n",
       "    </tr>\n",
       "    <tr>\n",
       "      <th>6</th>\n",
       "      <td>1345</td>\n",
       "      <td>1345</td>\n",
       "      <td>1345</td>\n",
       "      <td>1345</td>\n",
       "      <td>1345</td>\n",
       "      <td>1345</td>\n",
       "      <td>1345</td>\n",
       "      <td>1345</td>\n",
       "      <td>1345</td>\n",
       "      <td>1345</td>\n",
       "      <td>...</td>\n",
       "      <td>1345</td>\n",
       "      <td>1345</td>\n",
       "      <td>1345</td>\n",
       "      <td>1345</td>\n",
       "      <td>1345</td>\n",
       "      <td>1345</td>\n",
       "      <td>1345</td>\n",
       "      <td>1345</td>\n",
       "      <td>1345</td>\n",
       "      <td>1345</td>\n",
       "    </tr>\n",
       "    <tr>\n",
       "      <th>7</th>\n",
       "      <td>2077</td>\n",
       "      <td>2077</td>\n",
       "      <td>2077</td>\n",
       "      <td>2077</td>\n",
       "      <td>2077</td>\n",
       "      <td>2077</td>\n",
       "      <td>2077</td>\n",
       "      <td>2077</td>\n",
       "      <td>2077</td>\n",
       "      <td>2077</td>\n",
       "      <td>...</td>\n",
       "      <td>2077</td>\n",
       "      <td>2077</td>\n",
       "      <td>2077</td>\n",
       "      <td>2077</td>\n",
       "      <td>2077</td>\n",
       "      <td>2077</td>\n",
       "      <td>2077</td>\n",
       "      <td>2077</td>\n",
       "      <td>2077</td>\n",
       "      <td>2077</td>\n",
       "    </tr>\n",
       "    <tr>\n",
       "      <th>8</th>\n",
       "      <td>572</td>\n",
       "      <td>572</td>\n",
       "      <td>572</td>\n",
       "      <td>572</td>\n",
       "      <td>572</td>\n",
       "      <td>572</td>\n",
       "      <td>572</td>\n",
       "      <td>572</td>\n",
       "      <td>572</td>\n",
       "      <td>572</td>\n",
       "      <td>...</td>\n",
       "      <td>572</td>\n",
       "      <td>572</td>\n",
       "      <td>572</td>\n",
       "      <td>572</td>\n",
       "      <td>572</td>\n",
       "      <td>572</td>\n",
       "      <td>572</td>\n",
       "      <td>572</td>\n",
       "      <td>572</td>\n",
       "      <td>572</td>\n",
       "    </tr>\n",
       "    <tr>\n",
       "      <th>9</th>\n",
       "      <td>215</td>\n",
       "      <td>215</td>\n",
       "      <td>215</td>\n",
       "      <td>215</td>\n",
       "      <td>215</td>\n",
       "      <td>215</td>\n",
       "      <td>215</td>\n",
       "      <td>215</td>\n",
       "      <td>215</td>\n",
       "      <td>215</td>\n",
       "      <td>...</td>\n",
       "      <td>215</td>\n",
       "      <td>215</td>\n",
       "      <td>215</td>\n",
       "      <td>215</td>\n",
       "      <td>215</td>\n",
       "      <td>215</td>\n",
       "      <td>215</td>\n",
       "      <td>215</td>\n",
       "      <td>215</td>\n",
       "      <td>215</td>\n",
       "    </tr>\n",
       "    <tr>\n",
       "      <th>10</th>\n",
       "      <td>180</td>\n",
       "      <td>180</td>\n",
       "      <td>180</td>\n",
       "      <td>180</td>\n",
       "      <td>180</td>\n",
       "      <td>180</td>\n",
       "      <td>180</td>\n",
       "      <td>180</td>\n",
       "      <td>180</td>\n",
       "      <td>180</td>\n",
       "      <td>...</td>\n",
       "      <td>180</td>\n",
       "      <td>180</td>\n",
       "      <td>180</td>\n",
       "      <td>180</td>\n",
       "      <td>180</td>\n",
       "      <td>180</td>\n",
       "      <td>180</td>\n",
       "      <td>180</td>\n",
       "      <td>180</td>\n",
       "      <td>180</td>\n",
       "    </tr>\n",
       "  </tbody>\n",
       "</table>\n",
       "<p>11 rows × 69 columns</p>\n",
       "</div>"
      ],
      "text/plain": [
       "             Kingdom  DNAtype  SpeciesID  Ncodons  SpeciesName   UUU   UUC  \\\n",
       "Kingdom_num                                                                  \n",
       "0               2831     2831       2831     2831         2831  2831  2831   \n",
       "1                126      126        126      126          126   126   126   \n",
       "2               2919     2919       2919     2919         2919  2919  2919   \n",
       "3                220      220        220      220          220   220   220   \n",
       "4                 18       18         18       18           18    18    18   \n",
       "5               2523     2523       2523     2523         2523  2523  2523   \n",
       "6               1345     1345       1345     1345         1345  1345  1345   \n",
       "7               2077     2077       2077     2077         2077  2077  2077   \n",
       "8                572      572        572      572          572   572   572   \n",
       "9                215      215        215      215          215   215   215   \n",
       "10               180      180        180      180          180   180   180   \n",
       "\n",
       "              UUA   UUG   CUU  ...   CGG   AGA   AGG   GAU   GAC   GAA   GAG  \\\n",
       "Kingdom_num                    ...                                             \n",
       "0            2831  2831  2831  ...  2831  2831  2831  2831  2831  2831  2831   \n",
       "1             126   126   126  ...   126   126   126   126   126   126   126   \n",
       "2            2919  2919  2919  ...  2919  2919  2919  2919  2919  2919  2919   \n",
       "3             220   220   220  ...   220   220   220   220   220   220   220   \n",
       "4              18    18    18  ...    18    18    18    18    18    18    18   \n",
       "5            2523  2523  2523  ...  2523  2523  2523  2523  2523  2523  2523   \n",
       "6            1345  1345  1345  ...  1345  1345  1345  1345  1345  1345  1345   \n",
       "7            2077  2077  2077  ...  2077  2077  2077  2077  2077  2077  2077   \n",
       "8             572   572   572  ...   572   572   572   572   572   572   572   \n",
       "9             215   215   215  ...   215   215   215   215   215   215   215   \n",
       "10            180   180   180  ...   180   180   180   180   180   180   180   \n",
       "\n",
       "              UAA   UAG   UGA  \n",
       "Kingdom_num                    \n",
       "0            2831  2831  2831  \n",
       "1             126   126   126  \n",
       "2            2919  2919  2919  \n",
       "3             220   220   220  \n",
       "4              18    18    18  \n",
       "5            2523  2523  2523  \n",
       "6            1345  1345  1345  \n",
       "7            2077  2077  2077  \n",
       "8             572   572   572  \n",
       "9             215   215   215  \n",
       "10            180   180   180  \n",
       "\n",
       "[11 rows x 69 columns]"
      ]
     },
     "execution_count": 9,
     "metadata": {},
     "output_type": "execute_result"
    }
   ],
   "source": [
    "condition = []\n",
    "choices = []\n",
    "# Setup conditions and choices\n",
    "for count, key in enumerate(kingdom.unique()):\n",
    "    condition.append(data_raw[\"Kingdom\"] == key)  # unique kingdom 3-letter codes\n",
    "    choices.append(count)  # integer now assigned to kingdom\n",
    "\n",
    "data_king[\"Kingdom_num\"] = np.select(condition, choices)\n",
    "data_king.groupby(\"Kingdom_num\").count()"
   ]
  },
  {
   "cell_type": "code",
   "execution_count": 10,
   "id": "8f471fc4-26f8-4530-98ee-89f6e1b491e6",
   "metadata": {},
   "outputs": [],
   "source": [
    "labels = [\"Kingdom_num\"]\n",
    "complete_data = data_king.iloc[:, 5:]\n",
    "final_data = data_king.iloc[:, 5:].drop(labels, axis=1)\n",
    "targets = data_king.loc[:, labels]"
   ]
  },
  {
   "cell_type": "markdown",
   "id": "87d98730-fa67-4cf2-a136-0455839786d2",
   "metadata": {},
   "source": [
    "---\n",
    "<a id='parameters'></a>"
   ]
  },
  {
   "cell_type": "markdown",
   "id": "88f4244e-27b7-4193-bfbd-b2126c9d0085",
   "metadata": {},
   "source": [
    "## 2. Parameters"
   ]
  },
  {
   "cell_type": "code",
   "execution_count": 11,
   "id": "991fa5be-8104-456e-a10d-6547cd71b929",
   "metadata": {},
   "outputs": [],
   "source": [
    "# Parameters\n",
    "feature_n = final_data.shape[1]\n",
    "classes_n = len(targets.drop_duplicates(subset=labels))\n",
    "num_epochs = 75\n",
    "test_size = 0.3\n",
    "val_size = 0.2\n",
    "core_n = psutil.cpu_count(logical=False)\n",
    "if core_n > 1:\n",
    "    core_n = core_n - 1"
   ]
  },
  {
   "cell_type": "markdown",
   "id": "1ce3eafc-7803-40b0-bc30-45d3f3a6836a",
   "metadata": {},
   "source": [
    "---\n",
    "<a id='split'></a>"
   ]
  },
  {
   "cell_type": "markdown",
   "id": "e52933ec-e3bb-47f4-be2e-216e90d59c81",
   "metadata": {},
   "source": [
    "## 3. Split Data"
   ]
  },
  {
   "cell_type": "code",
   "execution_count": 12,
   "id": "e15ca746-0446-49b8-9b5c-8467bcc11c95",
   "metadata": {},
   "outputs": [],
   "source": [
    "DF_train_full, DF_test = train_test_split(\n",
    "    complete_data,\n",
    "    test_size=test_size,\n",
    "    shuffle=True,\n",
    "    random_state=RANDOM_SEED,\n",
    "    stratify=targets,\n",
    ")"
   ]
  },
  {
   "cell_type": "code",
   "execution_count": 13,
   "id": "10a2d724-1b0a-4a39-8802-a1b790952ebd",
   "metadata": {},
   "outputs": [],
   "source": [
    "DF_train, DF_val, = train_test_split(\n",
    "    DF_train_full,\n",
    "    test_size=val_size,\n",
    "    shuffle=True,\n",
    "    random_state=RANDOM_SEED,\n",
    "    stratify=DF_train_full[labels],\n",
    ")"
   ]
  },
  {
   "cell_type": "code",
   "execution_count": 14,
   "id": "a5d0514e-e6a8-466b-8a86-8abc8418bda3",
   "metadata": {},
   "outputs": [
    {
     "name": "stdout",
     "output_type": "stream",
     "text": [
      "train_data:\t size 7294\n",
      "val_data:\t size 1824\n",
      "test_data:\t size 3908\n"
     ]
    }
   ],
   "source": [
    "df_dict = {\"train\": DF_train, \"val\": DF_val, \"test\": DF_test}\n",
    "for key, df_ in df_dict.items():\n",
    "    print(f\"{key}_data:\\t size {df_.shape[0]:>3}\")"
   ]
  },
  {
   "cell_type": "code",
   "execution_count": 15,
   "id": "3f881d11-59b6-4384-911e-3cc94b7382c6",
   "metadata": {},
   "outputs": [
    {
     "data": {
      "image/png": "[encoded data removed]",
      "text/plain": [
       "<Figure size 1440x480 with 3 Axes>"
      ]
     },
     "metadata": {
      "needs_background": "light"
     },
     "output_type": "display_data"
    }
   ],
   "source": [
    "fig, axes = plt.subplots(1, 3, figsize=(18, 6), dpi=80)\n",
    "for ax, (key, df_) in enumerate(df_dict.items()):\n",
    "    sns.countplot(data=df_, x=labels[0], ax=axes[ax])\n",
    "    axes[ax].set(title=f\"{key}_data class distribution\")\n",
    "    plt.plot()"
   ]
  },
  {
   "cell_type": "markdown",
   "id": "e908d668-416b-4979-9675-6bb3a0e09a0e",
   "metadata": {},
   "source": [
    "---\n",
    "<a id='model-setup'></a>"
   ]
  },
  {
   "cell_type": "markdown",
   "id": "96d331f6-088f-4ef5-b3e9-d219c8efac0f",
   "metadata": {},
   "source": [
    "## 4. Model setup and Hyperparameter Optimization\n",
    "<a id='NN'></a>\n",
    "### 4.1 Neural Network"
   ]
  },
  {
   "cell_type": "code",
   "execution_count": 16,
   "id": "9ab03004-41cc-428a-8277-896a9a4a296a",
   "metadata": {},
   "outputs": [
    {
     "data": {
      "text/html": [
       "\n",
       "      <iframe id=\"tensorboard-frame-1c80317fa3b1799d\" width=\"100%\" height=\"800\" frameborder=\"0\">\n",
       "      </iframe>\n",
       "      <script>\n",
       "        (function() {\n",
       "          const frame = document.getElementById(\"tensorboard-frame-1c80317fa3b1799d\");\n",
       "          const url = new URL(\"/\", window.location);\n",
       "          const port = 6006;\n",
       "          if (port) {\n",
       "            url.port = port;\n",
       "          }\n",
       "          frame.src = url;\n",
       "        })();\n",
       "      </script>\n",
       "    "
      ],
      "text/plain": [
       "<IPython.core.display.HTML object>"
      ]
     },
     "metadata": {},
     "output_type": "display_data"
    }
   ],
   "source": [
    "%load_ext tensorboard\n",
    "%tensorboard --logdir ./logs/ --host localhost"
   ]
  },
  {
   "cell_type": "code",
   "execution_count": 17,
   "id": "8bef609c-64d2-4321-b800-2d37b1b5e50d",
   "metadata": {},
   "outputs": [],
   "source": [
    "def train_codons(\n",
    "    df_train,\n",
    "    df_val,\n",
    "    df_test,\n",
    "    layer_count,\n",
    "    lr,\n",
    "    batch_size,\n",
    "    num_epochs=10,\n",
    "    core_n=1,\n",
    "    weights=None,\n",
    "    dev=False,\n",
    "    cv=None,\n",
    "):\n",
    "    pl.seed_everything(RANDOM_SEED, workers=True)\n",
    "    data_module = DataModule(\n",
    "        train_df=df_train,\n",
    "        test_df=df_test,\n",
    "        val_df=df_val,\n",
    "        classes=labels,\n",
    "        num_workers=core_n,\n",
    "        batch_size=batch_size,\n",
    "        device=device,\n",
    "    )\n",
    "    model = NeuralNet(\n",
    "        feature_n, classes_n, lr, layer_count=layer_count, weights=weights, device=device\n",
    "    )\n",
    "    if weights is not None:\n",
    "        w_ind = True\n",
    "    else:\n",
    "        w_ind = False\n",
    "    logger = TensorBoardLogger(\n",
    "        save_dir=\"logs\",\n",
    "        name=\"DL-Exam2\",\n",
    "        version=f\"layer={layer_count}-lr={lr}-batchsize={batch_size}-cv={cv}-weights={w_ind}\",\n",
    "    )\n",
    "    checkpoint_callback = ModelCheckpoint(\n",
    "        filename=\"best-checkpoint\",\n",
    "        save_top_k=1,\n",
    "        monitor=\"val_loss\",\n",
    "        mode=\"min\",\n",
    "    )\n",
    "    stop_callback = EarlyStopping(monitor=\"val_loss\", mode=\"min\", verbose=False, patience=15)\n",
    "    callbacks = [checkpoint_callback, stop_callback]\n",
    "    if device.type == \"cuda\":\n",
    "        cuda_kwargs = {\"accelerator\": \"gpu\", \"devices\": 1}\n",
    "    else:\n",
    "        cuda_kwargs = dict()\n",
    "    trainer = pl.Trainer(\n",
    "        max_epochs=num_epochs,\n",
    "        logger=logger,\n",
    "        log_every_n_steps=20,\n",
    "        callbacks=callbacks,\n",
    "        fast_dev_run=dev,\n",
    "        enable_progress_bar=False,\n",
    "        enable_model_summary=False,\n",
    "        **cuda_kwargs,\n",
    "    )\n",
    "    trainer.fit(model, data_module)\n",
    "    params = {\n",
    "            \"hidden_layer\": layer_count,\n",
    "            \"learning_rate\": lr,\n",
    "            \"batch_size\": batch_size,\n",
    "            \"fold\": cv,\n",
    "            \"weights\": w_ind,\n",
    "        }\n",
    "    if dev:\n",
    "        return {**params}\n",
    "    else:\n",
    "        val_res = trainer.validate(datamodule=data_module, verbose=False, ckpt_path=\"best\")\n",
    "        test_res = trainer.test(datamodule=data_module, verbose=False, ckpt_path=\"best\")\n",
    "        \n",
    "        return {**params, **val_res[0], **test_res[0]}"
   ]
  },
  {
   "cell_type": "code",
   "execution_count": 18,
   "id": "907ac6d6-65c7-4ae7-b8ed-786ce5023866",
   "metadata": {},
   "outputs": [],
   "source": [
    "def hp_optimization(config, df_train, df_val, df_test, num_epochs, dev=False, cv=None):\n",
    "    runs = list()\n",
    "    param_count = 0\n",
    "    for zdx in range(len(config[\"hidden_layer\"])):\n",
    "        for xdx in range(len(config[\"learning_rate\"])):\n",
    "            for ydx in range(len(config[\"batch_size\"])):\n",
    "                for wdx in range(len(config[\"weights\"])):\n",
    "                    layer_count = config[\"hidden_layer\"][zdx]\n",
    "                    lr = config[\"learning_rate\"][xdx]\n",
    "                    batch_size = config[\"batch_size\"][ydx]\n",
    "                    weights = config[\"weights\"][wdx]\n",
    "                    if weights is not None:\n",
    "                        w_ind = True\n",
    "                    else:\n",
    "                        w_ind = False\n",
    "                    start = timer()\n",
    "                    runs.append(\n",
    "                        train_codons(\n",
    "                            df_train=df_train,\n",
    "                            df_val=df_val,\n",
    "                            df_test=df_test,\n",
    "                            layer_count=layer_count,\n",
    "                            lr=lr,\n",
    "                            batch_size=batch_size,\n",
    "                            num_epochs=num_epochs,\n",
    "                            core_n=core_n,\n",
    "                            weights=weights,\n",
    "                            dev=dev,\n",
    "                            cv=cv,\n",
    "                        )\n",
    "                    )\n",
    "                    param_count += 1\n",
    "                    model_train_time = timer() - start\n",
    "                    print(\n",
    "                        f\"Finished training of the HP-combination: {param_count:02d} - fold: {cv}\\n\"\n",
    "                        f\"Trained on hidden layers: {layer_count:>2} learning-rate: {lr:.4f} batch-size: {batch_size:>3} weights:{w_ind}\\n\"\n",
    "                        f\"Training time: {str(timedelta(seconds=model_train_time))}\"\n",
    "                    )\n",
    "    return runs"
   ]
  },
  {
   "cell_type": "code",
   "execution_count": 19,
   "id": "ee351189-d9c9-4bb7-af05-f9e00f94246e",
   "metadata": {},
   "outputs": [],
   "source": [
    "def combine_to_df(left_array, right_array, labels):\n",
    "    df = pd.merge(\n",
    "        pd.DataFrame(left_array).iloc[:, :-1],\n",
    "        right_array.reset_index().drop(columns=\"index\")[labels],\n",
    "        left_index=True,\n",
    "        right_index=True,\n",
    "    )\n",
    "    return df"
   ]
  },
  {
   "cell_type": "markdown",
   "id": "7cebb3ab-3bed-4d33-a962-a722bae1bcbd",
   "metadata": {},
   "source": [
    "<a id='CV'></a>\n",
    "### 4.2 Cross-Validation"
   ]
  },
  {
   "cell_type": "code",
   "execution_count": 20,
   "id": "94c256bb-ab78-4447-848e-af5bf944ae8d",
   "metadata": {},
   "outputs": [],
   "source": [
    "skf = StratifiedKFold(n_splits=5, shuffle=True, random_state=RANDOM_SEED)"
   ]
  },
  {
   "cell_type": "code",
   "execution_count": 21,
   "id": "0f88940e-be15-4a82-ab09-8266b4824d65",
   "metadata": {},
   "outputs": [],
   "source": [
    "king_weights = compute_class_weight(\n",
    "    class_weight=\"balanced\",\n",
    "    classes=targets.drop_duplicates(subset=labels).iloc[:, 0],\n",
    "    y=targets.iloc[:, 0].ravel(),\n",
    ")\n",
    "king_weights_t = torch.Tensor(king_weights)"
   ]
  },
  {
   "cell_type": "code",
   "execution_count": null,
   "id": "5c1cd700-557b-4e33-a0a3-003f195c50ee",
   "metadata": {},
   "outputs": [
    {
     "name": "stdout",
     "output_type": "stream",
     "text": [
      "Finished training of the HP-combination: 01 - fold: 0\n",
      "Trained on hidden layers:  3 learning-rate: 0.0100 batch-size: 128 weights:False\n",
      "Training time: 0:17:46.040250\n",
      "Finished training of the HP-combination: 02 - fold: 0\n",
      "Trained on hidden layers:  3 learning-rate: 0.0100 batch-size: 128 weights:True\n",
      "Training time: 0:31:35.873606\n",
      "Finished training of the HP-combination: 03 - fold: 0\n",
      "Trained on hidden layers:  3 learning-rate: 0.0010 batch-size: 128 weights:False\n",
      "Training time: 0:37:22.309376\n",
      "Finished training of the HP-combination: 04 - fold: 0\n",
      "Trained on hidden layers:  3 learning-rate: 0.0010 batch-size: 128 weights:True\n",
      "Training time: 0:37:43.179599\n",
      "Finished training of the HP-combination: 01 - fold: 1\n",
      "Trained on hidden layers:  3 learning-rate: 0.0100 batch-size: 128 weights:False\n",
      "Training time: 0:14:53.179611\n",
      "Finished training of the HP-combination: 02 - fold: 1\n",
      "Trained on hidden layers:  3 learning-rate: 0.0100 batch-size: 128 weights:True\n",
      "Training time: 0:33:27.049632\n"
     ]
    }
   ],
   "source": [
    "config = {\n",
    "    \"hidden_layer\": [3],\n",
    "    \"learning_rate\": [1e-2, 1e-3],\n",
    "    \"batch_size\": [128],\n",
    "    \"weights\": [None, king_weights_t],\n",
    "}\n",
    "runs_cv = list()\n",
    "for idx, (train_index, val_index) in enumerate(\n",
    "    skf.split(DF_train_full.drop(columns=labels), DF_train_full[labels])\n",
    "):\n",
    "    X_train, X_val = DF_train_full.iloc[train_index], DF_train_full.iloc[val_index]\n",
    "    scaler = MinMaxScaler()\n",
    "    X_train_sc = scaler.fit_transform(X_train)\n",
    "    X_val_sc = scaler.transform(X_val)\n",
    "    X_test_sc = scaler.transform(DF_test)  # Using initial DF_test because it stays the same\n",
    "\n",
    "    DF_train_sc = combine_to_df(X_train_sc, X_train, labels)\n",
    "    DF_val_sc = combine_to_df(X_val_sc, X_val, labels)\n",
    "    DF_test_sc = combine_to_df(X_test_sc, DF_test, labels)\n",
    "    runs_cv += hp_optimization(\n",
    "        config,\n",
    "        df_train=DF_train_sc,\n",
    "        df_val=DF_val_sc,\n",
    "        df_test=DF_test_sc,\n",
    "        num_epochs=num_epochs,\n",
    "        dev=False,\n",
    "        cv=idx,\n",
    "    )"
   ]
  },
  {
   "cell_type": "code",
   "execution_count": null,
   "id": "2b512b32-22f8-43cb-9d87-104a7541b2ae",
   "metadata": {},
   "outputs": [],
   "source": [
    "pd.DataFrame(runs_cv).head()"
   ]
  },
  {
   "cell_type": "code",
   "execution_count": null,
   "id": "daa47088-dca0-43e0-9609-350a0ca50ccb",
   "metadata": {},
   "outputs": [],
   "source": [
    "pd.DataFrame(runs_cv).to_parquet(path=\"data/cv_hp_optimization\", engine=\"pyarrow\")"
   ]
  },
  {
   "cell_type": "code",
   "execution_count": null,
   "id": "a5b7c6c1-475f-4c6d-a425-62e9385b6cef",
   "metadata": {},
   "outputs": [],
   "source": [
    "cv_hp_result_df = pd.read_parquet(path=\"data/cv_hp_optimization\", engine=\"pyarrow\")"
   ]
  },
  {
   "cell_type": "code",
   "execution_count": null,
   "id": "c99f4015-cf08-4e76-9314-ff1c3f6003b3",
   "metadata": {},
   "outputs": [],
   "source": [
    "cv_hp_results_mean = (\n",
    "    cv_hp_result_df.groupby([\"hidden_layer\", \"learning_rate\", \"batch_size\", \"weights\"])\n",
    "    .mean()\n",
    "    .reset_index()\n",
    ")"
   ]
  },
  {
   "cell_type": "code",
   "execution_count": null,
   "id": "0d92a772-c5b8-4795-a1e7-c26552723385",
   "metadata": {},
   "outputs": [],
   "source": [
    "cv_hp_results_mean"
   ]
  },
  {
   "cell_type": "code",
   "execution_count": null,
   "id": "69501340-9c81-4556-a171-7f6b1618cb2d",
   "metadata": {},
   "outputs": [],
   "source": [
    "cv_hp_results_mean[cv_hp_results_mean[\"val_balanced_accuracy\"] > 0.9].sort_values(\n",
    "    [\"val_balanced_accuracy\", \"val_accuracy\"], ascending=False\n",
    ")"
   ]
  },
  {
   "cell_type": "code",
   "execution_count": null,
   "id": "f68fc021-9f5d-4277-a499-211f37aba266",
   "metadata": {},
   "outputs": [],
   "source": [
    "best_params = cv_hp_results_mean[\n",
    "    cv_hp_results_mean[\"val_balanced_accuracy\"] == cv_hp_results_mean[\"val_balanced_accuracy\"].max()\n",
    "]\n",
    "best_params"
   ]
  },
  {
   "cell_type": "markdown",
   "id": "f99ee455-bd2a-4387-b7ea-cf720b0f7123",
   "metadata": {},
   "source": [
    "---\n",
    "<a id='eval'></a>"
   ]
  },
  {
   "cell_type": "markdown",
   "id": "0ebc48f3-afc8-41f8-b7cc-2b201bb40bd1",
   "metadata": {},
   "source": [
    "## 5. Model Evaluation\n",
    "<a id='eval-king'></a>\n",
    "### 5.1 Kingdom prediction"
   ]
  },
  {
   "cell_type": "code",
   "execution_count": null,
   "id": "36f29ecb-8f9e-483f-b7c5-4bc4af34447f",
   "metadata": {},
   "outputs": [],
   "source": [
    "best_config = best_params.iloc[:1, :].to_dict(\"list\")"
   ]
  },
  {
   "cell_type": "code",
   "execution_count": null,
   "id": "4354a35d-87b5-4024-9161-e258a9124299",
   "metadata": {},
   "outputs": [],
   "source": [
    "# Parameters\n",
    "feature_n = final_data.shape[1]\n",
    "classes_n = len(targets.drop_duplicates(subset=labels))\n",
    "num_epochs = 100  # Now using more epochs\n",
    "test_size = 0.3\n",
    "val_size = 0.2\n",
    "core_n = psutil.cpu_count(logical=False)\n",
    "if core_n > 1:\n",
    "    core_n = core_n - 1"
   ]
  },
  {
   "cell_type": "code",
   "execution_count": null,
   "id": "e0606ed4-df25-4afc-8fa2-446eeb878347",
   "metadata": {},
   "outputs": [],
   "source": [
    "if best_params[\"weights\"].iloc[0]:\n",
    "    king_weights = compute_class_weight(\n",
    "        class_weight=\"balanced\",\n",
    "        classes=targets.drop_duplicates(subset=labels).iloc[:, 0],\n",
    "        y=targets.iloc[:, 0].ravel(),\n",
    "    )\n",
    "    best_config[\"weights\"] = [torch.Tensor(king_weights)]\n",
    "else:\n",
    "    best_config[\"weights\"] = [None]"
   ]
  },
  {
   "cell_type": "code",
   "execution_count": null,
   "id": "dcde03cc-8345-4b57-81d2-c0192d54af73",
   "metadata": {},
   "outputs": [],
   "source": [
    "skf_eval = StratifiedKFold(n_splits=3, shuffle=True, random_state=RANDOM_SEED)"
   ]
  },
  {
   "cell_type": "code",
   "execution_count": null,
   "id": "e8cf1e44-ec17-4d1a-bd55-61fb6d851458",
   "metadata": {},
   "outputs": [],
   "source": [
    "runs_eval = list()\n",
    "king_data = dict()\n",
    "for idx, (train_index, test_index) in enumerate(\n",
    "    skf_eval.split(complete_data.drop(columns=labels), complete_data[labels])\n",
    "):\n",
    "    X_train_full, X_test = complete_data.iloc[train_index], complete_data.iloc[test_index]\n",
    "    X_train, X_val, = train_test_split(\n",
    "        X_train_full,\n",
    "        test_size=val_size,\n",
    "        shuffle=True,\n",
    "        random_state=RANDOM_SEED,\n",
    "        stratify=X_train_full[labels],\n",
    "    )\n",
    "    scaler = MinMaxScaler()\n",
    "    X_train_sc = scaler.fit_transform(X_train)\n",
    "    X_val_sc = scaler.fit_transform(X_val)\n",
    "    X_test_sc = scaler.transform(X_test)\n",
    "\n",
    "    DF_train_sc = combine_to_df(X_train_sc, X_train, labels)\n",
    "    DF_val_sc = combine_to_df(X_val_sc, X_val, labels)\n",
    "    DF_test_sc = combine_to_df(X_test_sc, X_test, labels)\n",
    "    runs_eval += hp_optimization(\n",
    "        best_config,\n",
    "        df_train=DF_train_sc,\n",
    "        df_val=DF_val_sc,\n",
    "        df_test=DF_test_sc,\n",
    "        num_epochs=num_epochs,\n",
    "        dev=False,\n",
    "        cv=f\"final_king_{idx}\",\n",
    "    )\n",
    "    king_data[f\"final_king_{idx}\"] = [DF_train_sc, DF_val_sc, DF_test_sc]"
   ]
  },
  {
   "cell_type": "code",
   "execution_count": null,
   "id": "569a5579-2f12-4337-b77f-f6c26f9e00b5",
   "metadata": {},
   "outputs": [],
   "source": [
    "pd.DataFrame(runs_eval).head()"
   ]
  },
  {
   "cell_type": "code",
   "execution_count": null,
   "id": "2e7ba0c3-4c48-4ce3-a522-d3f800c929a0",
   "metadata": {},
   "outputs": [],
   "source": [
    "pd.DataFrame(runs_eval).to_parquet(path=\"data/eval_king\", engine=\"pyarrow\")"
   ]
  },
  {
   "cell_type": "code",
   "execution_count": null,
   "id": "da45d8e2-d50f-4ca8-9187-e742e6189500",
   "metadata": {},
   "outputs": [],
   "source": [
    "eval_king_result_df = pd.read_parquet(path=\"data/eval_king\", engine=\"pyarrow\")"
   ]
  },
  {
   "cell_type": "code",
   "execution_count": null,
   "id": "2067d404-3e1c-4500-b1d1-c7ef6ecdc413",
   "metadata": {},
   "outputs": [],
   "source": [
    "eval_king_result_df"
   ]
  },
  {
   "cell_type": "code",
   "execution_count": null,
   "id": "5c283505-465a-4a1a-b911-b57e337a293c",
   "metadata": {},
   "outputs": [],
   "source": [
    "best_model_key = \"final_king_1\"\n",
    "best_config = best_params.iloc[:1, :].to_dict(\"list\")\n",
    "best_model = load_best_model(\n",
    "    best_config,\n",
    "    NeuralNet,\n",
    "    feature_n=feature_n,\n",
    "    classes_n=classes_n,\n",
    "    device=device,\n",
    "    cv=best_model_key,\n",
    ")\n",
    "king_res = list()\n",
    "for key, items in king_data.items():\n",
    "    if key == best_model_key:\n",
    "        for res_list in items:\n",
    "            king_res.append(\n",
    "                compute_metrics(\n",
    "                    best_model,\n",
    "                    torch.tensor(res_list.drop(columns=labels).values, dtype=torch.float),\n",
    "                    res_list[labels],\n",
    "                )\n",
    "            )"
   ]
  },
  {
   "cell_type": "code",
   "execution_count": null,
   "id": "fccd49db-9254-4d31-9fa3-9a42d8fc97c3",
   "metadata": {},
   "outputs": [],
   "source": [
    "pd.DataFrame(king_res)"
   ]
  },
  {
   "cell_type": "code",
   "execution_count": null,
   "id": "3bf9a8bb-3245-4520-8a53-cbab8e1fb78c",
   "metadata": {},
   "outputs": [],
   "source": [
    "ConfusionMatrixDisplay(king_res[-1][\"confusion_matrix\"]).plot()\n",
    "plt.show()"
   ]
  },
  {
   "cell_type": "markdown",
   "id": "68614284-4671-4e92-acb0-3b54ecfb6a9f",
   "metadata": {},
   "source": [
    "<a id='eval-dna'></a>\n",
    "### 5.2 DNAtype prediction"
   ]
  },
  {
   "cell_type": "code",
   "execution_count": null,
   "id": "31b4f55e-a1bc-4149-8fe5-c5ed30039487",
   "metadata": {},
   "outputs": [],
   "source": [
    "dnatype = data_raw[\"DNAtype\"]\n",
    "np.sort(dnatype.unique()), dnatype.unique().size"
   ]
  },
  {
   "cell_type": "code",
   "execution_count": null,
   "id": "50a80b81-73d1-46c9-9448-d586bbbd290d",
   "metadata": {},
   "outputs": [],
   "source": [
    "data_dna = data_raw.copy(deep=True)"
   ]
  },
  {
   "cell_type": "code",
   "execution_count": null,
   "id": "997250f7-e47b-4d78-a1a9-f19fb84ded63",
   "metadata": {},
   "outputs": [],
   "source": [
    "condition = []\n",
    "choices = []\n",
    "# Setup conditions and choices\n",
    "for count, key in enumerate(dnatype.unique()):\n",
    "    condition.append(data_raw[\"DNAtype\"] == key)  # unique kingdom 3-letter codes\n",
    "    choices.append(count)  # integer now assigned to kingdom\n",
    "\n",
    "data_dna[\"DNAtype_num\"] = np.select(condition, choices)\n",
    "data_dna.groupby(\"DNAtype_num\").count()"
   ]
  },
  {
   "cell_type": "code",
   "execution_count": null,
   "id": "62badaea-893e-460e-82ff-7f0796d92527",
   "metadata": {},
   "outputs": [],
   "source": [
    "data_drop_dna = data_dna[data_dna[\"DNAtype\"].isin([0, 1, 2, 4])]\n",
    "data_raw[~data_raw[\"DNAtype\"].isin([0, 1, 2, 4])].count()"
   ]
  },
  {
   "cell_type": "code",
   "execution_count": null,
   "id": "949c38e3-8453-419f-9b52-d0df150a68f9",
   "metadata": {},
   "outputs": [],
   "source": [
    "labels = [\"DNAtype_num\"]\n",
    "complete_data = data_drop_dna.iloc[:, 5:]\n",
    "targets = data_drop_dna.loc[:, labels]\n",
    "classes_n = len(targets.drop_duplicates(subset=labels))"
   ]
  },
  {
   "cell_type": "code",
   "execution_count": null,
   "id": "5d28f97e-dd4c-4458-ac83-674f919877ee",
   "metadata": {},
   "outputs": [],
   "source": [
    "DF_train_full, DF_test = train_test_split(\n",
    "    complete_data,\n",
    "    test_size=test_size,\n",
    "    shuffle=True,\n",
    "    random_state=RANDOM_SEED,\n",
    "    stratify=targets,\n",
    ")\n",
    "DF_train, DF_val, = train_test_split(\n",
    "    DF_train_full,\n",
    "    test_size=val_size,\n",
    "    shuffle=True,\n",
    "    random_state=RANDOM_SEED,\n",
    "    stratify=DF_train_full[labels],\n",
    ")"
   ]
  },
  {
   "cell_type": "code",
   "execution_count": null,
   "id": "c9bf0215-1f0e-4aa1-8a85-77cef79842ab",
   "metadata": {},
   "outputs": [],
   "source": [
    "df_dict = {\"train\": DF_train, \"val\": DF_val, \"test\": DF_test}\n",
    "for key, df_ in df_dict.items():\n",
    "    print(f\"{key}_data:\\t size {df_.shape[0]:>3}\")"
   ]
  },
  {
   "cell_type": "code",
   "execution_count": null,
   "id": "eba618d8-7158-4bd1-96fc-9946cbfcd94f",
   "metadata": {},
   "outputs": [],
   "source": [
    "fig, axes = plt.subplots(1, 3, figsize=(18, 6), dpi=80)\n",
    "for ax, (key, df_) in enumerate(df_dict.items()):\n",
    "    sns.countplot(data=df_, x=labels[0], ax=axes[ax])\n",
    "    axes[ax].set(title=f\"{key}_data class distribution\")\n",
    "    plt.plot()"
   ]
  },
  {
   "cell_type": "code",
   "execution_count": null,
   "id": "cfa53e7a-5b1d-42d4-adac-9a24c578d95f",
   "metadata": {},
   "outputs": [],
   "source": [
    "# Adjust labels\n",
    "complete_data[labels] = np.where(complete_data[labels] == 4, 1, complete_data[labels])\n",
    "targets = complete_data.loc[:, labels]"
   ]
  },
  {
   "cell_type": "code",
   "execution_count": null,
   "id": "006a39df-281f-4a17-8f37-b0d835b698a1",
   "metadata": {},
   "outputs": [],
   "source": [
    "# Parameters\n",
    "feature_n = final_data.shape[1]\n",
    "classes_n = len(targets.drop_duplicates(subset=labels))\n",
    "num_epochs = 100  # Now using more epochs\n",
    "test_size = 0.3\n",
    "val_size = 0.2\n",
    "core_n = psutil.cpu_count(logical=False)\n",
    "if core_n > 1:\n",
    "    core_n = core_n - 1"
   ]
  },
  {
   "cell_type": "code",
   "execution_count": null,
   "id": "f3d5e510-2fa6-4d27-b2de-79eafd32a285",
   "metadata": {},
   "outputs": [],
   "source": [
    "best_params"
   ]
  },
  {
   "cell_type": "code",
   "execution_count": null,
   "id": "3b06ca22-2213-42a2-a051-5215b13011ff",
   "metadata": {},
   "outputs": [],
   "source": [
    "if best_params[\"weights\"].iloc[0]:\n",
    "    dna_weights = compute_class_weight(\n",
    "        class_weight=\"balanced\",\n",
    "        classes=targets.drop_duplicates(subset=labels).iloc[:, 0],\n",
    "        y=targets.iloc[:, 0].ravel(),\n",
    "    )\n",
    "    best_config[\"weights\"] = [torch.Tensor(dna_weights)]\n",
    "else:\n",
    "    best_config[\"weights\"] = [None]"
   ]
  },
  {
   "cell_type": "code",
   "execution_count": null,
   "id": "bdcbb76e-d22c-413b-90a5-84f1e2f461f6",
   "metadata": {},
   "outputs": [],
   "source": [
    "runs_eval = list()\n",
    "dna_data = dict()\n",
    "for idx, (train_index, test_index) in enumerate(\n",
    "    skf_eval.split(complete_data.drop(columns=labels), complete_data[labels])\n",
    "):\n",
    "    X_train_full, X_test = complete_data.iloc[train_index], complete_data.iloc[test_index]\n",
    "    X_train, X_val, = train_test_split(\n",
    "        X_train_full,\n",
    "        test_size=val_size,\n",
    "        shuffle=True,\n",
    "        random_state=RANDOM_SEED,\n",
    "        stratify=X_train_full[labels],\n",
    "    )\n",
    "    scaler = MinMaxScaler()\n",
    "    X_train_sc = scaler.fit_transform(X_train)\n",
    "    X_val_sc = scaler.fit_transform(X_val)\n",
    "    X_test_sc = scaler.transform(X_test)\n",
    "\n",
    "    DF_train_sc = combine_to_df(X_train_sc, X_train, labels)\n",
    "    DF_val_sc = combine_to_df(X_val_sc, X_val, labels)\n",
    "    DF_test_sc = combine_to_df(X_test_sc, X_test, labels)\n",
    "    runs_eval += hp_optimization(\n",
    "        best_config,\n",
    "        df_train=DF_train_sc,\n",
    "        df_val=DF_val_sc,\n",
    "        df_test=DF_test_sc,\n",
    "        num_epochs=num_epochs,\n",
    "        dev=False,\n",
    "        cv=f\"final_dna_{idx}\",\n",
    "    )\n",
    "    dna_data[f\"final_dna_{idx}\"] = [DF_train_sc, DF_val_sc, DF_test_sc]"
   ]
  },
  {
   "cell_type": "code",
   "execution_count": null,
   "id": "b6b543ac-2f5e-463a-b158-c0d52468806b",
   "metadata": {},
   "outputs": [],
   "source": [
    "pd.DataFrame(runs_eval).head()"
   ]
  },
  {
   "cell_type": "code",
   "execution_count": null,
   "id": "836b60e9-6713-4183-a04a-ca33fc0dc272",
   "metadata": {},
   "outputs": [],
   "source": [
    "pd.DataFrame(runs_eval).to_parquet(path=\"data/eval_dna\", engine=\"pyarrow\")"
   ]
  },
  {
   "cell_type": "code",
   "execution_count": null,
   "id": "98ba4eee-9674-422b-8927-b89899303cf8",
   "metadata": {},
   "outputs": [],
   "source": [
    "eval_dna_result_df = pd.read_parquet(path=\"data/eval_dna\", engine=\"pyarrow\")"
   ]
  },
  {
   "cell_type": "code",
   "execution_count": null,
   "id": "2de1993a-bebd-4bb5-bff6-f9a08cedab33",
   "metadata": {},
   "outputs": [],
   "source": [
    "eval_dna_result_df"
   ]
  },
  {
   "cell_type": "code",
   "execution_count": null,
   "id": "0366386c-5a25-4585-9483-0ad803398907",
   "metadata": {},
   "outputs": [],
   "source": [
    "best_model_key = \"final_dna_1\"\n",
    "best_config = best_params.iloc[:1, :].to_dict(\"list\")\n",
    "best_model = load_best_model(\n",
    "    best_config,\n",
    "    NeuralNet,\n",
    "    feature_n=feature_n,\n",
    "    classes_n=classes_n,\n",
    "    device=device,\n",
    "    cv=best_model_key,\n",
    ")"
   ]
  },
  {
   "cell_type": "code",
   "execution_count": null,
   "id": "a29f5f85-8fe7-4a46-b481-89260a6d645b",
   "metadata": {},
   "outputs": [],
   "source": [
    "dna_res = list()\n",
    "for key, items in dna_data.items():\n",
    "    if key == best_model_key:\n",
    "        for res_list in items:\n",
    "            dna_res.append(\n",
    "                compute_metrics(\n",
    "                    best_model,\n",
    "                    torch.tensor(res_list.drop(columns=labels).values, dtype=torch.float),\n",
    "                    res_list[labels],\n",
    "                )\n",
    "            )"
   ]
  },
  {
   "cell_type": "code",
   "execution_count": null,
   "id": "d20c5032-83a1-48cc-b5cb-edf0f16f0454",
   "metadata": {},
   "outputs": [],
   "source": [
    "pd.DataFrame(dna_res)"
   ]
  },
  {
   "cell_type": "code",
   "execution_count": null,
   "id": "de0edf35-8760-4c6b-9cf4-488c3ae5991e",
   "metadata": {},
   "outputs": [],
   "source": [
    "ConfusionMatrixDisplay(dna_res[-1][\"confusion_matrix\"]).plot()\n",
    "plt.show()"
   ]
  },
  {
   "cell_type": "markdown",
   "id": "3dbc978b-f510-4c9b-b11a-075baa281a18",
   "metadata": {},
   "source": [
    "---\n",
    "<a id='result'></a>"
   ]
  },
  {
   "cell_type": "markdown",
   "id": "2739560c-68d9-4117-bfc4-d3bf2d7cd4ca",
   "metadata": {},
   "source": [
    "## 6. Result"
   ]
  }
 ],
 "metadata": {
  "kernelspec": {
   "display_name": "Python 3 (ipykernel)",
   "language": "python",
   "name": "python3"
  },
  "language_info": {
   "codemirror_mode": {
    "name": "ipython",
    "version": 3
   },
   "file_extension": ".py",
   "mimetype": "text/x-python",
   "name": "python",
   "nbconvert_exporter": "python",
   "pygments_lexer": "ipython3",
   "version": "3.9.7"
  }
 },
 "nbformat": 4,
 "nbformat_minor": 5
}
